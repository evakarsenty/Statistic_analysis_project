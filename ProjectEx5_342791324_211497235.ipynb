{
  "cells": [
    {
      "cell_type": "markdown",
      "metadata": {
        "id": "EJlcw_Zjfnn_"
      },
      "source": [
        "**Research Question:**\n",
        "\n",
        "We consider the following question from our precedent work: Does the number of contacts performed in this campaign and for a client ('campaign' label) influences the outcome of the marketing campaign ('y' label) ?"
      ]
    },
    {
      "cell_type": "markdown",
      "source": [
        "*Importation of the data:*"
      ],
      "metadata": {
        "id": "tVPIx6dox1aH"
      }
    },
    {
      "cell_type": "code",
      "execution_count": 48,
      "metadata": {
        "id": "m53gqon4fnoC"
      },
      "outputs": [],
      "source": [
        "import pandas\n",
        "import scipy \n",
        "from matplotlib import pyplot as plt\n",
        "import numpy as np\n",
        "import sklearn\n",
        "from sklearn.linear_model import LogisticRegression, LinearRegression\n",
        "\n",
        "data = pandas.read_csv(\"bank-additional-full.csv\",delimiter=';')"
      ]
    },
    {
      "cell_type": "code",
      "execution_count": 49,
      "metadata": {
        "id": "tytfuYSSfnoD"
      },
      "outputs": [],
      "source": [
        "filter1 = data['housing'] != 'unknown'\n",
        "filter2= data['loan'] != 'unknown'\n",
        "filter3 = data['education'] != 'unknown'\n",
        "filter4 = data['job'] != 'unknown'\n",
        "filter5 = data['default'] != 'unknown'\n",
        "\n",
        "temp = data.where(filter1&filter2&filter3&filter4&filter5)\n",
        "dow = {'mon':1,'tue':2,'wed':3,'thu':4,'fri':5}\n",
        "mon = {\"may\":5,\"jun\":6,\"jul\":7,\"aug\":8,\"oct\":10,\"nov\":11,\"dec\":12,\"mar\":3,\"apr\":4,\"sep\":9}\n",
        "temp = temp.dropna()\n",
        "temp['education'] = temp.apply(lambda x: x['education'] in ['professional.course','university.degree'],axis=1)\n",
        "temp['marital'] = temp.apply(lambda x:x['marital'] =='married',axis=1)\n",
        "temp['poutcome'] = temp.apply(lambda x:x['poutcome'] =='success',axis=1)\n",
        "temp['day_of_week'] = temp.apply(lambda x:dow[x['day_of_week']] ,axis=1)\n",
        "temp['month'] = temp.apply(lambda x:mon[x['month']] ,axis=1)\n",
        "temp['default'] = temp.apply(lambda x:x['default']==\"yes\" ,axis=1)\n",
        "temp['housing'] = temp.apply(lambda x:x['housing']==\"yes\" ,axis=1)\n",
        "temp['loan'] = temp.apply(lambda x:x['loan']==\"yes\" ,axis=1)\n",
        "temp['y'] = temp.apply(lambda x:x['y']==\"yes\" ,axis=1)\n",
        "\n",
        "#dropping unwanted columns\n",
        "temp = temp.drop('contact', inplace=False, axis=1)\n",
        "\"\"\"\n",
        "temp = temp.drop('duration', inplace=False, axis=1)\n",
        "temp = temp.drop('emp.var.rate', inplace=False, axis=1)\n",
        "temp = temp.drop('cons.price.idx', inplace=False, axis=1)\n",
        "temp = temp.drop('cons.conf.idx', inplace=False, axis=1)\n",
        "temp = temp.drop('euribor3m', inplace=False, axis=1)\n",
        "temp = temp.drop('nr.employed', inplace=False, axis=1)\n",
        "\"\"\"\n",
        "data = temp\n",
        "#data"
      ]
    },
    {
      "cell_type": "markdown",
      "source": [
        "**Part1: The Bayesian Approach**"
      ],
      "metadata": {
        "id": "noo5hn2zhLpu"
      }
    },
    {
      "cell_type": "markdown",
      "source": [
        "**Q.1**"
      ],
      "metadata": {
        "id": "ZL834ryfgHy1"
      }
    },
    {
      "cell_type": "code",
      "execution_count": 50,
      "metadata": {
        "colab": {
          "base_uri": "https://localhost:8080/"
        },
        "id": "ZEy1n5Z9fnoE",
        "outputId": "0a74ecb0-df31-4ba5-bc9e-69ca2d4c1066"
      },
      "outputs": [
        {
          "output_type": "stream",
          "name": "stderr",
          "text": [
            "<ipython-input-50-08bcd0105e4a>:2: SettingWithCopyWarning: \n",
            "A value is trying to be set on a copy of a slice from a DataFrame.\n",
            "Try using .loc[row_indexer,col_indexer] = value instead\n",
            "\n",
            "See the caveats in the documentation: https://pandas.pydata.org/pandas-docs/stable/user_guide/indexing.html#returning-a-view-versus-a-copy\n",
            "  df['num'] = np.arange(len(df))\n"
          ]
        }
      ],
      "source": [
        "df = data[['campaign','y']]\n",
        "df['num'] = np.arange(len(df))\n",
        "df_sample200 = df.sample(200,random_state=37)\n",
        "df_sample1000 = df.sample(1200,random_state=27)\n",
        "df_sample1000 = pandas.concat([df_sample1000,df_sample200]).drop_duplicates(keep=False).head(1000)\n"
      ]
    },
    {
      "cell_type": "markdown",
      "source": [
        "**Q.2.a: Using Bootstrap method**"
      ],
      "metadata": {
        "id": "7wplu7bRgS-G"
      }
    },
    {
      "cell_type": "code",
      "execution_count": 51,
      "metadata": {
        "id": "ETEMfeN5fnoF"
      },
      "outputs": [],
      "source": [
        "tau = data['campaign'].mean()"
      ]
    },
    {
      "cell_type": "code",
      "execution_count": 52,
      "metadata": {
        "id": "wJqdGYD5fnoF"
      },
      "outputs": [],
      "source": [
        "df_sample200['Z'] = df_sample200.apply(lambda x: 1 if x['campaign'] > tau else 0,axis=1)"
      ]
    },
    {
      "cell_type": "markdown",
      "metadata": {
        "id": "1ZoBz5UGfnoF"
      },
      "source": [
        "P1 = P(z=1| y = 1) \n",
        "<br>\n",
        "p0 = P(z=1| y = 0)"
      ]
    },
    {
      "cell_type": "code",
      "execution_count": 53,
      "metadata": {
        "id": "SV_BFlgTfnoF"
      },
      "outputs": [],
      "source": [
        "df_1 = df_sample200[df_sample200['y'] ==1]\n",
        "df_1_len = len(df_1)\n",
        "df_1 = df_1[df_1['Z'] ==1]\n",
        "df_0 = df_sample200[df_sample200['y'] ==0]\n",
        "df_0_len = len(df_0)\n",
        "df_0 =df_0[df_0['Z']==1]\n",
        "p1 = len(df_1)/df_1_len\n",
        "p0 = len(df_0) / df_0_len\n"
      ]
    },
    {
      "cell_type": "code",
      "execution_count": 54,
      "metadata": {
        "colab": {
          "base_uri": "https://localhost:8080/"
        },
        "id": "_IZrt30NfnoF",
        "outputId": "c05f0eff-cdaa-4348-b5e7-f07819d6ca8e"
      },
      "outputs": [
        {
          "output_type": "stream",
          "name": "stdout",
          "text": [
            "The estimator for psi using Bootsrap method is: 0.028524466709849206\n"
          ]
        }
      ],
      "source": [
        "psi_B_estimator = np.log(p1/(1-p1)) - np.log(p0/(1-p0))\n",
        "print('The estimator for psi using Bootsrap method is:',psi_B_estimator)"
      ]
    },
    {
      "cell_type": "code",
      "execution_count": 55,
      "metadata": {
        "colab": {
          "base_uri": "https://localhost:8080/"
        },
        "id": "WIEqfHxwfnoG",
        "outputId": "7a3fd585-f56b-4752-b10e-d78114a5cd2b"
      },
      "outputs": [
        {
          "output_type": "stream",
          "name": "stderr",
          "text": [
            "<ipython-input-55-c7c896401dcc>:13: RuntimeWarning: divide by zero encountered in log\n",
            "  psi_array.append(np.log(p1/(1-p1)) - np.log(p0/(1-p0)))\n"
          ]
        }
      ],
      "source": [
        "psi_array = []\n",
        "for i in range(1000):\n",
        "    df_sample200_t = data.sample(200)\n",
        "    df_sample200_t['Z'] = df_sample200_t.apply(lambda x: 1 if x['campaign'] > tau else 0,axis=1)\n",
        "    df_1 = df_sample200_t[df_sample200_t['y'] ==1]\n",
        "    df_1_len = len(df_1)\n",
        "    df_1 = df_1[df_1['Z'] ==1]\n",
        "    df_0 = df_sample200_t[df_sample200_t['y'] ==0]\n",
        "    df_0_len = len(df_0)\n",
        "    df_0 =df_0[df_0['Z']==1]\n",
        "    p1 = len(df_1)/df_1_len\n",
        "    p0 = len(df_0) / df_0_len\n",
        "    psi_array.append(np.log(p1/(1-p1)) - np.log(p0/(1-p0)))"
      ]
    },
    {
      "cell_type": "code",
      "execution_count": 56,
      "metadata": {
        "colab": {
          "base_uri": "https://localhost:8080/"
        },
        "id": "XLV3d3hlfnoG",
        "outputId": "4554e2d5-aa5e-4293-9d93-6a38935535e2"
      },
      "outputs": [
        {
          "output_type": "stream",
          "name": "stdout",
          "text": [
            "The Confidence interval for psi based on bootstrap is: [-1.6361283620068907, 0.49108283584719237]\n"
          ]
        }
      ],
      "source": [
        "CI = [np.quantile(psi_array,0.025) , np.quantile(psi_array,0.975)]\n",
        "print('The Confidence interval for psi based on bootstrap is:', CI)"
      ]
    },
    {
      "cell_type": "markdown",
      "source": [
        "**Q.2.b: Using Uniform Prior**"
      ],
      "metadata": {
        "id": "24rf5GlKh2FJ"
      }
    },
    {
      "cell_type": "code",
      "source": [
        "len_df_0 = len(df_0)\n",
        "len_df_1 = len(df_1)\n",
        "z_0 = df_0['Z'] \n",
        "z_1 = df_1['Z'] \n",
        "sum_dfz_0 = z_0.sum()\n",
        "sum_dfz_1 = z_1.sum()"
      ],
      "metadata": {
        "id": "FLArmTGSiAdd"
      },
      "execution_count": 57,
      "outputs": []
    },
    {
      "cell_type": "code",
      "source": [
        "psi_list = []\n",
        "    \n",
        "for b in range(1000):\n",
        "    p1_distribution = np.random.beta(sum_dfz_0+1, len_df_0-sum_dfz_0+1)\n",
        "    eta_distribution_1 = np.log((p1_distribution / (1 - p1_distribution)))\n",
        "    p2_distribution = np.random.beta(sum_dfz_1+1, len_df_1-sum_dfz_1+1)\n",
        "    eta_distribution_2 = np.log((p2_distribution / (1 - p2_distribution)))\n",
        "    psi_dsitribution = eta_distribution_1 - eta_distribution_2\n",
        "    psi_list.append(psi_dsitribution)\n",
        "    "
      ],
      "metadata": {
        "id": "wX4D4nNewgs_"
      },
      "execution_count": 58,
      "outputs": []
    },
    {
      "cell_type": "code",
      "source": [
        "psi_estimator = np.sum(psi_list) / 1000\n",
        "print('The estimator of psi is:', psi_estimator)\n",
        "\n",
        "quantile_1 = np.quantile(psi_list,(0.05 / 2))\n",
        "quantile_2 = np.quantile(psi_list,(1 - 0.05 / 2))\n",
        "print(\"The Credible Interval using uniform prior is: [\", quantile_1, ',', quantile_2, ']') "
      ],
      "metadata": {
        "colab": {
          "base_uri": "https://localhost:8080/"
        },
        "id": "1q7SmMV0iGaK",
        "outputId": "f197449a-a0b6-4e80-fd28-ac627455175d"
      },
      "execution_count": 59,
      "outputs": [
        {
          "output_type": "stream",
          "name": "stdout",
          "text": [
            "The estimator of psi is: 2.1470213556527904\n",
            "The Credible Interval using uniform prior is: [ -1.5896053629263716 , 5.669754666864955 ]\n"
          ]
        }
      ]
    },
    {
      "cell_type": "markdown",
      "source": [
        "**Q.2.c: Using Jeffrey's Prior**"
      ],
      "metadata": {
        "id": "CYk7tHMMkizB"
      }
    },
    {
      "cell_type": "code",
      "source": [
        "psi_list = []\n",
        "    \n",
        "for b in range(1000):\n",
        "    p1_distribution = np.random.beta(sum_dfz_0+0.5, len_df_0-sum_dfz_0+0.5)\n",
        "    eta_distribution_1 = np.log((p1_distribution / (1 - p1_distribution)))\n",
        "    p2_distribution = np.random.beta(sum_dfz_1+0.5, len_df_1-sum_dfz_1+0.5)\n",
        "    eta_distribution_2 = np.log((p2_distribution / (1 - p2_distribution)))\n",
        "    psi_dsitribution = eta_distribution_1 - eta_distribution_2\n",
        "    psi_list.append(psi_dsitribution)"
      ],
      "metadata": {
        "id": "ZcE8zytLw2xv"
      },
      "execution_count": 60,
      "outputs": []
    },
    {
      "cell_type": "code",
      "source": [
        "Jeffrey_psi_estimator = np.sum(psi_list) / 1000\n",
        "print('The estimator of psi is:', Jeffrey_psi_estimator)\n",
        "\n",
        "quantile_1_J = np.quantile(psi_list,(0.05 / 2))\n",
        "quantile_2_J = np.quantile(psi_list,(1 - 0.05 / 2))\n",
        "print(\"The Credible Interval using Jeffrey's prior is: [\", quantile_1_J, ',', quantile_2_J, ']') "
      ],
      "metadata": {
        "colab": {
          "base_uri": "https://localhost:8080/"
        },
        "id": "RLaNPCUdlfit",
        "outputId": "2ed32c29-b889-4818-e434-611f78292704"
      },
      "execution_count": 61,
      "outputs": [
        {
          "output_type": "stream",
          "name": "stdout",
          "text": [
            "The estimator of psi is: 2.0637150616543476\n",
            "The Credible Interval using Jeffrey's prior is: [ -4.3695807604635135 , 8.409972097800544 ]\n"
          ]
        }
      ]
    },
    {
      "cell_type": "markdown",
      "source": [
        "**Q.2.4: Using Past Data**"
      ],
      "metadata": {
        "id": "JxZ4UZGOmagV"
      }
    },
    {
      "cell_type": "code",
      "source": [
        "from scipy.stats import beta"
      ],
      "metadata": {
        "id": "0uB29MpHp6lB"
      },
      "execution_count": 62,
      "outputs": []
    },
    {
      "cell_type": "code",
      "source": [
        "data_1000_0 = df_sample1000.loc[df_sample1000['y']  == 0]\n",
        "z_data1000_0 = data_1000_0['campaign'] > tau\n",
        "len_data1000_0 = len(data_1000_0)\n",
        "Sum_z_0 = z_data1000_0.sum()\n",
        "past_p0 = Sum_z_0 / len_data1000_0\n",
        "\n",
        "data_1000_1 = df_sample1000.loc[df_sample1000['y']  == 1]\n",
        "z_data1000_1 = data_1000_1['campaign'] > tau\n",
        "len_data1000_1 = len(data_1000_1)\n",
        "Sum_z_1 = z_data1000_1.sum()\n",
        "past_p1 = Sum_z_1 / len_data1000_1"
      ],
      "metadata": {
        "id": "sebJ-GSdmpNT"
      },
      "execution_count": 63,
      "outputs": []
    },
    {
      "cell_type": "code",
      "source": [
        "alpha_0, beta_0, _, _ = beta.fit([past_p0])\n",
        "alpha_1, beta_1, _, _ = beta.fit([past_p1])\n",
        "\n",
        "for b in range(1000): \n",
        "    p1_distribution = np.random.beta(Sum_z_0 + alpha_0, len_data1000_0 - Sum_z_0 + beta_0)\n",
        "    eta_distribution_1 = np.log((p1_distribution / (1 - p1_distribution)))\n",
        "    p2_distribution = np.random.beta(Sum_z_1 + alpha_1, len_data1000_1 - Sum_z_1 + beta_1)\n",
        "    eta_distribution_2 = np.log((p2_distribution / (1 - p2_distribution)))\n",
        "    psi_dsitribution = eta_distribution_1 - eta_distribution_2\n",
        "    psi_list.append(psi_dsitribution)\n",
        "        "
      ],
      "metadata": {
        "colab": {
          "base_uri": "https://localhost:8080/"
        },
        "id": "4pmgahQaxW4y",
        "outputId": "d2dd989a-5352-4e2e-9c3d-35ede66e488e"
      },
      "execution_count": 64,
      "outputs": [
        {
          "output_type": "stream",
          "name": "stderr",
          "text": [
            "/usr/local/lib/python3.8/dist-packages/scipy/stats/_distn_infrastructure.py:406: RuntimeWarning: invalid value encountered in double_scalars\n",
            "  return m3 / np.power(m2, 1.5)\n",
            "/usr/local/lib/python3.8/dist-packages/scipy/stats/_distn_infrastructure.py:415: RuntimeWarning: invalid value encountered in double_scalars\n",
            "  return m4 / m2**2 - 3\n",
            "/usr/local/lib/python3.8/dist-packages/scipy/optimize/minpack.py:175: RuntimeWarning: The iteration is not making good progress, as measured by the \n",
            "  improvement from the last ten iterations.\n",
            "  warnings.warn(msg, RuntimeWarning)\n"
          ]
        }
      ]
    },
    {
      "cell_type": "code",
      "source": [
        "past_data_psi_estimator = np.sum(psi_list) / 1000\n",
        "print('The estimator of psi is:', past_data_psi_estimator)\n",
        "\n",
        "quantile_1_PD = np.quantile(psi_list,(0.05 / 2))\n",
        "quantile_2_PD = np.quantile(psi_list,(1 - 0.05 / 2))\n",
        "print(\"The Credible Interval using Past Data is: [\", quantile_1_PD, ',', quantile_2_PD, ']') "
      ],
      "metadata": {
        "colab": {
          "base_uri": "https://localhost:8080/"
        },
        "id": "Ie6Pnoc5pLOY",
        "outputId": "dad3870f-3c01-419a-b296-d36cc28ee7d6"
      },
      "execution_count": 65,
      "outputs": [
        {
          "output_type": "stream",
          "name": "stdout",
          "text": [
            "The estimator of psi is: 2.540415867205082\n",
            "The Credible Interval using Past Data is: [ -3.2985595326413435 , 7.131247501887975 ]\n"
          ]
        }
      ]
    },
    {
      "cell_type": "markdown",
      "source": [
        "**Q.2.5: Comparaison of our estimators**"
      ],
      "metadata": {
        "id": "G3apoqEXr64M"
      }
    },
    {
      "cell_type": "code",
      "source": [
        "estimators_values = [psi_B_estimator, psi_estimator, Jeffrey_psi_estimator, past_data_psi_estimator]\n",
        "prior_methods = ['BootStrap', 'Uniform prior', 'Jeffrey\\'s prior', 'Past data prior']\n",
        "for estimator, method in zip(estimators_values, prior_methods):\n",
        "    print('Using', method, 'method we obtained the psi estimator value:', estimator)"
      ],
      "metadata": {
        "colab": {
          "base_uri": "https://localhost:8080/"
        },
        "id": "_R-Rn5Bjr_Uv",
        "outputId": "339771f0-e027-4764-af27-fbb09fb5805c"
      },
      "execution_count": 66,
      "outputs": [
        {
          "output_type": "stream",
          "name": "stdout",
          "text": [
            "Using BootStrap method we obtained the psi estimator value: 0.028524466709849206\n",
            "Using Uniform prior method we obtained the psi estimator value: 2.1470213556527904\n",
            "Using Jeffrey's prior method we obtained the psi estimator value: 2.0637150616543476\n",
            "Using Past data prior method we obtained the psi estimator value: 2.540415867205082\n"
          ]
        }
      ]
    },
    {
      "cell_type": "markdown",
      "source": [
        "Whith these results we conclude that we obtained values very closed with the Unifrom Prior method, the Jeffrey's Prior method and the Bootstrap method. Moreover we note that the obtained value using the past data prior is the bigger. We can explain that by the fact that in this method we use a data sample much bigger (1000) "
      ],
      "metadata": {
        "id": "vOO0QVd7tE48"
      }
    },
    {
      "cell_type": "markdown",
      "source": [
        "**Part 2: Missing Data**"
      ],
      "metadata": {
        "id": "YuwYb7Yfu9LI"
      }
    },
    {
      "cell_type": "markdown",
      "source": [
        "**Research Question :** What is the influence of the Age (Continuous variable),\n",
        "Pdays(Discrete variable) and Job(Discrete variable) values on the Duration value\n",
        "(Continuous variable) ?"
      ],
      "metadata": {
        "id": "hIoOYgA6i6qK"
      }
    },
    {
      "cell_type": "markdown",
      "source": [
        "**Q.1**"
      ],
      "metadata": {
        "id": "78njdxPpjWfR"
      }
    },
    {
      "cell_type": "code",
      "source": [
        "td = data[data['pdays'] !=999] #we want to work with FULL data, we will create missing data ourself\n",
        "ds = td.sample(1000,random_state=85)[[\"age\",\"pdays\",\"housing\",\"duration\"]]\n"
      ],
      "metadata": {
        "id": "gQYhFYwGjM1y"
      },
      "execution_count": 67,
      "outputs": []
    },
    {
      "cell_type": "code",
      "source": [
        "from sklearn.linear_model import LinearRegression"
      ],
      "metadata": {
        "id": "rlL5j2RCjSPJ"
      },
      "execution_count": 68,
      "outputs": []
    },
    {
      "cell_type": "markdown",
      "source": [
        "Q.2"
      ],
      "metadata": {
        "id": "t-DprToXjg6C"
      }
    },
    {
      "cell_type": "code",
      "source": [
        "from sklearn.linear_model import LinearRegression\n",
        "X_tag = ds[[\"age\",\"pdays\",\"housing\",]].to_numpy().astype(int)\n",
        "Y = ds[\"duration\"].to_numpy().astype(int)\n",
        "X = np.hstack((np.ones((len(X_tag),1)),X_tag))\n",
        "beta_hat = np.linalg.inv(X.T@X)@X.T@Y\n",
        "print('Beta estimators values are:',beta_hat)"
      ],
      "metadata": {
        "colab": {
          "base_uri": "https://localhost:8080/"
        },
        "id": "Dz_bId03jeQL",
        "outputId": "03a538db-5b7c-4969-d347-ae69cf39454b"
      },
      "execution_count": 69,
      "outputs": [
        {
          "output_type": "stream",
          "name": "stdout",
          "text": [
            "Beta estimators values are: [ 2.79225598e+02 -9.76513650e-02  4.32790631e+00  2.71763982e+01]\n"
          ]
        }
      ]
    },
    {
      "cell_type": "code",
      "source": [
        "def mse(vec1,vec2):\n",
        "    if len(vec1) != len(vec2):\n",
        "        return -1\n",
        "    return sum([(a-b)**2 for a,b in zip(vec1,vec2)])\n",
        "\n",
        "def mseNum(vec1,x):\n",
        "    return sum([(a-x)**2 for a in vec1])\n",
        "\n",
        "def create_conf_int(X_tag,Y):\n",
        "    #x doesnt have one's col\n",
        "    X = np.hstack((np.ones((len(X_tag),1)),X_tag))\n",
        "    beta_hat = np.linalg.inv(X.T@X)@X.T@Y\n",
        "    C = np.diag(np.linalg.inv(X.T@X))\n",
        "    ss_res = np.sum((X@beta_hat-Y)**2)\n",
        "    sbe = np.sqrt(C)* ((ss_res /(X_tag.shape[0] - len(beta_hat)))**0.5)\n",
        "    conf = [(beta_hat[i]-1.96*sbe[i],beta_hat[i]+1.96*sbe[i]) for i in range(len(beta_hat))]\n",
        "    return beta_hat , conf\n",
        "    "
      ],
      "metadata": {
        "id": "ibwx1Akljn9g"
      },
      "execution_count": 70,
      "outputs": []
    },
    {
      "cell_type": "code",
      "source": [
        "_,ci = create_conf_int(X_tag,Y)\n",
        "for i,x in enumerate(ci):\n",
        "    print(\"Confidence Interval for beta\",i,\" = \" ,x)"
      ],
      "metadata": {
        "colab": {
          "base_uri": "https://localhost:8080/"
        },
        "id": "vgoV8zmDjpJu",
        "outputId": "c0104056-ffdd-4549-c11a-d4470d6740ff"
      },
      "execution_count": 71,
      "outputs": [
        {
          "output_type": "stream",
          "name": "stdout",
          "text": [
            "Confidence Interval for beta 0  =  (221.47388408060425, 336.9773127763323)\n",
            "Confidence Interval for beta 1  =  (-1.1847542128052653, 0.9894514827386326)\n",
            "Confidence Interval for beta 2  =  (0.14600052416921727, 8.509812089974542)\n",
            "Confidence Interval for beta 3  =  (-4.600400710262164, 58.9531970625489)\n"
          ]
        }
      ]
    },
    {
      "cell_type": "markdown",
      "source": [
        "**Q.3**"
      ],
      "metadata": {
        "id": "1iETG0onj9zP"
      }
    },
    {
      "cell_type": "code",
      "source": [
        "ds_ordered = ds.sort_values(\"duration\")\n",
        "ds_ordered = ds_ordered.reset_index(drop=True)\n",
        "ds_ordered"
      ],
      "metadata": {
        "colab": {
          "base_uri": "https://localhost:8080/",
          "height": 424
        },
        "id": "VgP8_FNvj8KO",
        "outputId": "d3cc2d93-ebb5-4664-b162-f0e11480d298"
      },
      "execution_count": 72,
      "outputs": [
        {
          "output_type": "execute_result",
          "data": {
            "text/plain": [
              "      age  pdays  housing  duration\n",
              "0    38.0    9.0     True       1.0\n",
              "1    26.0   16.0    False       4.0\n",
              "2    30.0    0.0    False       5.0\n",
              "3    51.0    3.0    False      14.0\n",
              "4    47.0    6.0    False      16.0\n",
              "..    ...    ...      ...       ...\n",
              "995  29.0    6.0    False    1563.0\n",
              "996  30.0   19.0     True    1616.0\n",
              "997  44.0    6.0     True    1628.0\n",
              "998  54.0   10.0    False    1868.0\n",
              "999  28.0    3.0     True    3509.0\n",
              "\n",
              "[1000 rows x 4 columns]"
            ],
            "text/html": [
              "\n",
              "  <div id=\"df-c07c649f-350e-4dee-a692-05a35f53c57a\">\n",
              "    <div class=\"colab-df-container\">\n",
              "      <div>\n",
              "<style scoped>\n",
              "    .dataframe tbody tr th:only-of-type {\n",
              "        vertical-align: middle;\n",
              "    }\n",
              "\n",
              "    .dataframe tbody tr th {\n",
              "        vertical-align: top;\n",
              "    }\n",
              "\n",
              "    .dataframe thead th {\n",
              "        text-align: right;\n",
              "    }\n",
              "</style>\n",
              "<table border=\"1\" class=\"dataframe\">\n",
              "  <thead>\n",
              "    <tr style=\"text-align: right;\">\n",
              "      <th></th>\n",
              "      <th>age</th>\n",
              "      <th>pdays</th>\n",
              "      <th>housing</th>\n",
              "      <th>duration</th>\n",
              "    </tr>\n",
              "  </thead>\n",
              "  <tbody>\n",
              "    <tr>\n",
              "      <th>0</th>\n",
              "      <td>38.0</td>\n",
              "      <td>9.0</td>\n",
              "      <td>True</td>\n",
              "      <td>1.0</td>\n",
              "    </tr>\n",
              "    <tr>\n",
              "      <th>1</th>\n",
              "      <td>26.0</td>\n",
              "      <td>16.0</td>\n",
              "      <td>False</td>\n",
              "      <td>4.0</td>\n",
              "    </tr>\n",
              "    <tr>\n",
              "      <th>2</th>\n",
              "      <td>30.0</td>\n",
              "      <td>0.0</td>\n",
              "      <td>False</td>\n",
              "      <td>5.0</td>\n",
              "    </tr>\n",
              "    <tr>\n",
              "      <th>3</th>\n",
              "      <td>51.0</td>\n",
              "      <td>3.0</td>\n",
              "      <td>False</td>\n",
              "      <td>14.0</td>\n",
              "    </tr>\n",
              "    <tr>\n",
              "      <th>4</th>\n",
              "      <td>47.0</td>\n",
              "      <td>6.0</td>\n",
              "      <td>False</td>\n",
              "      <td>16.0</td>\n",
              "    </tr>\n",
              "    <tr>\n",
              "      <th>...</th>\n",
              "      <td>...</td>\n",
              "      <td>...</td>\n",
              "      <td>...</td>\n",
              "      <td>...</td>\n",
              "    </tr>\n",
              "    <tr>\n",
              "      <th>995</th>\n",
              "      <td>29.0</td>\n",
              "      <td>6.0</td>\n",
              "      <td>False</td>\n",
              "      <td>1563.0</td>\n",
              "    </tr>\n",
              "    <tr>\n",
              "      <th>996</th>\n",
              "      <td>30.0</td>\n",
              "      <td>19.0</td>\n",
              "      <td>True</td>\n",
              "      <td>1616.0</td>\n",
              "    </tr>\n",
              "    <tr>\n",
              "      <th>997</th>\n",
              "      <td>44.0</td>\n",
              "      <td>6.0</td>\n",
              "      <td>True</td>\n",
              "      <td>1628.0</td>\n",
              "    </tr>\n",
              "    <tr>\n",
              "      <th>998</th>\n",
              "      <td>54.0</td>\n",
              "      <td>10.0</td>\n",
              "      <td>False</td>\n",
              "      <td>1868.0</td>\n",
              "    </tr>\n",
              "    <tr>\n",
              "      <th>999</th>\n",
              "      <td>28.0</td>\n",
              "      <td>3.0</td>\n",
              "      <td>True</td>\n",
              "      <td>3509.0</td>\n",
              "    </tr>\n",
              "  </tbody>\n",
              "</table>\n",
              "<p>1000 rows × 4 columns</p>\n",
              "</div>\n",
              "      <button class=\"colab-df-convert\" onclick=\"convertToInteractive('df-c07c649f-350e-4dee-a692-05a35f53c57a')\"\n",
              "              title=\"Convert this dataframe to an interactive table.\"\n",
              "              style=\"display:none;\">\n",
              "        \n",
              "  <svg xmlns=\"http://www.w3.org/2000/svg\" height=\"24px\"viewBox=\"0 0 24 24\"\n",
              "       width=\"24px\">\n",
              "    <path d=\"M0 0h24v24H0V0z\" fill=\"none\"/>\n",
              "    <path d=\"M18.56 5.44l.94 2.06.94-2.06 2.06-.94-2.06-.94-.94-2.06-.94 2.06-2.06.94zm-11 1L8.5 8.5l.94-2.06 2.06-.94-2.06-.94L8.5 2.5l-.94 2.06-2.06.94zm10 10l.94 2.06.94-2.06 2.06-.94-2.06-.94-.94-2.06-.94 2.06-2.06.94z\"/><path d=\"M17.41 7.96l-1.37-1.37c-.4-.4-.92-.59-1.43-.59-.52 0-1.04.2-1.43.59L10.3 9.45l-7.72 7.72c-.78.78-.78 2.05 0 2.83L4 21.41c.39.39.9.59 1.41.59.51 0 1.02-.2 1.41-.59l7.78-7.78 2.81-2.81c.8-.78.8-2.07 0-2.86zM5.41 20L4 18.59l7.72-7.72 1.47 1.35L5.41 20z\"/>\n",
              "  </svg>\n",
              "      </button>\n",
              "      \n",
              "  <style>\n",
              "    .colab-df-container {\n",
              "      display:flex;\n",
              "      flex-wrap:wrap;\n",
              "      gap: 12px;\n",
              "    }\n",
              "\n",
              "    .colab-df-convert {\n",
              "      background-color: #E8F0FE;\n",
              "      border: none;\n",
              "      border-radius: 50%;\n",
              "      cursor: pointer;\n",
              "      display: none;\n",
              "      fill: #1967D2;\n",
              "      height: 32px;\n",
              "      padding: 0 0 0 0;\n",
              "      width: 32px;\n",
              "    }\n",
              "\n",
              "    .colab-df-convert:hover {\n",
              "      background-color: #E2EBFA;\n",
              "      box-shadow: 0px 1px 2px rgba(60, 64, 67, 0.3), 0px 1px 3px 1px rgba(60, 64, 67, 0.15);\n",
              "      fill: #174EA6;\n",
              "    }\n",
              "\n",
              "    [theme=dark] .colab-df-convert {\n",
              "      background-color: #3B4455;\n",
              "      fill: #D2E3FC;\n",
              "    }\n",
              "\n",
              "    [theme=dark] .colab-df-convert:hover {\n",
              "      background-color: #434B5C;\n",
              "      box-shadow: 0px 1px 3px 1px rgba(0, 0, 0, 0.15);\n",
              "      filter: drop-shadow(0px 1px 2px rgba(0, 0, 0, 0.3));\n",
              "      fill: #FFFFFF;\n",
              "    }\n",
              "  </style>\n",
              "\n",
              "      <script>\n",
              "        const buttonEl =\n",
              "          document.querySelector('#df-c07c649f-350e-4dee-a692-05a35f53c57a button.colab-df-convert');\n",
              "        buttonEl.style.display =\n",
              "          google.colab.kernel.accessAllowed ? 'block' : 'none';\n",
              "\n",
              "        async function convertToInteractive(key) {\n",
              "          const element = document.querySelector('#df-c07c649f-350e-4dee-a692-05a35f53c57a');\n",
              "          const dataTable =\n",
              "            await google.colab.kernel.invokeFunction('convertToInteractive',\n",
              "                                                     [key], {});\n",
              "          if (!dataTable) return;\n",
              "\n",
              "          const docLinkHtml = 'Like what you see? Visit the ' +\n",
              "            '<a target=\"_blank\" href=https://colab.research.google.com/notebooks/data_table.ipynb>data table notebook</a>'\n",
              "            + ' to learn more about interactive tables.';\n",
              "          element.innerHTML = '';\n",
              "          dataTable['output_type'] = 'display_data';\n",
              "          await google.colab.output.renderOutput(dataTable, element);\n",
              "          const docLink = document.createElement('div');\n",
              "          docLink.innerHTML = docLinkHtml;\n",
              "          element.appendChild(docLink);\n",
              "        }\n",
              "      </script>\n",
              "    </div>\n",
              "  </div>\n",
              "  "
            ]
          },
          "metadata": {},
          "execution_count": 72
        }
      ]
    },
    {
      "cell_type": "code",
      "source": [
        "np.random.seed(55)\n",
        "INIT_P = 1/5\n",
        "END_P = 4/5\n",
        "P_STEP = (END_P- INIT_P) / 1000\n",
        "chosen_arr = []\n",
        "while len(chosen_arr) !=500: #we want 500 excectly so we try until condition met \n",
        "    chosen_arr = []\n",
        "    for i in range(1000):\n",
        "        if np.random.rand() < INIT_P+ P_STEP*i:\n",
        "            chosen_arr.append(i)\n",
        "            #ds_ordered.drop(ds_ordered.iloc[i])\n",
        "    \n",
        "for x in chosen_arr:\n",
        "    ds_ordered.iloc[[x],ds_ordered.columns.get_loc(\"duration\")] = None"
      ],
      "metadata": {
        "id": "dcuU8wbrkBGL"
      },
      "execution_count": 73,
      "outputs": []
    },
    {
      "cell_type": "code",
      "source": [
        "ds_ordered[~ds_ordered['duration'].isna()]"
      ],
      "metadata": {
        "colab": {
          "base_uri": "https://localhost:8080/",
          "height": 424
        },
        "id": "QAM27oWSkDqm",
        "outputId": "a0320821-0c6c-4f5d-9aea-8049380645c5"
      },
      "execution_count": 74,
      "outputs": [
        {
          "output_type": "execute_result",
          "data": {
            "text/plain": [
              "      age  pdays  housing  duration\n",
              "0    38.0    9.0     True       1.0\n",
              "1    26.0   16.0    False       4.0\n",
              "2    30.0    0.0    False       5.0\n",
              "5    30.0   22.0    False      18.0\n",
              "7    25.0   10.0    False      32.0\n",
              "..    ...    ...      ...       ...\n",
              "980  59.0    2.0     True    1019.0\n",
              "988  28.0    4.0     True    1161.0\n",
              "991  36.0    6.0     True    1178.0\n",
              "994  34.0   12.0     True    1416.0\n",
              "998  54.0   10.0    False    1868.0\n",
              "\n",
              "[500 rows x 4 columns]"
            ],
            "text/html": [
              "\n",
              "  <div id=\"df-cdff273b-2ac2-4272-b37b-d3dfd8f35a71\">\n",
              "    <div class=\"colab-df-container\">\n",
              "      <div>\n",
              "<style scoped>\n",
              "    .dataframe tbody tr th:only-of-type {\n",
              "        vertical-align: middle;\n",
              "    }\n",
              "\n",
              "    .dataframe tbody tr th {\n",
              "        vertical-align: top;\n",
              "    }\n",
              "\n",
              "    .dataframe thead th {\n",
              "        text-align: right;\n",
              "    }\n",
              "</style>\n",
              "<table border=\"1\" class=\"dataframe\">\n",
              "  <thead>\n",
              "    <tr style=\"text-align: right;\">\n",
              "      <th></th>\n",
              "      <th>age</th>\n",
              "      <th>pdays</th>\n",
              "      <th>housing</th>\n",
              "      <th>duration</th>\n",
              "    </tr>\n",
              "  </thead>\n",
              "  <tbody>\n",
              "    <tr>\n",
              "      <th>0</th>\n",
              "      <td>38.0</td>\n",
              "      <td>9.0</td>\n",
              "      <td>True</td>\n",
              "      <td>1.0</td>\n",
              "    </tr>\n",
              "    <tr>\n",
              "      <th>1</th>\n",
              "      <td>26.0</td>\n",
              "      <td>16.0</td>\n",
              "      <td>False</td>\n",
              "      <td>4.0</td>\n",
              "    </tr>\n",
              "    <tr>\n",
              "      <th>2</th>\n",
              "      <td>30.0</td>\n",
              "      <td>0.0</td>\n",
              "      <td>False</td>\n",
              "      <td>5.0</td>\n",
              "    </tr>\n",
              "    <tr>\n",
              "      <th>5</th>\n",
              "      <td>30.0</td>\n",
              "      <td>22.0</td>\n",
              "      <td>False</td>\n",
              "      <td>18.0</td>\n",
              "    </tr>\n",
              "    <tr>\n",
              "      <th>7</th>\n",
              "      <td>25.0</td>\n",
              "      <td>10.0</td>\n",
              "      <td>False</td>\n",
              "      <td>32.0</td>\n",
              "    </tr>\n",
              "    <tr>\n",
              "      <th>...</th>\n",
              "      <td>...</td>\n",
              "      <td>...</td>\n",
              "      <td>...</td>\n",
              "      <td>...</td>\n",
              "    </tr>\n",
              "    <tr>\n",
              "      <th>980</th>\n",
              "      <td>59.0</td>\n",
              "      <td>2.0</td>\n",
              "      <td>True</td>\n",
              "      <td>1019.0</td>\n",
              "    </tr>\n",
              "    <tr>\n",
              "      <th>988</th>\n",
              "      <td>28.0</td>\n",
              "      <td>4.0</td>\n",
              "      <td>True</td>\n",
              "      <td>1161.0</td>\n",
              "    </tr>\n",
              "    <tr>\n",
              "      <th>991</th>\n",
              "      <td>36.0</td>\n",
              "      <td>6.0</td>\n",
              "      <td>True</td>\n",
              "      <td>1178.0</td>\n",
              "    </tr>\n",
              "    <tr>\n",
              "      <th>994</th>\n",
              "      <td>34.0</td>\n",
              "      <td>12.0</td>\n",
              "      <td>True</td>\n",
              "      <td>1416.0</td>\n",
              "    </tr>\n",
              "    <tr>\n",
              "      <th>998</th>\n",
              "      <td>54.0</td>\n",
              "      <td>10.0</td>\n",
              "      <td>False</td>\n",
              "      <td>1868.0</td>\n",
              "    </tr>\n",
              "  </tbody>\n",
              "</table>\n",
              "<p>500 rows × 4 columns</p>\n",
              "</div>\n",
              "      <button class=\"colab-df-convert\" onclick=\"convertToInteractive('df-cdff273b-2ac2-4272-b37b-d3dfd8f35a71')\"\n",
              "              title=\"Convert this dataframe to an interactive table.\"\n",
              "              style=\"display:none;\">\n",
              "        \n",
              "  <svg xmlns=\"http://www.w3.org/2000/svg\" height=\"24px\"viewBox=\"0 0 24 24\"\n",
              "       width=\"24px\">\n",
              "    <path d=\"M0 0h24v24H0V0z\" fill=\"none\"/>\n",
              "    <path d=\"M18.56 5.44l.94 2.06.94-2.06 2.06-.94-2.06-.94-.94-2.06-.94 2.06-2.06.94zm-11 1L8.5 8.5l.94-2.06 2.06-.94-2.06-.94L8.5 2.5l-.94 2.06-2.06.94zm10 10l.94 2.06.94-2.06 2.06-.94-2.06-.94-.94-2.06-.94 2.06-2.06.94z\"/><path d=\"M17.41 7.96l-1.37-1.37c-.4-.4-.92-.59-1.43-.59-.52 0-1.04.2-1.43.59L10.3 9.45l-7.72 7.72c-.78.78-.78 2.05 0 2.83L4 21.41c.39.39.9.59 1.41.59.51 0 1.02-.2 1.41-.59l7.78-7.78 2.81-2.81c.8-.78.8-2.07 0-2.86zM5.41 20L4 18.59l7.72-7.72 1.47 1.35L5.41 20z\"/>\n",
              "  </svg>\n",
              "      </button>\n",
              "      \n",
              "  <style>\n",
              "    .colab-df-container {\n",
              "      display:flex;\n",
              "      flex-wrap:wrap;\n",
              "      gap: 12px;\n",
              "    }\n",
              "\n",
              "    .colab-df-convert {\n",
              "      background-color: #E8F0FE;\n",
              "      border: none;\n",
              "      border-radius: 50%;\n",
              "      cursor: pointer;\n",
              "      display: none;\n",
              "      fill: #1967D2;\n",
              "      height: 32px;\n",
              "      padding: 0 0 0 0;\n",
              "      width: 32px;\n",
              "    }\n",
              "\n",
              "    .colab-df-convert:hover {\n",
              "      background-color: #E2EBFA;\n",
              "      box-shadow: 0px 1px 2px rgba(60, 64, 67, 0.3), 0px 1px 3px 1px rgba(60, 64, 67, 0.15);\n",
              "      fill: #174EA6;\n",
              "    }\n",
              "\n",
              "    [theme=dark] .colab-df-convert {\n",
              "      background-color: #3B4455;\n",
              "      fill: #D2E3FC;\n",
              "    }\n",
              "\n",
              "    [theme=dark] .colab-df-convert:hover {\n",
              "      background-color: #434B5C;\n",
              "      box-shadow: 0px 1px 3px 1px rgba(0, 0, 0, 0.15);\n",
              "      filter: drop-shadow(0px 1px 2px rgba(0, 0, 0, 0.3));\n",
              "      fill: #FFFFFF;\n",
              "    }\n",
              "  </style>\n",
              "\n",
              "      <script>\n",
              "        const buttonEl =\n",
              "          document.querySelector('#df-cdff273b-2ac2-4272-b37b-d3dfd8f35a71 button.colab-df-convert');\n",
              "        buttonEl.style.display =\n",
              "          google.colab.kernel.accessAllowed ? 'block' : 'none';\n",
              "\n",
              "        async function convertToInteractive(key) {\n",
              "          const element = document.querySelector('#df-cdff273b-2ac2-4272-b37b-d3dfd8f35a71');\n",
              "          const dataTable =\n",
              "            await google.colab.kernel.invokeFunction('convertToInteractive',\n",
              "                                                     [key], {});\n",
              "          if (!dataTable) return;\n",
              "\n",
              "          const docLinkHtml = 'Like what you see? Visit the ' +\n",
              "            '<a target=\"_blank\" href=https://colab.research.google.com/notebooks/data_table.ipynb>data table notebook</a>'\n",
              "            + ' to learn more about interactive tables.';\n",
              "          element.innerHTML = '';\n",
              "          dataTable['output_type'] = 'display_data';\n",
              "          await google.colab.output.renderOutput(dataTable, element);\n",
              "          const docLink = document.createElement('div');\n",
              "          docLink.innerHTML = docLinkHtml;\n",
              "          element.appendChild(docLink);\n",
              "        }\n",
              "      </script>\n",
              "    </div>\n",
              "  </div>\n",
              "  "
            ]
          },
          "metadata": {},
          "execution_count": 74
        }
      ]
    },
    {
      "cell_type": "markdown",
      "source": [
        "**Q.4.a:Regression only from full data**"
      ],
      "metadata": {
        "id": "N7zBNi2XkPNU"
      }
    },
    {
      "cell_type": "code",
      "source": [
        "X_tag = ds_ordered[[\"age\",\"pdays\",\"housing\",]][ds_ordered[\"duration\"].notnull()].to_numpy().astype(int)\n",
        "Y = ds_ordered[\"duration\"][ds_ordered['duration'].notnull()].to_numpy().astype(int)\n",
        "beta_temp,ci_temp = create_conf_int(X_tag,Y)\n",
        "print('Beta estimators values are:',beta_temp)\n",
        "print('Confidence Interval for each beta is',ci_temp)"
      ],
      "metadata": {
        "colab": {
          "base_uri": "https://localhost:8080/"
        },
        "id": "UaLYyf_8kFkd",
        "outputId": "c2fcf05c-65d1-40d6-f932-7e2bd9b942e5"
      },
      "execution_count": 75,
      "outputs": [
        {
          "output_type": "stream",
          "name": "stdout",
          "text": [
            "Beta estimators values are: [ 2.50429551e+02 -1.56948290e-01  4.64769957e-01  1.19914801e+01]\n",
            "Confidence Interval for each beta is [(186.55087583461363, 314.30822651059884), (-1.3492087827278363, 1.0353122022768453), (-4.138419989414092, 5.067959903687565), (-23.507017983455775, 47.489978240002834)]\n"
          ]
        }
      ]
    },
    {
      "cell_type": "markdown",
      "source": [
        "**Q4.b:Regression imputation**"
      ],
      "metadata": {
        "id": "0EpXNzALktwO"
      }
    },
    {
      "cell_type": "code",
      "source": [
        "ds_kept = ds_ordered[~ds_ordered['duration'].isna()].copy()\n",
        "ds_deleted = ds_ordered[ds_ordered['duration'].isna()].copy()\n",
        "x_arr = [\"age\",\"pdays\",\"housing\"]\n",
        "y_arr = \"duration\""
      ],
      "metadata": {
        "id": "ABBjMMOHk5Af"
      },
      "execution_count": 76,
      "outputs": []
    },
    {
      "cell_type": "code",
      "source": [
        "preds = np.hstack((np.ones((len(ds_deleted),1)),ds_deleted[x_arr].to_numpy())) @beta_temp\n",
        "ds_deleted['duration'] = preds\n",
        "ds_join = pandas.concat((ds_kept,ds_deleted))"
      ],
      "metadata": {
        "id": "Z_ZFw9rQk71M"
      },
      "execution_count": 77,
      "outputs": []
    },
    {
      "cell_type": "code",
      "source": [
        "X_tag = ds_join[[\"age\",\"pdays\",\"housing\",]][ds_join[\"duration\"].notnull()].to_numpy().astype(int)\n",
        "Y = ds_join[\"duration\"][ds_join['duration'].notnull()].to_numpy().astype(int)\n",
        "beta_temp,ci_temp = create_conf_int(X_tag,Y)\n",
        "print('Beta estimators values are:',beta_temp)\n",
        "print('Confidence Interval for each beta is',ci_temp)"
      ],
      "metadata": {
        "colab": {
          "base_uri": "https://localhost:8080/"
        },
        "id": "5EbT2PmFk-Lo",
        "outputId": "cfda0ef5-9dd6-4bd7-8623-3b20982e1ae6"
      },
      "execution_count": 78,
      "outputs": [
        {
          "output_type": "stream",
          "name": "stdout",
          "text": [
            "Beta estimators values are: [ 2.50183096e+02 -1.56883747e-01  4.61693079e-01  1.19891963e+01]\n",
            "Confidence Interval for each beta is [(218.32399572836587, 282.04219704851573), (-0.7565909500334372, 0.4428234551010696), (-1.8452818526967363, 2.768668011576792), (-5.540676987566892, 29.519069577840284)]\n"
          ]
        }
      ]
    },
    {
      "cell_type": "markdown",
      "source": [
        "We note that the values of the estimators of beta are very similars.<br> Moreover we note that the Confidence intervals are different.\n"
      ],
      "metadata": {
        "id": "TlKs6j0LlHxC"
      }
    },
    {
      "cell_type": "markdown",
      "source": [
        "**Q.4.c: Multiple Imputations**"
      ],
      "metadata": {
        "id": "KumuoOSnluEk"
      }
    },
    {
      "cell_type": "code",
      "source": [
        "X_tag = ds[[\"age\",\"pdays\",\"housing\",]][ds[\"duration\"].notnull()].to_numpy().astype(int)\n",
        "Y = ds[\"duration\"][ds['duration'].notnull()].to_numpy().astype(int)\n",
        "X = np.hstack((np.ones((len(X_tag),1)),X_tag))\n",
        "full_sample_beta = np.linalg.inv(X.T@X)@X.T@Y\n",
        "C = np.diag(np.linalg.inv(X.T@X))\n",
        "sigma_squared = np.sum((X@full_sample_beta-Y)**2)\n",
        "sigma_squared /= (X_tag.shape[0] - len(beta_hat))\n",
        "#sbe = np.sqrt(C)* ((ss_res /(X_tag.shape[0] - len(beta_hat)))**0.5)\n"
      ],
      "metadata": {
        "id": "bDUT2p6flxut"
      },
      "execution_count": 79,
      "outputs": []
    },
    {
      "cell_type": "code",
      "source": [
        "def create_sbe(X_tag,Y):\n",
        "    #x doesnt have one's col\n",
        "    X = np.hstack((np.ones((len(X_tag),1)),X_tag))\n",
        "    beta_hat = np.linalg.inv(X.T@X)@X.T@Y\n",
        "    C = np.diag(np.linalg.inv(X.T@X))\n",
        "    ss_res = np.sum((X@beta_hat-Y)**2)\n",
        "    sbe = np.sqrt(C)* ((ss_res /(X_tag.shape[0] - len(beta_hat)))**0.5)\n",
        "    #conf = [(beta_hat[i]-1.96*sbe[i],beta_hat[i]+1.96*sbe[i]) for i in range(len(beta_hat))]\n",
        "    return sbe"
      ],
      "metadata": {
        "id": "d506MjmBlyVR"
      },
      "execution_count": 80,
      "outputs": []
    },
    {
      "cell_type": "code",
      "source": [
        "betas_array = []\n",
        "ses_mat = []\n",
        "means = X@beta_hat\n",
        "np.random.seed(662)\n",
        "M = 1000\n",
        "for i in range(M):\n",
        "    Y_i = np.random.normal(means,scale= np.sqrt(sigma_squared))\n",
        "    ds_copy = ds.copy()\n",
        "    ds_copy['duration'] = Y_i\n",
        "    X_tag2 = ds_copy[[\"age\",\"pdays\",\"housing\",]].to_numpy().astype(int)\n",
        "    Y2 = ds_copy[\"duration\"].to_numpy().astype(int)\n",
        "    beta_temp,_ = create_conf_int(X_tag2,Y2)\n",
        "    #print(beta_temp)\n",
        "    betas_array.append(beta_temp)\n",
        "    ses_mat.append(create_sbe(X_tag2,Y2))\n",
        "    \n",
        "betas = np.array(betas_array).mean(axis=0)\n",
        "print('Beta estimators values are:',betas)"
      ],
      "metadata": {
        "colab": {
          "base_uri": "https://localhost:8080/"
        },
        "id": "AvYy7L1yl6Je",
        "outputId": "bf46686b-0b74-4b06-eb12-1e9bb0249e9e"
      },
      "execution_count": 81,
      "outputs": [
        {
          "output_type": "stream",
          "name": "stdout",
          "text": [
            "Beta estimators values are: [ 2.79376432e+02 -9.80635497e-02  4.32048476e+00  2.69539241e+01]\n"
          ]
        }
      ]
    },
    {
      "cell_type": "markdown",
      "source": [
        "**Q.4.d**"
      ],
      "metadata": {
        "id": "V5ROZ5-ZmFHo"
      }
    },
    {
      "cell_type": "code",
      "source": [
        "diff = full_sample_beta-betas\n",
        "variances =  np.array(ses_mat).mean(axis = 0) + (M+1)/(M*(M-1))* np.sum(diff**2,axis=0)\n",
        "ses = np.sqrt(variances)"
      ],
      "metadata": {
        "id": "iYpJP4QCmG28"
      },
      "execution_count": 82,
      "outputs": []
    },
    {
      "cell_type": "code",
      "source": [
        "for i in range(len(beta_hat)):\n",
        "    print(\"Estimator for the se value and Confidence Interval for beta \"+str(i)+\"\")\n",
        "    print(f\"{betas[i]} ({betas[i]-1.96*ses[i]},{betas[i]+1.96*ses[i]})\")"
      ],
      "metadata": {
        "colab": {
          "base_uri": "https://localhost:8080/"
        },
        "id": "1SSs_iuemJEN",
        "outputId": "7f205082-dc85-4a59-bcb8-a1c291d5490d"
      },
      "execution_count": 83,
      "outputs": [
        {
          "output_type": "stream",
          "name": "stdout",
          "text": [
            "Estimator for the se value and Confidence Interval for beta 0\n",
            "279.3764316390699 (268.7408537932458,290.012009484894)\n",
            "Estimator for the se value and Confidence Interval for beta 1\n",
            "-0.09806354967933671 (-1.5573542452824367,1.3612271459237633)\n",
            "Estimator for the se value and Confidence Interval for beta 2\n",
            "4.320484763446261 (1.4584650809324295,7.1825044459600935)\n",
            "Estimator for the se value and Confidence Interval for beta 3\n",
            "26.95392405150491 (19.064702367197008,34.84314573581281)\n"
          ]
        }
      ]
    },
    {
      "cell_type": "markdown",
      "source": [
        "**Q.4.e**"
      ],
      "metadata": {
        "id": "ic_dYVAgmh6V"
      }
    },
    {
      "cell_type": "code",
      "source": [
        "ds_kept_r = ds_kept.copy()\n",
        "ds_kept_r[\"R\"] = 1\n",
        "ds_deleted_r = ds_deleted.copy()\n",
        "ds_deleted_r['R'] = 0\n",
        "ds_r = pandas.concat((ds_kept_r,ds_deleted_r))"
      ],
      "metadata": {
        "id": "_noifjeHmLOi"
      },
      "execution_count": 84,
      "outputs": []
    },
    {
      "cell_type": "code",
      "source": [
        "model = LogisticRegression().fit(ds_r[x_arr],ds_r['R'])\n",
        "model.predict_proba(ds_r[x_arr])"
      ],
      "metadata": {
        "colab": {
          "base_uri": "https://localhost:8080/"
        },
        "id": "_HtXMv_UmmZQ",
        "outputId": "81b10cfa-7ea3-488b-acd3-99941116ec62"
      },
      "execution_count": 85,
      "outputs": [
        {
          "output_type": "execute_result",
          "data": {
            "text/plain": [
              "array([[0.50836602, 0.49163398],\n",
              "       [0.52800577, 0.47199423],\n",
              "       [0.48293846, 0.51706154],\n",
              "       ...,\n",
              "       [0.53621354, 0.46378646],\n",
              "       [0.50017653, 0.49982347],\n",
              "       [0.49087012, 0.50912988]])"
            ]
          },
          "metadata": {},
          "execution_count": 85
        }
      ]
    },
    {
      "cell_type": "markdown",
      "source": [
        "**Q.4.f**"
      ],
      "metadata": {
        "id": "zAYXEZxsm6K1"
      }
    },
    {
      "cell_type": "code",
      "source": [
        "from IPython.display import display, Math # to show latex"
      ],
      "metadata": {
        "id": "zCDS0uI9nIvm"
      },
      "execution_count": 86,
      "outputs": []
    },
    {
      "cell_type": "code",
      "source": [
        "display(Math(r\"min_{\\beta}\\sum_{i}R_i(\\beta_0+\\beta_1\\cdot age_i +\\beta_2\\cdot pdays_i +\\beta_3\\cdot housing_i - y_i )^2\"))"
      ],
      "metadata": {
        "colab": {
          "base_uri": "https://localhost:8080/",
          "height": 56
        },
        "id": "AHDiBu2hm8g5",
        "outputId": "1b7cacbe-aa71-4581-be20-6259949fff81"
      },
      "execution_count": 87,
      "outputs": [
        {
          "output_type": "display_data",
          "data": {
            "text/plain": [
              "<IPython.core.display.Math object>"
            ],
            "text/latex": "$\\displaystyle min_{\\beta}\\sum_{i}R_i(\\beta_0+\\beta_1\\cdot age_i +\\beta_2\\cdot pdays_i +\\beta_3\\cdot housing_i - y_i )^2$"
          },
          "metadata": {}
        }
      ]
    },
    {
      "cell_type": "code",
      "source": [
        "display(Math(r\"min_{\\beta}\\sum_{i}\\frac{R_i}{\\pi_i}(\\beta_0+\\beta_1\\cdot age_i +\\beta_2\\cdot pdays_i +\\beta_3\\cdot housing_i - y_i )^2\"))"
      ],
      "metadata": {
        "colab": {
          "base_uri": "https://localhost:8080/",
          "height": 62
        },
        "id": "ZpG6g2bunJue",
        "outputId": "4aeef731-6236-4c01-ff03-c572960cad1f"
      },
      "execution_count": 88,
      "outputs": [
        {
          "output_type": "display_data",
          "data": {
            "text/plain": [
              "<IPython.core.display.Math object>"
            ],
            "text/latex": "$\\displaystyle min_{\\beta}\\sum_{i}\\frac{R_i}{\\pi_i}(\\beta_0+\\beta_1\\cdot age_i +\\beta_2\\cdot pdays_i +\\beta_3\\cdot housing_i - y_i )^2$"
          },
          "metadata": {}
        }
      ]
    },
    {
      "cell_type": "code",
      "source": [
        "pos_r = ds_r[ds_r[\"R\"]==1]\n",
        "pp = model.predict_proba(pos_r[x_arr]).T[0]\n",
        "lm = LinearRegression(fit_intercept=True).fit(pos_r[x_arr],pos_r[y_arr],1/pp)"
      ],
      "metadata": {
        "id": "AwvdSHiwnOUm"
      },
      "execution_count": 89,
      "outputs": []
    },
    {
      "cell_type": "code",
      "source": [
        "print(\"IPW Estimator is:\")\n",
        "arr = [lm.intercept_]\n",
        "arr.extend(lm.coef_)\n",
        "print(arr)"
      ],
      "metadata": {
        "colab": {
          "base_uri": "https://localhost:8080/"
        },
        "id": "wfr10gdxnQwM",
        "outputId": "89113b0b-a90f-4985-b127-54d16c332803"
      },
      "execution_count": 92,
      "outputs": [
        {
          "output_type": "stream",
          "name": "stdout",
          "text": [
            "IPW Estimator is:\n",
            "[250.1580241663634, -0.15818515854521728, 0.5722033601258706, 11.435759492895787]\n"
          ]
        }
      ]
    },
    {
      "cell_type": "markdown",
      "source": [
        "**Q.4.g: Confidence interval using Bootstrap method**"
      ],
      "metadata": {
        "id": "FoO165mznifN"
      }
    },
    {
      "cell_type": "code",
      "source": [
        "#load the prevoius model\n",
        "model = LogisticRegression().fit(ds_r[x_arr],ds_r['R'])\n",
        "model.predict_proba(ds_r[x_arr])"
      ],
      "metadata": {
        "colab": {
          "base_uri": "https://localhost:8080/"
        },
        "id": "3pm3tU0gnme4",
        "outputId": "f1745f76-0c27-4bd6-be0c-be60a63eb3b5"
      },
      "execution_count": 96,
      "outputs": [
        {
          "output_type": "execute_result",
          "data": {
            "text/plain": [
              "array([[0.50836602, 0.49163398],\n",
              "       [0.52800577, 0.47199423],\n",
              "       [0.48293846, 0.51706154],\n",
              "       ...,\n",
              "       [0.53621354, 0.46378646],\n",
              "       [0.50017653, 0.49982347],\n",
              "       [0.49087012, 0.50912988]])"
            ]
          },
          "metadata": {},
          "execution_count": 96
        }
      ]
    },
    {
      "cell_type": "code",
      "source": [
        "results = []\n",
        "B = 400\n",
        "for i in range(B):\n",
        "    d_sample =ds_r.sample(frac = 1,replace=True)\n",
        "    probs = model.predict_proba(d_sample[x_arr]).T[0]\n",
        "    linear_model = LinearRegression(fit_intercept=True).fit(d_sample[x_arr], d_sample[y_arr], 1/probs)\n",
        "    arr = [linear_model.intercept_]\n",
        "    arr.extend(linear_model.coef_)\n",
        "    #print(arr)\n",
        "    results.append(arr)"
      ],
      "metadata": {
        "id": "UNLHZtgvno17"
      },
      "execution_count": 97,
      "outputs": []
    },
    {
      "cell_type": "code",
      "source": [
        "#we will use quantiles to make CI\n",
        "quantiles = np.quantile(results,[0.025,0.975],axis=0)"
      ],
      "metadata": {
        "id": "gepzrzAxnq2z"
      },
      "execution_count": 98,
      "outputs": []
    },
    {
      "cell_type": "code",
      "source": [
        "for i in range(len(quantiles[0])):\n",
        "    print(f\"CI for x{i} is [{quantiles[0][i]},{quantiles[1][i]}]\")"
      ],
      "metadata": {
        "colab": {
          "base_uri": "https://localhost:8080/"
        },
        "id": "WWLGw9Lvns8Y",
        "outputId": "06aca78b-bf9a-46db-d9e4-d2928f065366"
      },
      "execution_count": 99,
      "outputs": [
        {
          "output_type": "stream",
          "name": "stdout",
          "text": [
            "CI for x0 is [225.0415205631966,276.23989298721614]\n",
            "CI for x1 is [-0.6601544129227452,0.31733954161289896]\n",
            "CI for x2 is [-1.726540983922145,3.1102930227844148]\n",
            "CI for x3 is [-5.421488137754878,29.28726957084869]\n"
          ]
        }
      ]
    },
    {
      "cell_type": "code",
      "source": [
        "quan2 = [[a,b] for a,b in zip(quantiles[0],quantiles[1])]"
      ],
      "metadata": {
        "id": "dxKF_OBunu1K"
      },
      "execution_count": 100,
      "outputs": []
    },
    {
      "cell_type": "markdown",
      "source": [
        "**Q.4.h**"
      ],
      "metadata": {
        "id": "J-0bciD7n-YW"
      }
    },
    {
      "cell_type": "markdown",
      "source": [
        "The estimators are different . They are smaller than what we got before but overall they fit to aroud 80% of the previous CI"
      ],
      "metadata": {
        "id": "wrPLwfKtoeZ8"
      }
    },
    {
      "cell_type": "code",
      "source": [
        "t = [\"intercect\"]\n",
        "t.extend(x_arr)\n",
        "#print(t)\n",
        "for i,x in enumerate(quan2):\n",
        "    plt.boxplot(x,labels= [t[i]])\n",
        "    plt.show()"
      ],
      "metadata": {
        "colab": {
          "base_uri": "https://localhost:8080/",
          "height": 1000
        },
        "id": "AMsheEjYn_zY",
        "outputId": "deb31271-25b8-4ead-ea42-75443524b078"
      },
      "execution_count": 101,
      "outputs": [
        {
          "output_type": "display_data",
          "data": {
            "text/plain": [
              "<Figure size 432x288 with 1 Axes>"
            ],
            "image/png": "[encoded data removed]"
          },
          "metadata": {
            "needs_background": "light"
          }
        },
        {
          "output_type": "display_data",
          "data": {
            "text/plain": [
              "<Figure size 432x288 with 1 Axes>"
            ],
            "image/png": "[encoded data removed]"
          },
          "metadata": {
            "needs_background": "light"
          }
        },
        {
          "output_type": "display_data",
          "data": {
            "text/plain": [
              "<Figure size 432x288 with 1 Axes>"
            ],
            "image/png": "[encoded data removed]"
          },
          "metadata": {
            "needs_background": "light"
          }
        },
        {
          "output_type": "display_data",
          "data": {
            "text/plain": [
              "<Figure size 432x288 with 1 Axes>"
            ],
            "image/png": "[encoded data removed]"
          },
          "metadata": {
            "needs_background": "light"
          }
        }
      ]
    },
    {
      "cell_type": "markdown",
      "source": [
        "The CI are kinda big compared to the previous one. Also, they moved in place. in pdays we got something very weird when previously CI it wat (1,7) and now (-1,-3)"
      ],
      "metadata": {
        "id": "01gPUK1eopvA"
      }
    }
  ],
  "metadata": {
    "kernelspec": {
      "display_name": "Python 3",
      "language": "python",
      "name": "python3"
    },
    "language_info": {
      "codemirror_mode": {
        "name": "ipython",
        "version": 3
      },
      "file_extension": ".py",
      "mimetype": "text/x-python",
      "name": "python",
      "nbconvert_exporter": "python",
      "pygments_lexer": "ipython3",
      "version": "3.9.6"
    },
    "orig_nbformat": 4,
    "vscode": {
      "interpreter": {
        "hash": "11938c6bc6919ae2720b4d5011047913343b08a43b18698fd82dedb0d4417594"
      }
    },
    "colab": {
      "provenance": []
    }
  },
  "nbformat": 4,
  "nbformat_minor": 0
}