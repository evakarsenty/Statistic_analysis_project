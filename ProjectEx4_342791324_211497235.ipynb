{
  "nbformat": 4,
  "nbformat_minor": 0,
  "metadata": {
    "colab": {
      "provenance": []
    },
    "kernelspec": {
      "name": "python3",
      "display_name": "Python 3"
    },
    "language_info": {
      "name": "python"
    }
  },
  "cells": [
    {
      "cell_type": "markdown",
      "source": [
        "**Importation and Treatment of our data** "
      ],
      "metadata": {
        "id": "bvQ8EKPgQeFr"
      }
    },
    {
      "cell_type": "code",
      "execution_count": 52,
      "metadata": {
        "id": "km9-wLCtoZmr"
      },
      "outputs": [],
      "source": [
        "import pandas as pd\n",
        "from IPython.display import display, Math # to show latex\n",
        "from matplotlib import pyplot as plt\n",
        "import numpy as np\n",
        "data = pd.read_csv(\"bank-additional-full.csv\",delimiter=';')"
      ]
    },
    {
      "cell_type": "code",
      "source": [
        "filter1 = data['housing'] != 'unknown'\n",
        "filter2= data['loan'] != 'unknown'\n",
        "filter3 = data['education'] != 'unknown'\n",
        "filter4 = data['job'] != 'unknown'\n",
        "filter5 = data['default'] != 'unknown'\n",
        "\n",
        "temp = data.where(filter1&filter2&filter3&filter4&filter5)\n",
        "dow = {'mon':1,'tue':2,'wed':3,'thu':4,'fri':5}\n",
        "mon = {\"may\":5,\"jun\":6,\"jul\":7,\"aug\":8,\"oct\":10,\"nov\":11,\"dec\":12,\"mar\":3,\"apr\":4,\"sep\":9}\n",
        "temp = temp.dropna()\n",
        "temp['education'] = temp.apply(lambda x: x['education'] in ['professional.course','university.degree'],axis=1)\n",
        "temp['marital'] = temp.apply(lambda x:x['marital'] =='married',axis=1)\n",
        "temp['poutcome'] = temp.apply(lambda x:x['poutcome'] =='success',axis=1)\n",
        "temp['day_of_week'] = temp.apply(lambda x:dow[x['day_of_week']] ,axis=1)\n",
        "temp['month'] = temp.apply(lambda x:mon[x['month']] ,axis=1)\n",
        "temp['default'] = temp.apply(lambda x:x['default']==\"yes\" ,axis=1)\n",
        "temp['housing'] = temp.apply(lambda x:x['housing']==\"yes\" ,axis=1)\n",
        "temp['loan'] = temp.apply(lambda x:x['loan']==\"yes\" ,axis=1)\n",
        "temp['y'] = temp.apply(lambda x:x['y']==\"yes\" ,axis=1)\n",
        "\n",
        "#dropping unwanted columns\n",
        "temp = temp.drop('contact', inplace=False, axis=1)\n",
        "\"\"\"\n",
        "temp = temp.drop('duration', inplace=False, axis=1)\n",
        "temp = temp.drop('emp.var.rate', inplace=False, axis=1)\n",
        "temp = temp.drop('cons.price.idx', inplace=False, axis=1)\n",
        "temp = temp.drop('cons.conf.idx', inplace=False, axis=1)\n",
        "temp = temp.drop('euribor3m', inplace=False, axis=1)\n",
        "temp = temp.drop('nr.employed', inplace=False, axis=1)\n",
        "\"\"\"\n",
        "data = temp\n",
        "#data"
      ],
      "metadata": {
        "id": "zgKqvg8TpFp9"
      },
      "execution_count": 3,
      "outputs": []
    },
    {
      "cell_type": "markdown",
      "source": [
        "**Research Question :** What is the influence of the Age (Continuous variable), Pdays(Discrete variable) and Job(Discrete variable) values on the Duration value (Continuous variable) ?"
      ],
      "metadata": {
        "id": "yztsg4CJ0cAO"
      }
    },
    {
      "cell_type": "code",
      "source": [
        "data2 = data[[\"age\",\"duration\",\"pdays\",\"job\"]]\n",
        "temp_data = data2[data2[\"pdays\"]!= 999]\n",
        "temp_data"
      ],
      "metadata": {
        "colab": {
          "base_uri": "https://localhost:8080/",
          "height": 424
        },
        "id": "76vz90mH0WX3",
        "outputId": "f008f00a-2e96-4248-82ef-32659f351508"
      },
      "execution_count": 4,
      "outputs": [
        {
          "output_type": "execute_result",
          "data": {
            "text/plain": [
              "        age  duration  pdays            job\n",
              "24108  37.0     119.0    6.0         admin.\n",
              "24264  48.0     112.0    4.0     management\n",
              "24482  36.0     200.0    4.0  self-employed\n",
              "24613  32.0    1091.0    5.0    blue-collar\n",
              "24799  31.0     290.0    5.0   entrepreneur\n",
              "...     ...       ...    ...            ...\n",
              "41163  35.0     385.0    4.0     technician\n",
              "41164  54.0    1868.0   10.0         admin.\n",
              "41174  62.0     208.0    1.0        retired\n",
              "41178  62.0     483.0    6.0        retired\n",
              "41182  29.0     112.0    9.0     unemployed\n",
              "\n",
              "[1315 rows x 4 columns]"
            ],
            "text/html": [
              "\n",
              "  <div id=\"df-0592cb26-9550-474e-b83b-2056ec027b0b\">\n",
              "    <div class=\"colab-df-container\">\n",
              "      <div>\n",
              "<style scoped>\n",
              "    .dataframe tbody tr th:only-of-type {\n",
              "        vertical-align: middle;\n",
              "    }\n",
              "\n",
              "    .dataframe tbody tr th {\n",
              "        vertical-align: top;\n",
              "    }\n",
              "\n",
              "    .dataframe thead th {\n",
              "        text-align: right;\n",
              "    }\n",
              "</style>\n",
              "<table border=\"1\" class=\"dataframe\">\n",
              "  <thead>\n",
              "    <tr style=\"text-align: right;\">\n",
              "      <th></th>\n",
              "      <th>age</th>\n",
              "      <th>duration</th>\n",
              "      <th>pdays</th>\n",
              "      <th>job</th>\n",
              "    </tr>\n",
              "  </thead>\n",
              "  <tbody>\n",
              "    <tr>\n",
              "      <th>24108</th>\n",
              "      <td>37.0</td>\n",
              "      <td>119.0</td>\n",
              "      <td>6.0</td>\n",
              "      <td>admin.</td>\n",
              "    </tr>\n",
              "    <tr>\n",
              "      <th>24264</th>\n",
              "      <td>48.0</td>\n",
              "      <td>112.0</td>\n",
              "      <td>4.0</td>\n",
              "      <td>management</td>\n",
              "    </tr>\n",
              "    <tr>\n",
              "      <th>24482</th>\n",
              "      <td>36.0</td>\n",
              "      <td>200.0</td>\n",
              "      <td>4.0</td>\n",
              "      <td>self-employed</td>\n",
              "    </tr>\n",
              "    <tr>\n",
              "      <th>24613</th>\n",
              "      <td>32.0</td>\n",
              "      <td>1091.0</td>\n",
              "      <td>5.0</td>\n",
              "      <td>blue-collar</td>\n",
              "    </tr>\n",
              "    <tr>\n",
              "      <th>24799</th>\n",
              "      <td>31.0</td>\n",
              "      <td>290.0</td>\n",
              "      <td>5.0</td>\n",
              "      <td>entrepreneur</td>\n",
              "    </tr>\n",
              "    <tr>\n",
              "      <th>...</th>\n",
              "      <td>...</td>\n",
              "      <td>...</td>\n",
              "      <td>...</td>\n",
              "      <td>...</td>\n",
              "    </tr>\n",
              "    <tr>\n",
              "      <th>41163</th>\n",
              "      <td>35.0</td>\n",
              "      <td>385.0</td>\n",
              "      <td>4.0</td>\n",
              "      <td>technician</td>\n",
              "    </tr>\n",
              "    <tr>\n",
              "      <th>41164</th>\n",
              "      <td>54.0</td>\n",
              "      <td>1868.0</td>\n",
              "      <td>10.0</td>\n",
              "      <td>admin.</td>\n",
              "    </tr>\n",
              "    <tr>\n",
              "      <th>41174</th>\n",
              "      <td>62.0</td>\n",
              "      <td>208.0</td>\n",
              "      <td>1.0</td>\n",
              "      <td>retired</td>\n",
              "    </tr>\n",
              "    <tr>\n",
              "      <th>41178</th>\n",
              "      <td>62.0</td>\n",
              "      <td>483.0</td>\n",
              "      <td>6.0</td>\n",
              "      <td>retired</td>\n",
              "    </tr>\n",
              "    <tr>\n",
              "      <th>41182</th>\n",
              "      <td>29.0</td>\n",
              "      <td>112.0</td>\n",
              "      <td>9.0</td>\n",
              "      <td>unemployed</td>\n",
              "    </tr>\n",
              "  </tbody>\n",
              "</table>\n",
              "<p>1315 rows × 4 columns</p>\n",
              "</div>\n",
              "      <button class=\"colab-df-convert\" onclick=\"convertToInteractive('df-0592cb26-9550-474e-b83b-2056ec027b0b')\"\n",
              "              title=\"Convert this dataframe to an interactive table.\"\n",
              "              style=\"display:none;\">\n",
              "        \n",
              "  <svg xmlns=\"http://www.w3.org/2000/svg\" height=\"24px\"viewBox=\"0 0 24 24\"\n",
              "       width=\"24px\">\n",
              "    <path d=\"M0 0h24v24H0V0z\" fill=\"none\"/>\n",
              "    <path d=\"M18.56 5.44l.94 2.06.94-2.06 2.06-.94-2.06-.94-.94-2.06-.94 2.06-2.06.94zm-11 1L8.5 8.5l.94-2.06 2.06-.94-2.06-.94L8.5 2.5l-.94 2.06-2.06.94zm10 10l.94 2.06.94-2.06 2.06-.94-2.06-.94-.94-2.06-.94 2.06-2.06.94z\"/><path d=\"M17.41 7.96l-1.37-1.37c-.4-.4-.92-.59-1.43-.59-.52 0-1.04.2-1.43.59L10.3 9.45l-7.72 7.72c-.78.78-.78 2.05 0 2.83L4 21.41c.39.39.9.59 1.41.59.51 0 1.02-.2 1.41-.59l7.78-7.78 2.81-2.81c.8-.78.8-2.07 0-2.86zM5.41 20L4 18.59l7.72-7.72 1.47 1.35L5.41 20z\"/>\n",
              "  </svg>\n",
              "      </button>\n",
              "      \n",
              "  <style>\n",
              "    .colab-df-container {\n",
              "      display:flex;\n",
              "      flex-wrap:wrap;\n",
              "      gap: 12px;\n",
              "    }\n",
              "\n",
              "    .colab-df-convert {\n",
              "      background-color: #E8F0FE;\n",
              "      border: none;\n",
              "      border-radius: 50%;\n",
              "      cursor: pointer;\n",
              "      display: none;\n",
              "      fill: #1967D2;\n",
              "      height: 32px;\n",
              "      padding: 0 0 0 0;\n",
              "      width: 32px;\n",
              "    }\n",
              "\n",
              "    .colab-df-convert:hover {\n",
              "      background-color: #E2EBFA;\n",
              "      box-shadow: 0px 1px 2px rgba(60, 64, 67, 0.3), 0px 1px 3px 1px rgba(60, 64, 67, 0.15);\n",
              "      fill: #174EA6;\n",
              "    }\n",
              "\n",
              "    [theme=dark] .colab-df-convert {\n",
              "      background-color: #3B4455;\n",
              "      fill: #D2E3FC;\n",
              "    }\n",
              "\n",
              "    [theme=dark] .colab-df-convert:hover {\n",
              "      background-color: #434B5C;\n",
              "      box-shadow: 0px 1px 3px 1px rgba(0, 0, 0, 0.15);\n",
              "      filter: drop-shadow(0px 1px 2px rgba(0, 0, 0, 0.3));\n",
              "      fill: #FFFFFF;\n",
              "    }\n",
              "  </style>\n",
              "\n",
              "      <script>\n",
              "        const buttonEl =\n",
              "          document.querySelector('#df-0592cb26-9550-474e-b83b-2056ec027b0b button.colab-df-convert');\n",
              "        buttonEl.style.display =\n",
              "          google.colab.kernel.accessAllowed ? 'block' : 'none';\n",
              "\n",
              "        async function convertToInteractive(key) {\n",
              "          const element = document.querySelector('#df-0592cb26-9550-474e-b83b-2056ec027b0b');\n",
              "          const dataTable =\n",
              "            await google.colab.kernel.invokeFunction('convertToInteractive',\n",
              "                                                     [key], {});\n",
              "          if (!dataTable) return;\n",
              "\n",
              "          const docLinkHtml = 'Like what you see? Visit the ' +\n",
              "            '<a target=\"_blank\" href=https://colab.research.google.com/notebooks/data_table.ipynb>data table notebook</a>'\n",
              "            + ' to learn more about interactive tables.';\n",
              "          element.innerHTML = '';\n",
              "          dataTable['output_type'] = 'display_data';\n",
              "          await google.colab.output.renderOutput(dataTable, element);\n",
              "          const docLink = document.createElement('div');\n",
              "          docLink.innerHTML = docLinkHtml;\n",
              "          element.appendChild(docLink);\n",
              "        }\n",
              "      </script>\n",
              "    </div>\n",
              "  </div>\n",
              "  "
            ]
          },
          "metadata": {},
          "execution_count": 4
        }
      ]
    },
    {
      "cell_type": "markdown",
      "source": [
        "**Part 1: Linear Regression**"
      ],
      "metadata": {
        "id": "1FwUeyZNQnif"
      }
    },
    {
      "cell_type": "code",
      "source": [
        "import random\n",
        "data_sample_200 =  temp_data.sample(200,random_state=1)"
      ],
      "metadata": {
        "id": "7fFLU9fWypKW"
      },
      "execution_count": 5,
      "outputs": []
    },
    {
      "cell_type": "code",
      "source": [
        "df = pd.DataFrame(data_sample_200, columns = ['job','duration','age','pdays'])\n",
        "a = df.groupby(['job']).median().sort_values(['duration']).reset_index()\n",
        "a= a['job'].to_numpy()"
      ],
      "metadata": {
        "id": "nDtzsFddbOlU"
      },
      "execution_count": 6,
      "outputs": []
    },
    {
      "cell_type": "code",
      "source": [
        "job_to_index = {}\n",
        "for i,j in enumerate(a):\n",
        "  job_to_index[j] = i"
      ],
      "metadata": {
        "id": "gmzRnlZWbLQi"
      },
      "execution_count": 7,
      "outputs": []
    },
    {
      "cell_type": "code",
      "source": [
        "df = pd.DataFrame(data_sample_200, columns = ['job','duration','age','pdays'])\n",
        "df2 = pd.DataFrame(temp_data, columns = ['job','duration','age','pdays'])\n",
        "df2['temp'] = df2.apply(lambda y : job_to_index[y['job']],axis = 1)"
      ],
      "metadata": {
        "id": "Ta-WX8iB1Vl6"
      },
      "execution_count": 8,
      "outputs": []
    },
    {
      "cell_type": "code",
      "source": [
        "\n",
        "df['temp'] = df.apply(lambda y : job_to_index[y['job']],axis = 1)"
      ],
      "metadata": {
        "id": "Kwq9DkgE06vA"
      },
      "execution_count": 9,
      "outputs": []
    },
    {
      "cell_type": "markdown",
      "source": [
        "**Q.1:**"
      ],
      "metadata": {
        "id": "ebd3dD57sob8"
      }
    },
    {
      "cell_type": "code",
      "source": [
        "X = df[['temp','age','pdays']].to_numpy()\n",
        "X = np.hstack((np.ones((len(df.index),1)),X))\n",
        "Y = df['duration'].to_numpy()\n",
        "beta_hat = np.linalg.inv(X.T@X)@X.T@Y\n",
        "print(\"Beta hat values based on our sample are:\", beta_hat)"
      ],
      "metadata": {
        "colab": {
          "base_uri": "https://localhost:8080/"
        },
        "id": "AS_YPFB-09pW",
        "outputId": "97884892-edd4-4a93-90ba-73f1971d102f"
      },
      "execution_count": 10,
      "outputs": [
        {
          "output_type": "stream",
          "name": "stdout",
          "text": [
            "Beta hat values based on our sample are: [317.19568028   8.33439449  -0.46539474  -1.06261204]\n"
          ]
        }
      ]
    },
    {
      "cell_type": "code",
      "source": [
        "p = len(beta_hat)\n",
        "P_big = X@np.linalg.inv(X.T@X)@X.T\n",
        "k=p-1\n",
        "SSE = Y.T @(np.identity(200)-P_big)@Y"
      ],
      "metadata": {
        "id": "-eDcSYNz1HXM"
      },
      "execution_count": 11,
      "outputs": []
    },
    {
      "cell_type": "markdown",
      "source": [
        "**Q1.a**"
      ],
      "metadata": {
        "id": "hwh5RgNTsuNs"
      }
    },
    {
      "cell_type": "code",
      "source": [
        "dict_b = {}\n",
        "sigma_data = SSE/196\n",
        "C = np.linalg.inv(X.T@X)\n",
        "for i in range(4):\n",
        "  print(\" For beta\",i,\"CI is:\")\n",
        "  dict_b[i] = [beta_hat[i] - 2*np.sqrt(sigma_data*C[i][i]),beta_hat[i] + 2*np.sqrt(sigma_data*C[i][i])]\n",
        "  print(dict_b[i])\n",
        "  #print('Lenght of the CI of beta', i,' based on the variance matrix is:',print)"
      ],
      "metadata": {
        "colab": {
          "base_uri": "https://localhost:8080/"
        },
        "id": "Sp6v5ZSX0lQW",
        "outputId": "ba765940-b4fd-45a4-c674-0991418764ea"
      },
      "execution_count": 12,
      "outputs": [
        {
          "output_type": "stream",
          "name": "stdout",
          "text": [
            " For beta 0 CI is:\n",
            "[186.57323338410663, 447.8181271728637]\n",
            " For beta 1 CI is:\n",
            "[-2.822088026536422, 19.490876999756722]\n",
            " For beta 2 CI is:\n",
            "[-2.8426552537701157, 1.9118657661750929]\n",
            " For beta 3 CI is:\n",
            "[-10.266015132186762, 8.140791060168315]\n"
          ]
        }
      ]
    },
    {
      "cell_type": "code",
      "source": [
        "data_400 = df.sample(n=400, replace=True)\n",
        "df_400 = pd.DataFrame(data_400, columns = ['job','duration','age','pdays'])\n",
        "df_400['temp'] = df_400.apply(lambda y : job_to_index[y['job']],axis = 1)\n",
        "X_b = df_400[['temp','age','pdays']].to_numpy()\n",
        "X_b = np.hstack((np.ones((len(df_400.index),1)),X_b))\n",
        "Y_b = df_400['duration'].to_numpy()\n",
        "\n",
        "beta_hat_b = np.linalg.inv(X_b.T@X_b)@X_b.T@Y_b\n",
        "beta_hat_b"
      ],
      "metadata": {
        "colab": {
          "base_uri": "https://localhost:8080/"
        },
        "id": "LE8zi22-GLRL",
        "outputId": "41b93107-0ff3-4d54-9925-93c6a1b8171e"
      },
      "execution_count": 13,
      "outputs": [
        {
          "output_type": "execute_result",
          "data": {
            "text/plain": [
              "array([372.10467284,   6.03882383,  -1.88942589,   1.5223421 ])"
            ]
          },
          "metadata": {},
          "execution_count": 13
        }
      ]
    },
    {
      "cell_type": "code",
      "source": [
        "Beta_avg=0\n",
        "sum=0\n",
        "for i in beta_hat_b:\n",
        "  Beta_avg = Beta_avg + (i**2)\n",
        "  sum = sum + i\n",
        "Beta_avg_2 = 1/400*Beta_avg\n",
        "Beta_avg = (1/400*sum)**2\n",
        "se_boot = np.sqrt(Beta_avg_2-Beta_avg)\n",
        "se_boot"
      ],
      "metadata": {
        "colab": {
          "base_uri": "https://localhost:8080/"
        },
        "id": "OW9VGS6vIas5",
        "outputId": "c0874225-3b04-471e-acb0-9893cf8374ef"
      },
      "execution_count": 14,
      "outputs": [
        {
          "output_type": "execute_result",
          "data": {
            "text/plain": [
              "18.584096349874084"
            ]
          },
          "metadata": {},
          "execution_count": 14
        }
      ]
    },
    {
      "cell_type": "markdown",
      "source": [
        "**Q1.b**"
      ],
      "metadata": {
        "id": "goAnVY-ls6nK"
      }
    },
    {
      "cell_type": "code",
      "source": [
        "dict_c={}\n",
        "for i in range(4):\n",
        "  print(\" For beta\",i,\"CI is:\")\n",
        "  dict_c[i] = [beta_hat_b[i] - 2*se_boot,beta_hat_b[i] + 2*se_boot]\n",
        "  print(dict_c[i])"
      ],
      "metadata": {
        "colab": {
          "base_uri": "https://localhost:8080/"
        },
        "id": "MhG3u9OOJ8ix",
        "outputId": "03f015ce-232a-41b2-f61f-bddd1de558a2"
      },
      "execution_count": 15,
      "outputs": [
        {
          "output_type": "stream",
          "name": "stdout",
          "text": [
            " For beta 0 CI is:\n",
            "[334.9364801451193, 409.27286554461557]\n",
            " For beta 1 CI is:\n",
            "[-31.12936886982775, 43.207016529668586]\n",
            " For beta 2 CI is:\n",
            "[-39.057618589300844, 35.27876681019549]\n",
            " For beta 3 CI is:\n",
            "[-35.64585060301952, 38.69053479647682]\n"
          ]
        }
      ]
    },
    {
      "cell_type": "markdown",
      "source": [
        "**Q1.c**"
      ],
      "metadata": {
        "id": "749m51uPs9DX"
      }
    },
    {
      "cell_type": "code",
      "source": [
        "dict_d={}\n",
        "for i in range(4):\n",
        "  print(\" For beta\",i,\"CI is:\")\n",
        "  dict_d[i] = [2*beta_hat[i]-np.quantile(beta_hat_b[i],0.975),2*beta_hat[i]+np.quantile(beta_hat_b[i],0.025)]\n",
        "  print(dict_d[i])"
      ],
      "metadata": {
        "colab": {
          "base_uri": "https://localhost:8080/"
        },
        "id": "KmOHJ30pLoau",
        "outputId": "e47a7bba-a843-4e27-f171-e2754a503009"
      },
      "execution_count": 16,
      "outputs": [
        {
          "output_type": "stream",
          "name": "stdout",
          "text": [
            " For beta 0 CI is:\n",
            "[262.2866877121029, 1006.4960334018377]\n",
            " For beta 1 CI is:\n",
            "[10.629965143299883, 22.707612803140712]\n",
            " For beta 2 CI is:\n",
            "[0.9586364019576539, -2.820215377147699]\n",
            " For beta 3 CI is:\n",
            "[-3.647566168747099, -0.6028819752897978]\n"
          ]
        }
      ]
    },
    {
      "cell_type": "markdown",
      "source": [
        "**Q1.d**"
      ],
      "metadata": {
        "id": "IlH9fGe8s_NZ"
      }
    },
    {
      "cell_type": "code",
      "source": [
        "dict_e={}\n",
        "for i in range(4):\n",
        "  print(\" For beta\",i,\"CI is:\")\n",
        "  dict_e[i] = [np.quantile(beta_hat_b[i],0.025),np.quantile(beta_hat_b[i],0.975)]\n",
        "  print(dict_e[i])"
      ],
      "metadata": {
        "colab": {
          "base_uri": "https://localhost:8080/"
        },
        "id": "SRch6rjYMj4V",
        "outputId": "45181650-8109-4413-8eae-cbcb3468d63b"
      },
      "execution_count": 17,
      "outputs": [
        {
          "output_type": "stream",
          "name": "stdout",
          "text": [
            " For beta 0 CI is:\n",
            "[372.1046728448674, 372.1046728448674]\n",
            " For beta 1 CI is:\n",
            "[6.038823829920416, 6.038823829920416]\n",
            " For beta 2 CI is:\n",
            "[-1.8894258895526765, -1.8894258895526765]\n",
            " For beta 3 CI is:\n",
            "[1.5223420967286505, 1.5223420967286505]\n"
          ]
        }
      ]
    },
    {
      "cell_type": "markdown",
      "source": [
        "**Q.2**"
      ],
      "metadata": {
        "id": "xlkTC_EatFH_"
      }
    },
    {
      "cell_type": "markdown",
      "source": [
        "Lenght of our confidence intervals:"
      ],
      "metadata": {
        "id": "BQJexPwPPRXO"
      }
    },
    {
      "cell_type": "code",
      "source": [
        "for i in range(4):\n",
        "  print('Lenght of the CI of beta', i,' based on the variance matrix:')\n",
        "  print(abs(dict_b[i][1]-dict_b[i][0]+1))\n",
        "  print('Lenght of the CI of beta', i,' based on normal distribution with Bootstrap:')\n",
        "  print(abs(dict_c[i][1]-dict_c[i][0]+1))\n",
        "  print('Lenght of the CI of beta', i,' based on pivot technique with Bootstrap:')\n",
        "  print(abs(dict_d[i][1]-dict_d[i][0]+1))\n",
        "  print('Lenght of the CI of beta', i,' based on percentile technique with Bootstrap:')\n",
        "  print(abs(dict_e[i][1]-dict_e[i][0]+1))"
      ],
      "metadata": {
        "colab": {
          "base_uri": "https://localhost:8080/"
        },
        "id": "d3qw2LYXPPVb",
        "outputId": "f4161130-631b-443a-f117-2104c6853bae"
      },
      "execution_count": 51,
      "outputs": [
        {
          "output_type": "stream",
          "name": "stdout",
          "text": [
            "Lenght of the CI of beta 0  based on the variance matrix:\n",
            "262.24489378875705\n",
            "Lenght of the CI of beta 0  based on normal distribution with Bootstrap:\n",
            "75.3363853994963\n",
            "Lenght of the CI of beta 0  based on pivot technique with Bootstrap:\n",
            "745.2093456897348\n",
            "Lenght of the CI of beta 0  based on percentile technique with Bootstrap:\n",
            "1.0\n",
            "Lenght of the CI of beta 1  based on the variance matrix:\n",
            "23.312965026293142\n",
            "Lenght of the CI of beta 1  based on normal distribution with Bootstrap:\n",
            "75.33638539949634\n",
            "Lenght of the CI of beta 1  based on pivot technique with Bootstrap:\n",
            "13.07764765984083\n",
            "Lenght of the CI of beta 1  based on percentile technique with Bootstrap:\n",
            "1.0\n",
            "Lenght of the CI of beta 2  based on the variance matrix:\n",
            "5.754521019945209\n",
            "Lenght of the CI of beta 2  based on normal distribution with Bootstrap:\n",
            "75.33638539949634\n",
            "Lenght of the CI of beta 2  based on pivot technique with Bootstrap:\n",
            "2.778851779105353\n",
            "Lenght of the CI of beta 2  based on percentile technique with Bootstrap:\n",
            "1.0\n",
            "Lenght of the CI of beta 3  based on the variance matrix:\n",
            "19.406806192355077\n",
            "Lenght of the CI of beta 3  based on normal distribution with Bootstrap:\n",
            "75.33638539949634\n",
            "Lenght of the CI of beta 3  based on pivot technique with Bootstrap:\n",
            "4.044684193457301\n",
            "Lenght of the CI of beta 3  based on percentile technique with Bootstrap:\n",
            "1.0\n"
          ]
        }
      ]
    },
    {
      "cell_type": "markdown",
      "source": [
        "Verification: Is our CI contains our real values of beta ?"
      ],
      "metadata": {
        "id": "eyxmB_SzPV9z"
      }
    },
    {
      "cell_type": "code",
      "source": [
        "X2 = df2[['temp','age','pdays']].to_numpy()\n",
        "X2 = np.hstack((np.ones((len(df2.index),1)),X2))\n",
        "Y2 = df2['duration'].to_numpy()\n",
        "beta_hat2 = np.linalg.inv(X2.T@X2)@X2.T@Y2\n",
        "\n",
        "for i in range(4):\n",
        "  print(\"Is beta\",i ,\"obtained from the original data is in our CI ? \")\n",
        "  print((beta_hat2[i]>dict_b[i][0])&(beta_hat2[i] < dict_b[i][1]))"
      ],
      "metadata": {
        "colab": {
          "base_uri": "https://localhost:8080/"
        },
        "id": "0gqdHWJkO6ts",
        "outputId": "e164556d-d75a-4006-8624-7875afb16ffc"
      },
      "execution_count": 19,
      "outputs": [
        {
          "output_type": "stream",
          "name": "stdout",
          "text": [
            "Is beta 0 obtained from the original data is in our CI ? \n",
            "True\n",
            "Is beta 1 obtained from the original data is in our CI ? \n",
            "True\n",
            "Is beta 2 obtained from the original data is in our CI ? \n",
            "True\n",
            "Is beta 3 obtained from the original data is in our CI ? \n",
            "True\n"
          ]
        }
      ]
    },
    {
      "cell_type": "code",
      "source": [
        "for i in range(4):\n",
        "  print(\"Is beta\",i ,\"obtained from the original data is in our CI ? \")\n",
        "  print((beta_hat2[i]>dict_c[i][0])&(beta_hat2[i] < dict_c[i][1]))"
      ],
      "metadata": {
        "colab": {
          "base_uri": "https://localhost:8080/"
        },
        "id": "PmBm3bO0PPk9",
        "outputId": "8505abad-826f-498a-9d22-d2831d9d1885"
      },
      "execution_count": 20,
      "outputs": [
        {
          "output_type": "stream",
          "name": "stdout",
          "text": [
            "Is beta 0 obtained from the original data is in our CI ? \n",
            "False\n",
            "Is beta 1 obtained from the original data is in our CI ? \n",
            "True\n",
            "Is beta 2 obtained from the original data is in our CI ? \n",
            "True\n",
            "Is beta 3 obtained from the original data is in our CI ? \n",
            "True\n"
          ]
        }
      ]
    },
    {
      "cell_type": "code",
      "source": [
        "for i in range(4):\n",
        "  print(\"Is beta\",i ,\"obtained from the original data is in our CI ? \")\n",
        "  print((beta_hat2[i]>dict_d[i][0])&(beta_hat2[i] < dict_d[i][1]))"
      ],
      "metadata": {
        "colab": {
          "base_uri": "https://localhost:8080/"
        },
        "id": "hMKSMQBTPUsq",
        "outputId": "ffad3af0-7528-49f8-bab0-3955910fdc1f"
      },
      "execution_count": 21,
      "outputs": [
        {
          "output_type": "stream",
          "name": "stdout",
          "text": [
            "Is beta 0 obtained from the original data is in our CI ? \n",
            "True\n",
            "Is beta 1 obtained from the original data is in our CI ? \n",
            "False\n",
            "Is beta 2 obtained from the original data is in our CI ? \n",
            "False\n",
            "Is beta 3 obtained from the original data is in our CI ? \n",
            "False\n"
          ]
        }
      ]
    },
    {
      "cell_type": "code",
      "source": [
        "for i in range(4):\n",
        "  print(\"Is beta\",i ,\"obtained from the original data is in our CI ? \")\n",
        "  print((beta_hat2[i]>dict_e[i][0])&(beta_hat2[i] < dict_e[i][1]))"
      ],
      "metadata": {
        "colab": {
          "base_uri": "https://localhost:8080/"
        },
        "id": "kvUH5ctcPdOy",
        "outputId": "7d22c288-79d3-4501-9e17-986b62882fc8"
      },
      "execution_count": 22,
      "outputs": [
        {
          "output_type": "stream",
          "name": "stdout",
          "text": [
            "Is beta 0 obtained from the original data is in our CI ? \n",
            "False\n",
            "Is beta 1 obtained from the original data is in our CI ? \n",
            "False\n",
            "Is beta 2 obtained from the original data is in our CI ? \n",
            "False\n",
            "Is beta 3 obtained from the original data is in our CI ? \n",
            "False\n"
          ]
        }
      ]
    },
    {
      "cell_type": "markdown",
      "source": [
        "**Q.3**"
      ],
      "metadata": {
        "id": "I82DYq3SLEUd"
      }
    },
    {
      "cell_type": "code",
      "source": [
        "df3 = temp_data.sample(300,random_state=33)\n",
        "df3 = pd.concat([df3,data_sample_200]).drop_duplicates(keep=False).head(100)"
      ],
      "metadata": {
        "id": "SKoBME85WKle"
      },
      "execution_count": 23,
      "outputs": []
    },
    {
      "cell_type": "code",
      "source": [
        "df3['temp'] = df3.apply(lambda y : job_to_index[y['job']],axis = 1)\n",
        "X_all = df3[['temp','age','pdays']].to_numpy()\n",
        "X_all = np.hstack((np.ones((len(df3.index),1)),X_all))\n",
        "Y_all = df3['duration'].to_numpy()"
      ],
      "metadata": {
        "id": "gX9XohxPWAq-"
      },
      "execution_count": 24,
      "outputs": []
    },
    {
      "cell_type": "markdown",
      "source": [
        "**Q3.a**"
      ],
      "metadata": {
        "id": "wPFq9WYctPuY"
      }
    },
    {
      "cell_type": "code",
      "source": [
        "beta_hat3 = np.linalg.inv(X_all.T@X_all)@X_all.T@Y_all\n",
        "y3_pred = beta_hat @ X_all.T\n",
        "for i in range(100):\n",
        "  print(\"Prediction given X_new_\",i,\"is:\")\n",
        "  print(y3_pred[i])"
      ],
      "metadata": {
        "colab": {
          "base_uri": "https://localhost:8080/"
        },
        "id": "6jXrizOOWDFe",
        "outputId": "76329c7c-0587-4eac-d40b-f2b78dc5ecf4"
      },
      "execution_count": 25,
      "outputs": [
        {
          "output_type": "stream",
          "name": "stdout",
          "text": [
            "Prediction given X_new_ 0 is:\n",
            "291.2035017243794\n",
            "Prediction given X_new_ 1 is:\n",
            "319.9026269377801\n",
            "Prediction given X_new_ 2 is:\n",
            "360.7681693754104\n",
            "Prediction given X_new_ 3 is:\n",
            "374.2565852968427\n",
            "Prediction given X_new_ 4 is:\n",
            "291.2035017243794\n",
            "Prediction given X_new_ 5 is:\n",
            "359.56570314229145\n",
            "Prediction given X_new_ 6 is:\n",
            "311.5799539430446\n",
            "Prediction given X_new_ 7 is:\n",
            "289.2181318494708\n",
            "Prediction given X_new_ 8 is:\n",
            "315.4349344418389\n",
            "Prediction given X_new_ 9 is:\n",
            "297.25363339374707\n",
            "Prediction given X_new_ 10 is:\n",
            "318.9563427452499\n",
            "Prediction given X_new_ 11 is:\n",
            "306.3523155664886\n",
            "Prediction given X_new_ 12 is:\n",
            "312.90621107588225\n",
            "Prediction given X_new_ 13 is:\n",
            "320.3525269766424\n",
            "Prediction given X_new_ 14 is:\n",
            "359.185730201984\n",
            "Prediction given X_new_ 15 is:\n",
            "311.2699081012921\n",
            "Prediction given X_new_ 16 is:\n",
            "346.1973882773988\n",
            "Prediction given X_new_ 17 is:\n",
            "356.9478681296656\n",
            "Prediction given X_new_ 18 is:\n",
            "341.3849706866556\n",
            "Prediction given X_new_ 19 is:\n",
            "360.5856042765556\n",
            "Prediction given X_new_ 20 is:\n",
            "314.76779005107227\n",
            "Prediction given X_new_ 21 is:\n",
            "315.0549615015315\n",
            "Prediction given X_new_ 22 is:\n",
            "363.0407107007783\n",
            "Prediction given X_new_ 23 is:\n",
            "310.5328366119706\n",
            "Prediction given X_new_ 24 is:\n",
            "312.26259303874645\n",
            "Prediction given X_new_ 25 is:\n",
            "294.5311920295169\n",
            "Prediction given X_new_ 26 is:\n",
            "315.78400134215747\n",
            "Prediction given X_new_ 27 is:\n",
            "289.8073174929869\n",
            "Prediction given X_new_ 28 is:\n",
            "302.53201432074377\n",
            "Prediction given X_new_ 29 is:\n",
            "375.47823607807595\n",
            "Prediction given X_new_ 30 is:\n",
            "294.5856244231366\n",
            "Prediction given X_new_ 31 is:\n",
            "361.17913172558826\n",
            "Prediction given X_new_ 32 is:\n",
            "297.78895523609947\n",
            "Prediction given X_new_ 33 is:\n",
            "297.6336063340545\n",
            "Prediction given X_new_ 34 is:\n",
            "296.85816574850446\n",
            "Prediction given X_new_ 35 is:\n",
            "315.65217879374325\n",
            "Prediction given X_new_ 36 is:\n",
            "315.69857953866733\n",
            "Prediction given X_new_ 37 is:\n",
            "357.9912956175606\n",
            "Prediction given X_new_ 38 is:\n",
            "299.15415005762156\n",
            "Prediction given X_new_ 39 is:\n",
            "321.28331646423743\n",
            "Prediction given X_new_ 40 is:\n",
            "358.3867632628032\n",
            "Prediction given X_new_ 41 is:\n",
            "309.18305312550217\n",
            "Prediction given X_new_ 42 is:\n",
            "316.23390138101973\n",
            "Prediction given X_new_ 43 is:\n",
            "291.7660397635417\n",
            "Prediction given X_new_ 44 is:\n",
            "372.26318377323844\n",
            "Prediction given X_new_ 45 is:\n",
            "313.9923494655223\n",
            "Prediction given X_new_ 46 is:\n",
            "314.8532118545624\n",
            "Prediction given X_new_ 47 is:\n",
            "308.6440414399707\n",
            "Prediction given X_new_ 48 is:\n",
            "306.94150121000473\n",
            "Prediction given X_new_ 49 is:\n",
            "316.23390138101973\n",
            "Prediction given X_new_ 50 is:\n",
            "360.2056313362482\n",
            "Prediction given X_new_ 51 is:\n",
            "361.64452646938577\n",
            "Prediction given X_new_ 52 is:\n",
            "303.5364207500727\n",
            "Prediction given X_new_ 53 is:\n",
            "353.3453798282811\n",
            "Prediction given X_new_ 54 is:\n",
            "314.9850344029766\n",
            "Prediction given X_new_ 55 is:\n",
            "366.7056630444781\n",
            "Prediction given X_new_ 56 is:\n",
            "312.1307704903322\n",
            "Prediction given X_new_ 57 is:\n",
            "296.65641610153534\n",
            "Prediction given X_new_ 58 is:\n",
            "317.18018557355\n",
            "Prediction given X_new_ 59 is:\n",
            "293.9531592854195\n",
            "Prediction given X_new_ 60 is:\n",
            "307.61667724946693\n",
            "Prediction given X_new_ 61 is:\n",
            "374.1247627484285\n",
            "Prediction given X_new_ 62 is:\n",
            "305.58802788035723\n",
            "Prediction given X_new_ 63 is:\n",
            "311.46362609956566\n",
            "Prediction given X_new_ 64 is:\n",
            "313.5269547217248\n",
            "Prediction given X_new_ 65 is:\n",
            "316.4356510279888\n",
            "Prediction given X_new_ 66 is:\n",
            "309.865692221204\n",
            "Prediction given X_new_ 67 is:\n",
            "305.28970353047936\n",
            "Prediction given X_new_ 68 is:\n",
            "317.51375776893326\n",
            "Prediction given X_new_ 69 is:\n",
            "362.0244994096932\n",
            "Prediction given X_new_ 70 is:\n",
            "359.8528745927506\n",
            "Prediction given X_new_ 71 is:\n",
            "314.90764424818207\n",
            "Prediction given X_new_ 72 is:\n",
            "362.5598212520456\n",
            "Prediction given X_new_ 73 is:\n",
            "311.1727648059274\n",
            "Prediction given X_new_ 74 is:\n",
            "332.27825686521845\n",
            "Prediction given X_new_ 75 is:\n",
            "369.07534766521076\n",
            "Prediction given X_new_ 76 is:\n",
            "304.1918436489647\n",
            "Prediction given X_new_ 77 is:\n",
            "312.5262381355749\n",
            "Prediction given X_new_ 78 is:\n",
            "310.1138426130972\n",
            "Prediction given X_new_ 79 is:\n",
            "355.79671303944326\n",
            "Prediction given X_new_ 80 is:\n",
            "368.14455817761575\n",
            "Prediction given X_new_ 81 is:\n",
            "298.7042500187593\n",
            "Prediction given X_new_ 82 is:\n",
            "295.92737626090945\n",
            "Prediction given X_new_ 83 is:\n",
            "354.6017098625638\n",
            "Prediction given X_new_ 84 is:\n",
            "308.6712576367806\n",
            "Prediction given X_new_ 85 is:\n",
            "310.0674418681731\n",
            "Prediction given X_new_ 86 is:\n",
            "375.91641462506357\n",
            "Prediction given X_new_ 87 is:\n",
            "324.18085987108293\n",
            "Prediction given X_new_ 88 is:\n",
            "290.43978263070403\n",
            "Prediction given X_new_ 89 is:\n",
            "307.9849286978997\n",
            "Prediction given X_new_ 90 is:\n",
            "302.5672621662492\n",
            "Prediction given X_new_ 91 is:\n",
            "351.24680336061647\n",
            "Prediction given X_new_ 92 is:\n",
            "339.05742837521206\n",
            "Prediction given X_new_ 93 is:\n",
            "299.2742511141612\n",
            "Prediction given X_new_ 94 is:\n",
            "364.52600657884\n",
            "Prediction given X_new_ 95 is:\n",
            "306.3523155664886\n",
            "Prediction given X_new_ 96 is:\n",
            "369.14527476376566\n",
            "Prediction given X_new_ 97 is:\n",
            "307.81842689643605\n",
            "Prediction given X_new_ 98 is:\n",
            "315.30311189342467\n",
            "Prediction given X_new_ 99 is:\n",
            "357.5259008737631\n"
          ]
        }
      ]
    },
    {
      "cell_type": "markdown",
      "source": [
        "**Q3.b**"
      ],
      "metadata": {
        "id": "ysBPyFpMugC1"
      }
    },
    {
      "cell_type": "code",
      "source": [
        "predictions_array = np.array(y3_pred)\n",
        "expectation_CI = []\n",
        "\n",
        "for i in range(100):\n",
        "  pred = np.sort(predictions_array)\n",
        "  ci = [pred[5], pred[95]]\n",
        "  expectation_CI.append(ci)\n",
        "\n",
        "for i in range(100):\n",
        "  print(\"Confidence Interval for the expectation of Y_New based on X_New point\",i,\"is:\")\n",
        "  print(expectation_CI[i])\n"
      ],
      "metadata": {
        "colab": {
          "base_uri": "https://localhost:8080/"
        },
        "id": "MXGLYySVuhsE",
        "outputId": "d1d34236-ab5f-45e0-8ff9-7704590c5ff2"
      },
      "execution_count": 26,
      "outputs": [
        {
          "output_type": "stream",
          "name": "stdout",
          "text": [
            "Confidence Interval for the expectation of Y_New based on X_New point 0 is:\n",
            "[291.7660397635417, 372.26318377323844]\n",
            "Confidence Interval for the expectation of Y_New based on X_New point 1 is:\n",
            "[291.7660397635417, 372.26318377323844]\n",
            "Confidence Interval for the expectation of Y_New based on X_New point 2 is:\n",
            "[291.7660397635417, 372.26318377323844]\n",
            "Confidence Interval for the expectation of Y_New based on X_New point 3 is:\n",
            "[291.7660397635417, 372.26318377323844]\n",
            "Confidence Interval for the expectation of Y_New based on X_New point 4 is:\n",
            "[291.7660397635417, 372.26318377323844]\n",
            "Confidence Interval for the expectation of Y_New based on X_New point 5 is:\n",
            "[291.7660397635417, 372.26318377323844]\n",
            "Confidence Interval for the expectation of Y_New based on X_New point 6 is:\n",
            "[291.7660397635417, 372.26318377323844]\n",
            "Confidence Interval for the expectation of Y_New based on X_New point 7 is:\n",
            "[291.7660397635417, 372.26318377323844]\n",
            "Confidence Interval for the expectation of Y_New based on X_New point 8 is:\n",
            "[291.7660397635417, 372.26318377323844]\n",
            "Confidence Interval for the expectation of Y_New based on X_New point 9 is:\n",
            "[291.7660397635417, 372.26318377323844]\n",
            "Confidence Interval for the expectation of Y_New based on X_New point 10 is:\n",
            "[291.7660397635417, 372.26318377323844]\n",
            "Confidence Interval for the expectation of Y_New based on X_New point 11 is:\n",
            "[291.7660397635417, 372.26318377323844]\n",
            "Confidence Interval for the expectation of Y_New based on X_New point 12 is:\n",
            "[291.7660397635417, 372.26318377323844]\n",
            "Confidence Interval for the expectation of Y_New based on X_New point 13 is:\n",
            "[291.7660397635417, 372.26318377323844]\n",
            "Confidence Interval for the expectation of Y_New based on X_New point 14 is:\n",
            "[291.7660397635417, 372.26318377323844]\n",
            "Confidence Interval for the expectation of Y_New based on X_New point 15 is:\n",
            "[291.7660397635417, 372.26318377323844]\n",
            "Confidence Interval for the expectation of Y_New based on X_New point 16 is:\n",
            "[291.7660397635417, 372.26318377323844]\n",
            "Confidence Interval for the expectation of Y_New based on X_New point 17 is:\n",
            "[291.7660397635417, 372.26318377323844]\n",
            "Confidence Interval for the expectation of Y_New based on X_New point 18 is:\n",
            "[291.7660397635417, 372.26318377323844]\n",
            "Confidence Interval for the expectation of Y_New based on X_New point 19 is:\n",
            "[291.7660397635417, 372.26318377323844]\n",
            "Confidence Interval for the expectation of Y_New based on X_New point 20 is:\n",
            "[291.7660397635417, 372.26318377323844]\n",
            "Confidence Interval for the expectation of Y_New based on X_New point 21 is:\n",
            "[291.7660397635417, 372.26318377323844]\n",
            "Confidence Interval for the expectation of Y_New based on X_New point 22 is:\n",
            "[291.7660397635417, 372.26318377323844]\n",
            "Confidence Interval for the expectation of Y_New based on X_New point 23 is:\n",
            "[291.7660397635417, 372.26318377323844]\n",
            "Confidence Interval for the expectation of Y_New based on X_New point 24 is:\n",
            "[291.7660397635417, 372.26318377323844]\n",
            "Confidence Interval for the expectation of Y_New based on X_New point 25 is:\n",
            "[291.7660397635417, 372.26318377323844]\n",
            "Confidence Interval for the expectation of Y_New based on X_New point 26 is:\n",
            "[291.7660397635417, 372.26318377323844]\n",
            "Confidence Interval for the expectation of Y_New based on X_New point 27 is:\n",
            "[291.7660397635417, 372.26318377323844]\n",
            "Confidence Interval for the expectation of Y_New based on X_New point 28 is:\n",
            "[291.7660397635417, 372.26318377323844]\n",
            "Confidence Interval for the expectation of Y_New based on X_New point 29 is:\n",
            "[291.7660397635417, 372.26318377323844]\n",
            "Confidence Interval for the expectation of Y_New based on X_New point 30 is:\n",
            "[291.7660397635417, 372.26318377323844]\n",
            "Confidence Interval for the expectation of Y_New based on X_New point 31 is:\n",
            "[291.7660397635417, 372.26318377323844]\n",
            "Confidence Interval for the expectation of Y_New based on X_New point 32 is:\n",
            "[291.7660397635417, 372.26318377323844]\n",
            "Confidence Interval for the expectation of Y_New based on X_New point 33 is:\n",
            "[291.7660397635417, 372.26318377323844]\n",
            "Confidence Interval for the expectation of Y_New based on X_New point 34 is:\n",
            "[291.7660397635417, 372.26318377323844]\n",
            "Confidence Interval for the expectation of Y_New based on X_New point 35 is:\n",
            "[291.7660397635417, 372.26318377323844]\n",
            "Confidence Interval for the expectation of Y_New based on X_New point 36 is:\n",
            "[291.7660397635417, 372.26318377323844]\n",
            "Confidence Interval for the expectation of Y_New based on X_New point 37 is:\n",
            "[291.7660397635417, 372.26318377323844]\n",
            "Confidence Interval for the expectation of Y_New based on X_New point 38 is:\n",
            "[291.7660397635417, 372.26318377323844]\n",
            "Confidence Interval for the expectation of Y_New based on X_New point 39 is:\n",
            "[291.7660397635417, 372.26318377323844]\n",
            "Confidence Interval for the expectation of Y_New based on X_New point 40 is:\n",
            "[291.7660397635417, 372.26318377323844]\n",
            "Confidence Interval for the expectation of Y_New based on X_New point 41 is:\n",
            "[291.7660397635417, 372.26318377323844]\n",
            "Confidence Interval for the expectation of Y_New based on X_New point 42 is:\n",
            "[291.7660397635417, 372.26318377323844]\n",
            "Confidence Interval for the expectation of Y_New based on X_New point 43 is:\n",
            "[291.7660397635417, 372.26318377323844]\n",
            "Confidence Interval for the expectation of Y_New based on X_New point 44 is:\n",
            "[291.7660397635417, 372.26318377323844]\n",
            "Confidence Interval for the expectation of Y_New based on X_New point 45 is:\n",
            "[291.7660397635417, 372.26318377323844]\n",
            "Confidence Interval for the expectation of Y_New based on X_New point 46 is:\n",
            "[291.7660397635417, 372.26318377323844]\n",
            "Confidence Interval for the expectation of Y_New based on X_New point 47 is:\n",
            "[291.7660397635417, 372.26318377323844]\n",
            "Confidence Interval for the expectation of Y_New based on X_New point 48 is:\n",
            "[291.7660397635417, 372.26318377323844]\n",
            "Confidence Interval for the expectation of Y_New based on X_New point 49 is:\n",
            "[291.7660397635417, 372.26318377323844]\n",
            "Confidence Interval for the expectation of Y_New based on X_New point 50 is:\n",
            "[291.7660397635417, 372.26318377323844]\n",
            "Confidence Interval for the expectation of Y_New based on X_New point 51 is:\n",
            "[291.7660397635417, 372.26318377323844]\n",
            "Confidence Interval for the expectation of Y_New based on X_New point 52 is:\n",
            "[291.7660397635417, 372.26318377323844]\n",
            "Confidence Interval for the expectation of Y_New based on X_New point 53 is:\n",
            "[291.7660397635417, 372.26318377323844]\n",
            "Confidence Interval for the expectation of Y_New based on X_New point 54 is:\n",
            "[291.7660397635417, 372.26318377323844]\n",
            "Confidence Interval for the expectation of Y_New based on X_New point 55 is:\n",
            "[291.7660397635417, 372.26318377323844]\n",
            "Confidence Interval for the expectation of Y_New based on X_New point 56 is:\n",
            "[291.7660397635417, 372.26318377323844]\n",
            "Confidence Interval for the expectation of Y_New based on X_New point 57 is:\n",
            "[291.7660397635417, 372.26318377323844]\n",
            "Confidence Interval for the expectation of Y_New based on X_New point 58 is:\n",
            "[291.7660397635417, 372.26318377323844]\n",
            "Confidence Interval for the expectation of Y_New based on X_New point 59 is:\n",
            "[291.7660397635417, 372.26318377323844]\n",
            "Confidence Interval for the expectation of Y_New based on X_New point 60 is:\n",
            "[291.7660397635417, 372.26318377323844]\n",
            "Confidence Interval for the expectation of Y_New based on X_New point 61 is:\n",
            "[291.7660397635417, 372.26318377323844]\n",
            "Confidence Interval for the expectation of Y_New based on X_New point 62 is:\n",
            "[291.7660397635417, 372.26318377323844]\n",
            "Confidence Interval for the expectation of Y_New based on X_New point 63 is:\n",
            "[291.7660397635417, 372.26318377323844]\n",
            "Confidence Interval for the expectation of Y_New based on X_New point 64 is:\n",
            "[291.7660397635417, 372.26318377323844]\n",
            "Confidence Interval for the expectation of Y_New based on X_New point 65 is:\n",
            "[291.7660397635417, 372.26318377323844]\n",
            "Confidence Interval for the expectation of Y_New based on X_New point 66 is:\n",
            "[291.7660397635417, 372.26318377323844]\n",
            "Confidence Interval for the expectation of Y_New based on X_New point 67 is:\n",
            "[291.7660397635417, 372.26318377323844]\n",
            "Confidence Interval for the expectation of Y_New based on X_New point 68 is:\n",
            "[291.7660397635417, 372.26318377323844]\n",
            "Confidence Interval for the expectation of Y_New based on X_New point 69 is:\n",
            "[291.7660397635417, 372.26318377323844]\n",
            "Confidence Interval for the expectation of Y_New based on X_New point 70 is:\n",
            "[291.7660397635417, 372.26318377323844]\n",
            "Confidence Interval for the expectation of Y_New based on X_New point 71 is:\n",
            "[291.7660397635417, 372.26318377323844]\n",
            "Confidence Interval for the expectation of Y_New based on X_New point 72 is:\n",
            "[291.7660397635417, 372.26318377323844]\n",
            "Confidence Interval for the expectation of Y_New based on X_New point 73 is:\n",
            "[291.7660397635417, 372.26318377323844]\n",
            "Confidence Interval for the expectation of Y_New based on X_New point 74 is:\n",
            "[291.7660397635417, 372.26318377323844]\n",
            "Confidence Interval for the expectation of Y_New based on X_New point 75 is:\n",
            "[291.7660397635417, 372.26318377323844]\n",
            "Confidence Interval for the expectation of Y_New based on X_New point 76 is:\n",
            "[291.7660397635417, 372.26318377323844]\n",
            "Confidence Interval for the expectation of Y_New based on X_New point 77 is:\n",
            "[291.7660397635417, 372.26318377323844]\n",
            "Confidence Interval for the expectation of Y_New based on X_New point 78 is:\n",
            "[291.7660397635417, 372.26318377323844]\n",
            "Confidence Interval for the expectation of Y_New based on X_New point 79 is:\n",
            "[291.7660397635417, 372.26318377323844]\n",
            "Confidence Interval for the expectation of Y_New based on X_New point 80 is:\n",
            "[291.7660397635417, 372.26318377323844]\n",
            "Confidence Interval for the expectation of Y_New based on X_New point 81 is:\n",
            "[291.7660397635417, 372.26318377323844]\n",
            "Confidence Interval for the expectation of Y_New based on X_New point 82 is:\n",
            "[291.7660397635417, 372.26318377323844]\n",
            "Confidence Interval for the expectation of Y_New based on X_New point 83 is:\n",
            "[291.7660397635417, 372.26318377323844]\n",
            "Confidence Interval for the expectation of Y_New based on X_New point 84 is:\n",
            "[291.7660397635417, 372.26318377323844]\n",
            "Confidence Interval for the expectation of Y_New based on X_New point 85 is:\n",
            "[291.7660397635417, 372.26318377323844]\n",
            "Confidence Interval for the expectation of Y_New based on X_New point 86 is:\n",
            "[291.7660397635417, 372.26318377323844]\n",
            "Confidence Interval for the expectation of Y_New based on X_New point 87 is:\n",
            "[291.7660397635417, 372.26318377323844]\n",
            "Confidence Interval for the expectation of Y_New based on X_New point 88 is:\n",
            "[291.7660397635417, 372.26318377323844]\n",
            "Confidence Interval for the expectation of Y_New based on X_New point 89 is:\n",
            "[291.7660397635417, 372.26318377323844]\n",
            "Confidence Interval for the expectation of Y_New based on X_New point 90 is:\n",
            "[291.7660397635417, 372.26318377323844]\n",
            "Confidence Interval for the expectation of Y_New based on X_New point 91 is:\n",
            "[291.7660397635417, 372.26318377323844]\n",
            "Confidence Interval for the expectation of Y_New based on X_New point 92 is:\n",
            "[291.7660397635417, 372.26318377323844]\n",
            "Confidence Interval for the expectation of Y_New based on X_New point 93 is:\n",
            "[291.7660397635417, 372.26318377323844]\n",
            "Confidence Interval for the expectation of Y_New based on X_New point 94 is:\n",
            "[291.7660397635417, 372.26318377323844]\n",
            "Confidence Interval for the expectation of Y_New based on X_New point 95 is:\n",
            "[291.7660397635417, 372.26318377323844]\n",
            "Confidence Interval for the expectation of Y_New based on X_New point 96 is:\n",
            "[291.7660397635417, 372.26318377323844]\n",
            "Confidence Interval for the expectation of Y_New based on X_New point 97 is:\n",
            "[291.7660397635417, 372.26318377323844]\n",
            "Confidence Interval for the expectation of Y_New based on X_New point 98 is:\n",
            "[291.7660397635417, 372.26318377323844]\n",
            "Confidence Interval for the expectation of Y_New based on X_New point 99 is:\n",
            "[291.7660397635417, 372.26318377323844]\n"
          ]
        }
      ]
    },
    {
      "cell_type": "markdown",
      "source": [
        "**Q3.c**"
      ],
      "metadata": {
        "id": "GyiarmNgtbPy"
      }
    },
    {
      "cell_type": "code",
      "source": [
        "sum=0\n",
        "C3 = np.linalg.inv(X_all.T@X_all)\n",
        "e = [a-b for a,b in zip(Y_all,y3_pred)]\n",
        "n = len(df3.index)\n",
        "for a in e:\n",
        "  sum = a**2 +sum\n",
        "sigma_3 =sum / (n-4)"
      ],
      "metadata": {
        "id": "VVu9sbFXXlmC"
      },
      "execution_count": 27,
      "outputs": []
    },
    {
      "cell_type": "code",
      "source": [
        "CI_1000 = {}\n",
        "rr = range(n)\n",
        "for x,y,i in zip(X_all,y3_pred,rr):\n",
        "  var_for_ci = 2*np.sqrt(sigma_3*(x@C3@x.T+1))\n",
        "  CI_1000[i] = (y-var_for_ci,y+var_for_ci)"
      ],
      "metadata": {
        "id": "hB5OlUGuXI3B"
      },
      "execution_count": 28,
      "outputs": []
    },
    {
      "cell_type": "code",
      "source": [
        "prob = 0\n",
        "for i in range(100):\n",
        "  if (Y_all[i] >= CI_1000[i][0]) and (Y_all[i] <= CI_1000[i][1]):\n",
        "    prob +=1\n",
        "\n",
        "prob /= 100\n",
        "print(\"The percentage of confidence intervals that contains the real values of Y_new is:\",prob)"
      ],
      "metadata": {
        "colab": {
          "base_uri": "https://localhost:8080/"
        },
        "id": "U_DEM1vCYO-R",
        "outputId": "c3af1be0-bed1-4006-c25d-d1c355462817"
      },
      "execution_count": 29,
      "outputs": [
        {
          "output_type": "stream",
          "name": "stdout",
          "text": [
            "The percentage of confidence intervals that contains the real values of Y_new is: 0.97\n"
          ]
        }
      ]
    },
    {
      "cell_type": "markdown",
      "source": [
        "We note that the percentage obtained is close to 95%. It proves the validation of our confidence intervals that we built."
      ],
      "metadata": {
        "id": "6O1xBczfRhuO"
      }
    },
    {
      "cell_type": "markdown",
      "source": [
        "**Q3.d**"
      ],
      "metadata": {
        "id": "hjvGg1DZtfim"
      }
    },
    {
      "cell_type": "markdown",
      "source": [
        "**Idea in order to calculate the confidence interval of Y_New based on Bootstrap:** We have to calculate the variance of (Y_New(estimated) + the noise epsilon) and the vector of Y_New estimated in order to compute the confidence interval based on Bootstrap.\n",
        "We have already computhe the vector of Y_new estimated.\n",
        "Thus, we can compute an estimator of the variance of Y_New estimated and the variance of the noise based on a simulation/estimator and therefore compute the CI asked.\n"
      ],
      "metadata": {
        "id": "qEeCPiajMq_T"
      }
    },
    {
      "cell_type": "markdown",
      "source": [
        "**Part 2: Tests**"
      ],
      "metadata": {
        "id": "SxGj6c_7RBcF"
      }
    },
    {
      "cell_type": "markdown",
      "source": [
        "We consider the following research question from our project 2 : Does the number of contacts performed in this campaign and for a client ('campaign' label) influences the outcome of the marketing campaign ('y' label) ?"
      ],
      "metadata": {
        "id": "LPrfFUzhVsUt"
      }
    },
    {
      "cell_type": "markdown",
      "source": [
        "**Q.1**"
      ],
      "metadata": {
        "id": "Qyj4mKlItmFf"
      }
    },
    {
      "cell_type": "markdown",
      "source": [
        "Then our reformulated research question is : Is the distribution of the 'campaign' values when y == True is superior to the distribution of the 'campaign' values when y == False ? "
      ],
      "metadata": {
        "id": "iCWuzoyKWfNI"
      }
    },
    {
      "cell_type": "markdown",
      "source": [
        "**Q.2**"
      ],
      "metadata": {
        "id": "MRlhHJA5traQ"
      }
    },
    {
      "cell_type": "code",
      "source": [
        "data3 = data[[\"campaign\",\"y\"]]\n",
        "data3_200 =  data3.sample(200,random_state=1)"
      ],
      "metadata": {
        "id": "dFF24rcLXG3H"
      },
      "execution_count": 30,
      "outputs": []
    },
    {
      "cell_type": "markdown",
      "source": [
        "**Q3.a**"
      ],
      "metadata": {
        "id": "zltN7SgUtxYA"
      }
    },
    {
      "cell_type": "code",
      "source": [
        "data_false = data3_200.loc[data3_200['y'] == 0]['campaign'].values\n",
        "data_true = data3_200.loc[data3_200['y'] == 1]['campaign'].values\n",
        "mu_1 = data_true.mean()\n",
        "mu_2 = data_false.mean()\n",
        "delta_means = mu_1-mu_2\n",
        "print('value of mu_1 is:',mu_1)\n",
        "print('value of mu_2 is:',mu_2)\n",
        "print('value of delta is:',delta_means)"
      ],
      "metadata": {
        "colab": {
          "base_uri": "https://localhost:8080/"
        },
        "id": "J6VJOn00lsiK",
        "outputId": "0fa0b5fe-dcb9-4277-f358-3b9e105d7348"
      },
      "execution_count": 31,
      "outputs": [
        {
          "output_type": "stream",
          "name": "stdout",
          "text": [
            "value of mu_1 is: 2.269230769230769\n",
            "value of mu_2 is: 2.4885057471264367\n",
            "value of delta is: -0.21927497789566752\n"
          ]
        }
      ]
    },
    {
      "cell_type": "markdown",
      "source": [
        "Based on what we learnt, the MLE for the expectation is the mean of our data. Thus, the MLE for a linear function of expectations (delta value) is this linear function applied on our MLE: in our case the difference between the 2 means."
      ],
      "metadata": {
        "id": "GVfSqKydmvBJ"
      }
    },
    {
      "cell_type": "markdown",
      "source": [
        "**Q3.b**"
      ],
      "metadata": {
        "id": "FacQ3P3-t3e4"
      }
    },
    {
      "cell_type": "code",
      "source": [
        "std_1 = np.std(data_true)\n",
        "std_2 = np.std(data_false)\n",
        "std_delta = ((std_1 / len(data_false)) + (std_2 / len(data_true)))** 0.5\n",
        "delta_CI = (delta_means - (2 * std_delta), delta_means + (2 * std_delta))\n",
        "\n",
        "print(\"Confidence interval of delta is: \"+ str(delta_CI))"
      ],
      "metadata": {
        "colab": {
          "base_uri": "https://localhost:8080/"
        },
        "id": "vPK6PvEnNTVu",
        "outputId": "370b2482-71ea-45f2-bb8c-a9e7a0addb27"
      },
      "execution_count": 32,
      "outputs": [
        {
          "output_type": "stream",
          "name": "stdout",
          "text": [
            "Confidence interval of delta is: (-0.9675621746283543, 0.5290122188370192)\n"
          ]
        }
      ]
    },
    {
      "cell_type": "markdown",
      "source": [
        "**Q3.c**"
      ],
      "metadata": {
        "id": "xmYPbWN2t6gP"
      }
    },
    {
      "cell_type": "code",
      "source": [
        "delta_all = data3[data3['y']==True]['campaign'].mean() - data3[data3['y']==False]['campaign'].mean()\n",
        "delta_all"
      ],
      "metadata": {
        "colab": {
          "base_uri": "https://localhost:8080/"
        },
        "id": "zG1fmD90mEcW",
        "outputId": "1b2d6e1c-5a46-419a-d26d-0e8549d059ca"
      },
      "execution_count": 33,
      "outputs": [
        {
          "output_type": "execute_result",
          "data": {
            "text/plain": [
              "-0.5682432274504272"
            ]
          },
          "metadata": {},
          "execution_count": 33
        }
      ]
    },
    {
      "cell_type": "code",
      "source": [
        "print(\"Is delta obtained from the original data is in our CI ? \")\n",
        "print(delta_all>delta_CI[0] and delta_all<delta_CI[1])"
      ],
      "metadata": {
        "colab": {
          "base_uri": "https://localhost:8080/"
        },
        "id": "qh3RI4UylX_h",
        "outputId": "d7f0fcb3-5ee2-4a1d-c439-4bb4012d8fda"
      },
      "execution_count": 34,
      "outputs": [
        {
          "output_type": "stream",
          "name": "stdout",
          "text": [
            "Is delta obtained from the original data is in our CI ? \n",
            "True\n"
          ]
        }
      ]
    },
    {
      "cell_type": "markdown",
      "source": [
        "**Q3.d**"
      ],
      "metadata": {
        "id": "aBSzRAeOuAxh"
      }
    },
    {
      "cell_type": "code",
      "source": [
        "import random\n",
        "import math\n",
        "from scipy.stats import stats"
      ],
      "metadata": {
        "id": "F7XTyc7yu4kU"
      },
      "execution_count": 35,
      "outputs": []
    },
    {
      "cell_type": "markdown",
      "source": [
        "**Wald Test:**"
      ],
      "metadata": {
        "id": "ziGsQHqGl4eQ"
      }
    },
    {
      "cell_type": "code",
      "source": [
        "display(Math((\"\"\"H_0 : \\mu_1 - \\mu_2 =0\"\"\")))\n",
        "display(Math((\"\"\"H_1 : \\mu_1 - \\mu_2 != 0\"\"\")))\n",
        "display(Math((\"\"\"W = \\\\frac{\\mu_1-\\mu_2}{\\\\sqrt{\\\\frac{S^2_1}{n_1}+\\\\frac{S_1^2}{n_2}}}\"\"\")))\n",
        "display(Math((\"\"\"|W| > z_{\\\\alpha\\over2}\"\"\")))"
      ],
      "metadata": {
        "colab": {
          "base_uri": "https://localhost:8080/",
          "height": 133
        },
        "id": "7Pqf61mWYk0j",
        "outputId": "756ad364-4ac5-4c93-d13a-36892b6becb8"
      },
      "execution_count": 76,
      "outputs": [
        {
          "output_type": "display_data",
          "data": {
            "text/plain": [
              "<IPython.core.display.Math object>"
            ],
            "text/latex": "$\\displaystyle H_0 : \\mu_1 - \\mu_2 =0$"
          },
          "metadata": {}
        },
        {
          "output_type": "display_data",
          "data": {
            "text/plain": [
              "<IPython.core.display.Math object>"
            ],
            "text/latex": "$\\displaystyle H_1 : \\mu_1 - \\mu_2 != 0$"
          },
          "metadata": {}
        },
        {
          "output_type": "display_data",
          "data": {
            "text/plain": [
              "<IPython.core.display.Math object>"
            ],
            "text/latex": "$\\displaystyle W = \\frac{\\mu_1-\\mu_2}{\\sqrt{\\frac{S^2_1}{n_1}+\\frac{S_1^2}{n_2}}}$"
          },
          "metadata": {}
        },
        {
          "output_type": "display_data",
          "data": {
            "text/plain": [
              "<IPython.core.display.Math object>"
            ],
            "text/latex": "$\\displaystyle |W| > z_{\\alpha\\over2}$"
          },
          "metadata": {}
        }
      ]
    },
    {
      "cell_type": "code",
      "source": [
        "from scipy.stats import norm\n",
        "\n",
        "TS = delta_means / std_delta\n",
        "dist_value = norm.ppf(1-0.05/2)\n",
        "dist_cdf_value = norm.cdf(TS)\n",
        "if TS > 0:\n",
        "    p_value = 2*(1-dist_cdf_value)\n",
        "else:\n",
        "    p_value = dist_cdf_value\n",
        "print('Wald test statistic is : ', str(TS))\n",
        "rejection_area_Wald = np.abs(TS) > dist_value\n",
        "print(\"Are we rejecting H0 ? \",rejection_area_Wald)  \n",
        "print(\"p-value is : \", p_value)"
      ],
      "metadata": {
        "colab": {
          "base_uri": "https://localhost:8080/"
        },
        "id": "V5uIo56xPdjy",
        "outputId": "5dda3255-3c52-45be-d08f-6384679d0734"
      },
      "execution_count": 36,
      "outputs": [
        {
          "output_type": "stream",
          "name": "stdout",
          "text": [
            "Wald test statistic is :  -0.5860717084379031\n",
            "Are we rejecting H0 ?  False\n",
            "p-value is :  0.27891366370952275\n"
          ]
        }
      ]
    },
    {
      "cell_type": "markdown",
      "source": [
        "**Permutations test:**"
      ],
      "metadata": {
        "id": "NiFkhhHQl_RR"
      }
    },
    {
      "cell_type": "code",
      "source": [
        "display(Math(\"\"\"H_0: F_x = F_Y\"\"\"))\n",
        "display(Math(\"\"\"H_1:F_X \\prec F_Y\"\"\"))\n",
        "print(\"T.S is : W=mean1-mean2\")\n",
        "print(\"P-value is :\")\n",
        "display(Math(\"\"\"\\\\frac{\\sum \\mathbb{I}(W_s^b \\geq W_s^obs))}{B}\"\"\"))\n",
        "print(\"R.R is :\")\n",
        "display(Math(\"\"\"Pvalue < \\\\alpha\"\"\"))"
      ],
      "metadata": {
        "colab": {
          "base_uri": "https://localhost:8080/",
          "height": 174
        },
        "id": "AVIlprF5a0tL",
        "outputId": "d08357bd-1cc5-4c22-fa58-5308d57a3310"
      },
      "execution_count": 86,
      "outputs": [
        {
          "output_type": "display_data",
          "data": {
            "text/plain": [
              "<IPython.core.display.Math object>"
            ],
            "text/latex": "$\\displaystyle H_0: F_x = F_Y$"
          },
          "metadata": {}
        },
        {
          "output_type": "display_data",
          "data": {
            "text/plain": [
              "<IPython.core.display.Math object>"
            ],
            "text/latex": "$\\displaystyle H_1:F_X \\prec F_Y$"
          },
          "metadata": {}
        },
        {
          "output_type": "stream",
          "name": "stdout",
          "text": [
            "T.S is : W=mean1-mean2\n",
            "P-value is :\n"
          ]
        },
        {
          "output_type": "display_data",
          "data": {
            "text/plain": [
              "<IPython.core.display.Math object>"
            ],
            "text/latex": "$\\displaystyle \\frac{\\sum \\mathbb{I}(W_s^b \\geq W_s^obs))}{B}$"
          },
          "metadata": {}
        },
        {
          "output_type": "stream",
          "name": "stdout",
          "text": [
            "R.R is :\n"
          ]
        },
        {
          "output_type": "display_data",
          "data": {
            "text/plain": [
              "<IPython.core.display.Math object>"
            ],
            "text/latex": "$\\displaystyle Pvalue < \\alpha$"
          },
          "metadata": {}
        }
      ]
    },
    {
      "cell_type": "code",
      "source": [
        "import os \n",
        "import pandas as pd\n",
        "import numpy as np\n",
        "from scipy.stats import norm\n",
        "from random import sample"
      ],
      "metadata": {
        "id": "yFJIMNbWmccL"
      },
      "execution_count": 37,
      "outputs": []
    },
    {
      "cell_type": "code",
      "source": [
        "def permutations_function(all_data, X_data, X_size, Y_data, Y_size, B):\n",
        "    real_stat = 0\n",
        "    permutations = []\n",
        "    real_stat = np.mean(Y_data) - np.mean(X_data)\n",
        "    for b in range(B):\n",
        "        X_sample = sample(all_data,X_size)\n",
        "        Y_sample = sample(all_data,Y_size)\n",
        "        sample_stat = np.mean(Y_sample) - np.mean(X_sample)\n",
        "        permutations.append(sample_stat)\n",
        "    return real_stat, permutations"
      ],
      "metadata": {
        "id": "EkxC1wipmNcM"
      },
      "execution_count": 38,
      "outputs": []
    },
    {
      "cell_type": "code",
      "source": [
        "B = 400\n",
        "X_data = data_true.tolist().copy()\n",
        "X_size = len(X_data)\n",
        "Y_data = data_false.tolist().copy()\n",
        "Y_size = len(Y_data)\n",
        "all_data = X_data + Y_data\n",
        "\n",
        "mean_diff, permutations = permutations_function(all_data, X_data, X_size, Y_data, Y_size, B)\n",
        "indic = 0\n",
        "for mean in permutations:\n",
        "    if mean >= mean_diff:\n",
        "        indic = indic + 1\n",
        "p_value = indic / B\n",
        "\n",
        "print('p-value is:', p_value)\n",
        "rejection_area = p_value < 0.05\n",
        "print(\"Are we rejecting H0 ? \",rejection_area)  "
      ],
      "metadata": {
        "colab": {
          "base_uri": "https://localhost:8080/"
        },
        "id": "RnnRKA4PmQGo",
        "outputId": "da3edea4-6d9c-4c3a-e2e3-f7b9162bc584"
      },
      "execution_count": 39,
      "outputs": [
        {
          "output_type": "stream",
          "name": "stdout",
          "text": [
            "p-value is: 0.3925\n",
            "Are we rejecting H0 ?  False\n"
          ]
        }
      ]
    },
    {
      "cell_type": "markdown",
      "source": [
        "**Q4.a**"
      ],
      "metadata": {
        "id": "sAQ4xEj3uFed"
      }
    },
    {
      "cell_type": "code",
      "source": [
        "m1= np.median(data_true)\n",
        "m2= np.median(data_false)\n",
        "print('value of median1 is:',m1)\n",
        "print('value of median2 is:',m2)\n",
        "print('value of delta is:',m1-m2)"
      ],
      "metadata": {
        "colab": {
          "base_uri": "https://localhost:8080/"
        },
        "id": "G2jRWhOYuCXT",
        "outputId": "eaa90812-9523-429a-879e-b3d24de3f247"
      },
      "execution_count": 40,
      "outputs": [
        {
          "output_type": "stream",
          "name": "stdout",
          "text": [
            "value of median1 is: 1.5\n",
            "value of median2 is: 1.0\n",
            "value of delta is: 0.5\n"
          ]
        }
      ]
    },
    {
      "cell_type": "markdown",
      "source": [
        "The estimator obtained isn't a MLE based on what we learn."
      ],
      "metadata": {
        "id": "_smNyWQSSjte"
      }
    },
    {
      "cell_type": "markdown",
      "source": [
        "**Q4.b**"
      ],
      "metadata": {
        "id": "mraJK4tguJCU"
      }
    },
    {
      "cell_type": "code",
      "source": [
        "se_1 = np.std(data_true)\n",
        "se_2 = np.std(data_false)\n",
        "\n",
        "delta_medians = ((se_1 / len(data_true)) + (se_2 / len(data_false)))** 0.5\n",
        "medians_delta_CI = (delta_medians - (2 * delta_medians), delta_medians + (2 * delta_medians))\n",
        "\n",
        "print(\"CI of delta medians is: \",(medians_delta_CI))"
      ],
      "metadata": {
        "colab": {
          "base_uri": "https://localhost:8080/"
        },
        "id": "3EYD49CupYga",
        "outputId": "d1820d7b-3fdc-4d70-de0a-0f597d2a4a39"
      },
      "execution_count": 41,
      "outputs": [
        {
          "output_type": "stream",
          "name": "stdout",
          "text": [
            "CI of delta medians is:  (-0.3129695731410684, 0.9389087194232051)\n"
          ]
        }
      ]
    },
    {
      "cell_type": "markdown",
      "source": [
        "**Q4.c**"
      ],
      "metadata": {
        "id": "EZAPfxhquM0H"
      }
    },
    {
      "cell_type": "code",
      "source": [
        "delta_medians_all = data3[data3['y']==True]['campaign'].median() - data3[data3['y']==False]['campaign'].median()\n",
        "delta_medians_all"
      ],
      "metadata": {
        "colab": {
          "base_uri": "https://localhost:8080/"
        },
        "id": "Dlno-PGCqmuL",
        "outputId": "420837d3-a3e1-4205-c659-c29c28d9f0ad"
      },
      "execution_count": 42,
      "outputs": [
        {
          "output_type": "execute_result",
          "data": {
            "text/plain": [
              "0.0"
            ]
          },
          "metadata": {},
          "execution_count": 42
        }
      ]
    },
    {
      "cell_type": "code",
      "source": [
        "print(\"Is delta obtained from the original data is in our CI ? \")\n",
        "print(delta_medians_all>medians_delta_CI[0] and delta_medians_all<medians_delta_CI[1])"
      ],
      "metadata": {
        "colab": {
          "base_uri": "https://localhost:8080/"
        },
        "id": "iJacsvjfq84r",
        "outputId": "6b70609d-4c08-4fe8-a273-703a88be8156"
      },
      "execution_count": 43,
      "outputs": [
        {
          "output_type": "stream",
          "name": "stdout",
          "text": [
            "Is delta obtained from the original data is in our CI ? \n",
            "True\n"
          ]
        }
      ]
    },
    {
      "cell_type": "markdown",
      "source": [
        "**Q4.d**"
      ],
      "metadata": {
        "id": "cO6hthV4uP_6"
      }
    },
    {
      "cell_type": "markdown",
      "source": [
        "**Permutations test:**"
      ],
      "metadata": {
        "id": "hUBPrWbIrIMo"
      }
    },
    {
      "cell_type": "code",
      "source": [
        "display(Math(\"\"\"H_0: F_x = F_Y\"\"\"))\n",
        "display(Math(\"\"\"H_1:F_X \\prec F_Y\"\"\"))\n",
        "print(\"T.S is : W=median1-median2\")\n",
        "print(\"P-value is :\")\n",
        "display(Math(\"\"\"\\\\frac{\\sum \\mathbb{I}(W_s^b \\geq W_s^obs))}{B}\"\"\"))\n",
        "print(\"R.R is :\")\n",
        "display(Math(\"\"\"Pvalue < \\\\alpha\"\"\"))\n"
      ],
      "metadata": {
        "colab": {
          "base_uri": "https://localhost:8080/",
          "height": 174
        },
        "id": "DI3z4IpaazVB",
        "outputId": "244c2d18-ccfa-4ced-b613-aa4f223474f1"
      },
      "execution_count": 87,
      "outputs": [
        {
          "output_type": "display_data",
          "data": {
            "text/plain": [
              "<IPython.core.display.Math object>"
            ],
            "text/latex": "$\\displaystyle H_0: F_x = F_Y$"
          },
          "metadata": {}
        },
        {
          "output_type": "display_data",
          "data": {
            "text/plain": [
              "<IPython.core.display.Math object>"
            ],
            "text/latex": "$\\displaystyle H_1:F_X \\prec F_Y$"
          },
          "metadata": {}
        },
        {
          "output_type": "stream",
          "name": "stdout",
          "text": [
            "T.S is : W=median1-median2\n",
            "P-value is :\n"
          ]
        },
        {
          "output_type": "display_data",
          "data": {
            "text/plain": [
              "<IPython.core.display.Math object>"
            ],
            "text/latex": "$\\displaystyle \\frac{\\sum \\mathbb{I}(W_s^b \\geq W_s^obs))}{B}$"
          },
          "metadata": {}
        },
        {
          "output_type": "stream",
          "name": "stdout",
          "text": [
            "R.R is :\n"
          ]
        },
        {
          "output_type": "display_data",
          "data": {
            "text/plain": [
              "<IPython.core.display.Math object>"
            ],
            "text/latex": "$\\displaystyle Pvalue < \\alpha$"
          },
          "metadata": {}
        }
      ]
    },
    {
      "cell_type": "code",
      "source": [
        "def permutations_function_medians(all_data, X_data, X_size, Y_data, Y_size, B):\n",
        "    real_stat = 0\n",
        "    permutations = []\n",
        "    real_stat = np.median(Y_data) - np.median(X_data)\n",
        "    for b in range(B):\n",
        "        X_sample = sample(all_data,X_size)\n",
        "        Y_sample = sample(all_data,Y_size)\n",
        "        sample_stat = np.median(Y_sample) - np.median(X_sample)\n",
        "        permutations.append(sample_stat)\n",
        "    return real_stat, permutations"
      ],
      "metadata": {
        "id": "_8neCjTJrKPf"
      },
      "execution_count": 44,
      "outputs": []
    },
    {
      "cell_type": "code",
      "source": [
        "B = 400\n",
        "X_data = data_true.tolist().copy()\n",
        "X_size = len(X_data)\n",
        "Y_data = data_false.tolist().copy()\n",
        "Y_size = len(Y_data)\n",
        "all_data = X_data + Y_data\n",
        "\n",
        "median_diff, permutations = permutations_function_medians(all_data, X_data, X_size, Y_data, Y_size, B)\n",
        "indic = 0\n",
        "for median in permutations:\n",
        "    if median >= median_diff:\n",
        "        indic = indic + 1\n",
        "p_value = indic / B\n",
        "\n",
        "print('p-value is:', p_value)\n",
        "rejection_area = p_value < 0.05\n",
        "print(\"Are we rejecting H0 ? \",rejection_area) "
      ],
      "metadata": {
        "colab": {
          "base_uri": "https://localhost:8080/"
        },
        "id": "tjMvyWJWrY9-",
        "outputId": "241713bb-74d6-4989-9497-94a0adf943b8"
      },
      "execution_count": 45,
      "outputs": [
        {
          "output_type": "stream",
          "name": "stdout",
          "text": [
            "p-value is: 0.7875\n",
            "Are we rejecting H0 ?  False\n"
          ]
        }
      ]
    },
    {
      "cell_type": "markdown",
      "source": [
        "**Q4.e**"
      ],
      "metadata": {
        "id": "4_zbRzvPuUse"
      }
    },
    {
      "cell_type": "markdown",
      "source": [
        "Based on what we learnt, the assumption of asymptotic normality is necessary for the application of Wald or t tests. However, in this case, the estimator is not a maximum likelihood estimator. Thus we cannot use the Wald/t tests in our case."
      ],
      "metadata": {
        "id": "lKEBtiQhSxjs"
      }
    },
    {
      "cell_type": "markdown",
      "source": [
        "**Q.5:**"
      ],
      "metadata": {
        "id": "fj6lhXDwr2v6"
      }
    },
    {
      "cell_type": "code",
      "source": [
        "display(Math(\"\"\"H_0: F_x = F_Y\"\"\"))\n",
        "display(Math(\"\"\"H_1:F_X \\prec F_Y\"\"\"))\n",
        "print(\"T.S is :\")\n",
        "display(Math(\"\"\" W_s = \\sum_{i=1}^{n}S_i\"\"\"))\n",
        "print(\"P-value is :\")\n",
        "display(Math(\"\"\"\\\\frac{\\sum \\mathbb{I}(W_s^b \\geq W_s^obs))}{B}\"\"\"))\n",
        "print(\"R.R is :\")\n",
        "display(Math(\"\"\"Pvalue < \\\\alpha\"\"\"))\n"
      ],
      "metadata": {
        "colab": {
          "base_uri": "https://localhost:8080/",
          "height": 223
        },
        "id": "GrtAxrIraxfW",
        "outputId": "90bb5a3c-36af-4421-e565-4f3474eb8a35"
      },
      "execution_count": 82,
      "outputs": [
        {
          "output_type": "display_data",
          "data": {
            "text/plain": [
              "<IPython.core.display.Math object>"
            ],
            "text/latex": "$\\displaystyle H_0: F_x = F_Y$"
          },
          "metadata": {}
        },
        {
          "output_type": "display_data",
          "data": {
            "text/plain": [
              "<IPython.core.display.Math object>"
            ],
            "text/latex": "$\\displaystyle H_1:F_X \\prec F_Y$"
          },
          "metadata": {}
        },
        {
          "output_type": "stream",
          "name": "stdout",
          "text": [
            "T.S is :\n"
          ]
        },
        {
          "output_type": "display_data",
          "data": {
            "text/plain": [
              "<IPython.core.display.Math object>"
            ],
            "text/latex": "$\\displaystyle  W_s = \\sum_{i=1}^{n}S_i$"
          },
          "metadata": {}
        },
        {
          "output_type": "stream",
          "name": "stdout",
          "text": [
            "P-value is :\n"
          ]
        },
        {
          "output_type": "display_data",
          "data": {
            "text/plain": [
              "<IPython.core.display.Math object>"
            ],
            "text/latex": "$\\displaystyle \\frac{\\sum \\mathbb{I}(W_s^b \\geq W_s^obs))}{B}$"
          },
          "metadata": {}
        },
        {
          "output_type": "stream",
          "name": "stdout",
          "text": [
            "R.R is :\n"
          ]
        },
        {
          "output_type": "display_data",
          "data": {
            "text/plain": [
              "<IPython.core.display.Math object>"
            ],
            "text/latex": "$\\displaystyle Pvalue < \\alpha$"
          },
          "metadata": {}
        }
      ]
    },
    {
      "cell_type": "code",
      "source": [
        "arr = data3_200.to_numpy()\n",
        "arr2 = sorted(arr,key = lambda x:x[0])\n",
        "arr3 = [[i+1,x] for i,x in enumerate(arr2)]\n",
        "arr4 = []\n",
        "for el in arr3:\n",
        "  sim = [x for x in arr3 if x[1][0]==el[1][0]]\n",
        "  arr4.append([np.mean([x[0] for x in sim]),el[1]])"
      ],
      "metadata": {
        "id": "Xvzu6lRLzwLz"
      },
      "execution_count": 46,
      "outputs": []
    },
    {
      "cell_type": "code",
      "source": [
        "s_statistic =np.sum([x[0] for x in arr4 if x[1][1]==True])"
      ],
      "metadata": {
        "id": "v4KIpTZB3Nef"
      },
      "execution_count": 47,
      "outputs": []
    },
    {
      "cell_type": "code",
      "source": [
        "num_of_rounds = 20000\n",
        "counter = 0\n",
        "for i in range(num_of_rounds):\n",
        "  temp_sample = np.random.choice([x[0] for x in arr4],data_true.shape[0])\n",
        "  s_stat_midgam = np.sum(temp_sample)\n",
        "  indic = 1 if s_stat_midgam > s_statistic else 0\n",
        "  counter +=indic\n",
        "\n",
        "p_val = counter / num_of_rounds\n",
        "print('p-value is:', p_val)\n",
        "rejection_area = p_val < 0.05\n",
        "print(\"Are we rejecting H0 ? \",rejection_area) "
      ],
      "metadata": {
        "colab": {
          "base_uri": "https://localhost:8080/"
        },
        "id": "OWvc-H9E66r2",
        "outputId": "aacac277-36c2-4905-d334-0a170199c434"
      },
      "execution_count": 49,
      "outputs": [
        {
          "output_type": "stream",
          "name": "stdout",
          "text": [
            "p-value is: 0.5359\n",
            "Are we rejecting H0 ?  False\n"
          ]
        }
      ]
    },
    {
      "cell_type": "markdown",
      "source": [
        "**Q.6:**"
      ],
      "metadata": {
        "id": "njGBNgsmsSNZ"
      }
    },
    {
      "cell_type": "markdown",
      "source": [
        "In question 3, we used two different tests (Wald and permutation) to show if the mean across the two populations is the same or not. In both cases, we were unable to reject the null hypothesis.\n",
        "\n",
        "In the same way, in question 4, we demonstrated (using permutation test) that the median across the two populations is likely the same as well, as we were unable to reject the null hypothesis.\n",
        "\n",
        "In question 5, we showed that \n",
        "F(X) ≺ F(Y). Thus although the mean and median are the same, the distribution is different for the 2 categories and there is a distribution superior."
      ],
      "metadata": {
        "id": "0ZOXnWvyU0Eo"
      }
    }
  ]
}