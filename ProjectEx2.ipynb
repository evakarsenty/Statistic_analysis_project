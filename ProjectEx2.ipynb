{
  "cells": [
    {
      "cell_type": "markdown",
      "metadata": {
        "id": "x2x8IzC0_11z"
      },
      "source": [
        "We consider the following question from our precedent work: Does the number of contacts performed in this campaign and for a client ('campaign' label) influences the outcome of the marketing campaign ('y' label) ?"
      ]
    },
    {
      "cell_type": "markdown",
      "metadata": {
        "id": "YesOdEySAcP1"
      },
      "source": [
        "**Importation of our data (based on our precedent work)**"
      ]
    },
    {
      "cell_type": "code",
      "execution_count": 93,
      "metadata": {
        "id": "hOG15-YvHcnh"
      },
      "outputs": [],
      "source": [
        "import pandas\n",
        "from matplotlib import pyplot as plt\n",
        "import numpy as np\n",
        "data = pandas.read_csv(\"bank-additional-full.csv\",delimiter=';')\n",
        "#data"
      ]
    },
    {
      "cell_type": "code",
      "execution_count": 94,
      "metadata": {
        "colab": {
          "base_uri": "https://localhost:8080/",
          "height": 488
        },
        "id": "L_sonMyNHcni",
        "outputId": "184610b3-bbd1-40d4-ee48-b2d9108fb13d"
      },
      "outputs": [
        {
          "data": {
            "text/html": [
              "<div>\n",
              "<style scoped>\n",
              "    .dataframe tbody tr th:only-of-type {\n",
              "        vertical-align: middle;\n",
              "    }\n",
              "\n",
              "    .dataframe tbody tr th {\n",
              "        vertical-align: top;\n",
              "    }\n",
              "\n",
              "    .dataframe thead th {\n",
              "        text-align: right;\n",
              "    }\n",
              "</style>\n",
              "<table border=\"1\" class=\"dataframe\">\n",
              "  <thead>\n",
              "    <tr style=\"text-align: right;\">\n",
              "      <th></th>\n",
              "      <th>age</th>\n",
              "      <th>job</th>\n",
              "      <th>marital</th>\n",
              "      <th>education</th>\n",
              "      <th>default</th>\n",
              "      <th>housing</th>\n",
              "      <th>loan</th>\n",
              "      <th>month</th>\n",
              "      <th>day_of_week</th>\n",
              "      <th>duration</th>\n",
              "      <th>campaign</th>\n",
              "      <th>pdays</th>\n",
              "      <th>previous</th>\n",
              "      <th>poutcome</th>\n",
              "      <th>emp.var.rate</th>\n",
              "      <th>cons.price.idx</th>\n",
              "      <th>cons.conf.idx</th>\n",
              "      <th>euribor3m</th>\n",
              "      <th>nr.employed</th>\n",
              "      <th>y</th>\n",
              "    </tr>\n",
              "  </thead>\n",
              "  <tbody>\n",
              "    <tr>\n",
              "      <th>0</th>\n",
              "      <td>56.0</td>\n",
              "      <td>housemaid</td>\n",
              "      <td>True</td>\n",
              "      <td>False</td>\n",
              "      <td>False</td>\n",
              "      <td>False</td>\n",
              "      <td>False</td>\n",
              "      <td>5</td>\n",
              "      <td>1</td>\n",
              "      <td>261.0</td>\n",
              "      <td>1.0</td>\n",
              "      <td>999.0</td>\n",
              "      <td>0.0</td>\n",
              "      <td>False</td>\n",
              "      <td>1.1</td>\n",
              "      <td>93.994</td>\n",
              "      <td>-36.4</td>\n",
              "      <td>4.857</td>\n",
              "      <td>5191.0</td>\n",
              "      <td>False</td>\n",
              "    </tr>\n",
              "    <tr>\n",
              "      <th>2</th>\n",
              "      <td>37.0</td>\n",
              "      <td>services</td>\n",
              "      <td>True</td>\n",
              "      <td>False</td>\n",
              "      <td>False</td>\n",
              "      <td>True</td>\n",
              "      <td>False</td>\n",
              "      <td>5</td>\n",
              "      <td>1</td>\n",
              "      <td>226.0</td>\n",
              "      <td>1.0</td>\n",
              "      <td>999.0</td>\n",
              "      <td>0.0</td>\n",
              "      <td>False</td>\n",
              "      <td>1.1</td>\n",
              "      <td>93.994</td>\n",
              "      <td>-36.4</td>\n",
              "      <td>4.857</td>\n",
              "      <td>5191.0</td>\n",
              "      <td>False</td>\n",
              "    </tr>\n",
              "    <tr>\n",
              "      <th>3</th>\n",
              "      <td>40.0</td>\n",
              "      <td>admin.</td>\n",
              "      <td>True</td>\n",
              "      <td>False</td>\n",
              "      <td>False</td>\n",
              "      <td>False</td>\n",
              "      <td>False</td>\n",
              "      <td>5</td>\n",
              "      <td>1</td>\n",
              "      <td>151.0</td>\n",
              "      <td>1.0</td>\n",
              "      <td>999.0</td>\n",
              "      <td>0.0</td>\n",
              "      <td>False</td>\n",
              "      <td>1.1</td>\n",
              "      <td>93.994</td>\n",
              "      <td>-36.4</td>\n",
              "      <td>4.857</td>\n",
              "      <td>5191.0</td>\n",
              "      <td>False</td>\n",
              "    </tr>\n",
              "    <tr>\n",
              "      <th>4</th>\n",
              "      <td>56.0</td>\n",
              "      <td>services</td>\n",
              "      <td>True</td>\n",
              "      <td>False</td>\n",
              "      <td>False</td>\n",
              "      <td>False</td>\n",
              "      <td>True</td>\n",
              "      <td>5</td>\n",
              "      <td>1</td>\n",
              "      <td>307.0</td>\n",
              "      <td>1.0</td>\n",
              "      <td>999.0</td>\n",
              "      <td>0.0</td>\n",
              "      <td>False</td>\n",
              "      <td>1.1</td>\n",
              "      <td>93.994</td>\n",
              "      <td>-36.4</td>\n",
              "      <td>4.857</td>\n",
              "      <td>5191.0</td>\n",
              "      <td>False</td>\n",
              "    </tr>\n",
              "    <tr>\n",
              "      <th>6</th>\n",
              "      <td>59.0</td>\n",
              "      <td>admin.</td>\n",
              "      <td>True</td>\n",
              "      <td>True</td>\n",
              "      <td>False</td>\n",
              "      <td>False</td>\n",
              "      <td>False</td>\n",
              "      <td>5</td>\n",
              "      <td>1</td>\n",
              "      <td>139.0</td>\n",
              "      <td>1.0</td>\n",
              "      <td>999.0</td>\n",
              "      <td>0.0</td>\n",
              "      <td>False</td>\n",
              "      <td>1.1</td>\n",
              "      <td>93.994</td>\n",
              "      <td>-36.4</td>\n",
              "      <td>4.857</td>\n",
              "      <td>5191.0</td>\n",
              "      <td>False</td>\n",
              "    </tr>\n",
              "    <tr>\n",
              "      <th>...</th>\n",
              "      <td>...</td>\n",
              "      <td>...</td>\n",
              "      <td>...</td>\n",
              "      <td>...</td>\n",
              "      <td>...</td>\n",
              "      <td>...</td>\n",
              "      <td>...</td>\n",
              "      <td>...</td>\n",
              "      <td>...</td>\n",
              "      <td>...</td>\n",
              "      <td>...</td>\n",
              "      <td>...</td>\n",
              "      <td>...</td>\n",
              "      <td>...</td>\n",
              "      <td>...</td>\n",
              "      <td>...</td>\n",
              "      <td>...</td>\n",
              "      <td>...</td>\n",
              "      <td>...</td>\n",
              "      <td>...</td>\n",
              "    </tr>\n",
              "    <tr>\n",
              "      <th>41183</th>\n",
              "      <td>73.0</td>\n",
              "      <td>retired</td>\n",
              "      <td>True</td>\n",
              "      <td>True</td>\n",
              "      <td>False</td>\n",
              "      <td>True</td>\n",
              "      <td>False</td>\n",
              "      <td>11</td>\n",
              "      <td>5</td>\n",
              "      <td>334.0</td>\n",
              "      <td>1.0</td>\n",
              "      <td>999.0</td>\n",
              "      <td>0.0</td>\n",
              "      <td>False</td>\n",
              "      <td>-1.1</td>\n",
              "      <td>94.767</td>\n",
              "      <td>-50.8</td>\n",
              "      <td>1.028</td>\n",
              "      <td>4963.6</td>\n",
              "      <td>True</td>\n",
              "    </tr>\n",
              "    <tr>\n",
              "      <th>41184</th>\n",
              "      <td>46.0</td>\n",
              "      <td>blue-collar</td>\n",
              "      <td>True</td>\n",
              "      <td>True</td>\n",
              "      <td>False</td>\n",
              "      <td>False</td>\n",
              "      <td>False</td>\n",
              "      <td>11</td>\n",
              "      <td>5</td>\n",
              "      <td>383.0</td>\n",
              "      <td>1.0</td>\n",
              "      <td>999.0</td>\n",
              "      <td>0.0</td>\n",
              "      <td>False</td>\n",
              "      <td>-1.1</td>\n",
              "      <td>94.767</td>\n",
              "      <td>-50.8</td>\n",
              "      <td>1.028</td>\n",
              "      <td>4963.6</td>\n",
              "      <td>False</td>\n",
              "    </tr>\n",
              "    <tr>\n",
              "      <th>41185</th>\n",
              "      <td>56.0</td>\n",
              "      <td>retired</td>\n",
              "      <td>True</td>\n",
              "      <td>True</td>\n",
              "      <td>False</td>\n",
              "      <td>True</td>\n",
              "      <td>False</td>\n",
              "      <td>11</td>\n",
              "      <td>5</td>\n",
              "      <td>189.0</td>\n",
              "      <td>2.0</td>\n",
              "      <td>999.0</td>\n",
              "      <td>0.0</td>\n",
              "      <td>False</td>\n",
              "      <td>-1.1</td>\n",
              "      <td>94.767</td>\n",
              "      <td>-50.8</td>\n",
              "      <td>1.028</td>\n",
              "      <td>4963.6</td>\n",
              "      <td>False</td>\n",
              "    </tr>\n",
              "    <tr>\n",
              "      <th>41186</th>\n",
              "      <td>44.0</td>\n",
              "      <td>technician</td>\n",
              "      <td>True</td>\n",
              "      <td>True</td>\n",
              "      <td>False</td>\n",
              "      <td>False</td>\n",
              "      <td>False</td>\n",
              "      <td>11</td>\n",
              "      <td>5</td>\n",
              "      <td>442.0</td>\n",
              "      <td>1.0</td>\n",
              "      <td>999.0</td>\n",
              "      <td>0.0</td>\n",
              "      <td>False</td>\n",
              "      <td>-1.1</td>\n",
              "      <td>94.767</td>\n",
              "      <td>-50.8</td>\n",
              "      <td>1.028</td>\n",
              "      <td>4963.6</td>\n",
              "      <td>True</td>\n",
              "    </tr>\n",
              "    <tr>\n",
              "      <th>41187</th>\n",
              "      <td>74.0</td>\n",
              "      <td>retired</td>\n",
              "      <td>True</td>\n",
              "      <td>True</td>\n",
              "      <td>False</td>\n",
              "      <td>True</td>\n",
              "      <td>False</td>\n",
              "      <td>11</td>\n",
              "      <td>5</td>\n",
              "      <td>239.0</td>\n",
              "      <td>3.0</td>\n",
              "      <td>999.0</td>\n",
              "      <td>1.0</td>\n",
              "      <td>False</td>\n",
              "      <td>-1.1</td>\n",
              "      <td>94.767</td>\n",
              "      <td>-50.8</td>\n",
              "      <td>1.028</td>\n",
              "      <td>4963.6</td>\n",
              "      <td>False</td>\n",
              "    </tr>\n",
              "  </tbody>\n",
              "</table>\n",
              "<p>30547 rows × 20 columns</p>\n",
              "</div>"
            ],
            "text/plain": [
              "        age          job  marital  education  default  housing   loan  month  \\\n",
              "0      56.0    housemaid     True      False    False    False  False      5   \n",
              "2      37.0     services     True      False    False     True  False      5   \n",
              "3      40.0       admin.     True      False    False    False  False      5   \n",
              "4      56.0     services     True      False    False    False   True      5   \n",
              "6      59.0       admin.     True       True    False    False  False      5   \n",
              "...     ...          ...      ...        ...      ...      ...    ...    ...   \n",
              "41183  73.0      retired     True       True    False     True  False     11   \n",
              "41184  46.0  blue-collar     True       True    False    False  False     11   \n",
              "41185  56.0      retired     True       True    False     True  False     11   \n",
              "41186  44.0   technician     True       True    False    False  False     11   \n",
              "41187  74.0      retired     True       True    False     True  False     11   \n",
              "\n",
              "       day_of_week  duration  campaign  pdays  previous  poutcome  \\\n",
              "0                1     261.0       1.0  999.0       0.0     False   \n",
              "2                1     226.0       1.0  999.0       0.0     False   \n",
              "3                1     151.0       1.0  999.0       0.0     False   \n",
              "4                1     307.0       1.0  999.0       0.0     False   \n",
              "6                1     139.0       1.0  999.0       0.0     False   \n",
              "...            ...       ...       ...    ...       ...       ...   \n",
              "41183            5     334.0       1.0  999.0       0.0     False   \n",
              "41184            5     383.0       1.0  999.0       0.0     False   \n",
              "41185            5     189.0       2.0  999.0       0.0     False   \n",
              "41186            5     442.0       1.0  999.0       0.0     False   \n",
              "41187            5     239.0       3.0  999.0       1.0     False   \n",
              "\n",
              "       emp.var.rate  cons.price.idx  cons.conf.idx  euribor3m  nr.employed  \\\n",
              "0               1.1          93.994          -36.4      4.857       5191.0   \n",
              "2               1.1          93.994          -36.4      4.857       5191.0   \n",
              "3               1.1          93.994          -36.4      4.857       5191.0   \n",
              "4               1.1          93.994          -36.4      4.857       5191.0   \n",
              "6               1.1          93.994          -36.4      4.857       5191.0   \n",
              "...             ...             ...            ...        ...          ...   \n",
              "41183          -1.1          94.767          -50.8      1.028       4963.6   \n",
              "41184          -1.1          94.767          -50.8      1.028       4963.6   \n",
              "41185          -1.1          94.767          -50.8      1.028       4963.6   \n",
              "41186          -1.1          94.767          -50.8      1.028       4963.6   \n",
              "41187          -1.1          94.767          -50.8      1.028       4963.6   \n",
              "\n",
              "           y  \n",
              "0      False  \n",
              "2      False  \n",
              "3      False  \n",
              "4      False  \n",
              "6      False  \n",
              "...      ...  \n",
              "41183   True  \n",
              "41184  False  \n",
              "41185  False  \n",
              "41186   True  \n",
              "41187  False  \n",
              "\n",
              "[30547 rows x 20 columns]"
            ]
          },
          "execution_count": 94,
          "metadata": {},
          "output_type": "execute_result"
        }
      ],
      "source": [
        "filter1 = data['housing'] != 'unknown'\n",
        "filter2= data['loan'] != 'unknown'\n",
        "filter3 = data['education'] != 'unknown'\n",
        "filter4 = data['job'] != 'unknown'\n",
        "filter5 = data['default'] != 'unknown'\n",
        "\n",
        "temp = data.where(filter1&filter2&filter3&filter4&filter5)\n",
        "dow = {'mon':1,'tue':2,'wed':3,'thu':4,'fri':5}\n",
        "mon = {\"may\":5,\"jun\":6,\"jul\":7,\"aug\":8,\"oct\":10,\"nov\":11,\"dec\":12,\"mar\":3,\"apr\":4,\"sep\":9}\n",
        "temp = temp.dropna()\n",
        "temp['education'] = temp.apply(lambda x: x['education'] in ['professional.course','university.degree'],axis=1)\n",
        "temp['marital'] = temp.apply(lambda x:x['marital'] =='married',axis=1)\n",
        "temp['poutcome'] = temp.apply(lambda x:x['poutcome'] =='success',axis=1)\n",
        "temp['day_of_week'] = temp.apply(lambda x:dow[x['day_of_week']] ,axis=1)\n",
        "temp['month'] = temp.apply(lambda x:mon[x['month']] ,axis=1)\n",
        "temp['default'] = temp.apply(lambda x:x['default']==\"yes\" ,axis=1)\n",
        "temp['housing'] = temp.apply(lambda x:x['housing']==\"yes\" ,axis=1)\n",
        "temp['loan'] = temp.apply(lambda x:x['loan']==\"yes\" ,axis=1)\n",
        "temp['y'] = temp.apply(lambda x:x['y']==\"yes\" ,axis=1)\n",
        "\n",
        "#dropping unwanted columns\n",
        "temp = temp.drop('contact', inplace=False, axis=1)\n",
        "\"\"\"\n",
        "temp = temp.drop('duration', inplace=False, axis=1)\n",
        "temp = temp.drop('emp.var.rate', inplace=False, axis=1)\n",
        "temp = temp.drop('cons.price.idx', inplace=False, axis=1)\n",
        "temp = temp.drop('cons.conf.idx', inplace=False, axis=1)\n",
        "temp = temp.drop('euribor3m', inplace=False, axis=1)\n",
        "temp = temp.drop('nr.employed', inplace=False, axis=1)\n",
        "\"\"\"\n",
        "data = temp\n",
        "data"
      ]
    },
    {
      "cell_type": "markdown",
      "metadata": {
        "id": "UgfWwUZS_n1u"
      },
      "source": [
        "**Part 1**"
      ]
    },
    {
      "cell_type": "markdown",
      "metadata": {
        "id": "D4-TLOvmhDVW"
      },
      "source": [
        "Means of each category:"
      ]
    },
    {
      "cell_type": "code",
      "execution_count": 95,
      "metadata": {
        "colab": {
          "base_uri": "https://localhost:8080/"
        },
        "id": "psR9wV9S_nMK",
        "outputId": "2df6b88f-6885-45ae-f232-ac2aad1dd8e9"
      },
      "outputs": [
        {
          "data": {
            "text/plain": [
              "2.521884309424821"
            ]
          },
          "execution_count": 95,
          "metadata": {},
          "output_type": "execute_result"
        }
      ],
      "source": [
        "# Campaign label\n",
        "mean = data['campaign'].mean()\n",
        "mean"
      ]
    },
    {
      "cell_type": "code",
      "execution_count": 96,
      "metadata": {
        "colab": {
          "base_uri": "https://localhost:8080/"
        },
        "id": "DKidqG3W_xBR",
        "outputId": "e4f6b444-86c9-4094-bd37-149055c531a4"
      },
      "outputs": [
        {
          "data": {
            "text/plain": [
              "False    26679\n",
              "True      3868\n",
              "Name: y, dtype: int64"
            ]
          },
          "execution_count": 96,
          "metadata": {},
          "output_type": "execute_result"
        }
      ],
      "source": [
        "# Y label\n",
        "data['y'].value_counts()"
      ]
    },
    {
      "cell_type": "code",
      "execution_count": 97,
      "metadata": {
        "colab": {
          "base_uri": "https://localhost:8080/"
        },
        "id": "S7_7Q4wBhLl3",
        "outputId": "894f7335-871e-40c2-f30e-7c479988d31d"
      },
      "outputs": [
        {
          "data": {
            "text/plain": [
              "0.12662454578190985"
            ]
          },
          "execution_count": 97,
          "metadata": {},
          "output_type": "execute_result"
        }
      ],
      "source": [
        "mean_y = data['y'].mean()\n",
        "mean_y"
      ]
    },
    {
      "cell_type": "code",
      "execution_count": 98,
      "metadata": {
        "colab": {
          "base_uri": "https://localhost:8080/"
        },
        "id": "TTFP0GQlhxyf",
        "outputId": "1696445e-0304-4777-a2cb-c0a06f5fbad5"
      },
      "outputs": [
        {
          "name": "stdout",
          "output_type": "stream",
          "text": [
            "mean y=True is: 2.0255946225439505\n",
            "mean y=False is: 2.5938378499943777\n"
          ]
        }
      ],
      "source": [
        "m1 = data[data[\"y\"]==True][\"campaign\"].mean()\n",
        "m2 = data[data[\"y\"]==False][\"campaign\"].mean()\n",
        "print('mean y=True is:', m1)\n",
        "print('mean y=False is:', m2)"
      ]
    },
    {
      "cell_type": "markdown",
      "metadata": {
        "id": "BNk-aTRXiMGF"
      },
      "source": [
        "Condidence Interval of expectations for each category :"
      ]
    },
    {
      "cell_type": "code",
      "execution_count": 99,
      "metadata": {
        "colab": {
          "base_uri": "https://localhost:8080/"
        },
        "id": "9AiuoRwEHcnj",
        "outputId": "6dd55f27-e3fe-4bdd-c88a-fb69f276a57f"
      },
      "outputs": [
        {
          "name": "stdout",
          "output_type": "stream",
          "text": [
            "CI for Y=True:\n",
            "(0.6697473972931174,3.3814418477947834)\n",
            "CI for Y=False:\n",
            "(0.22279059914747235,4.964885100841283)\n"
          ]
        }
      ],
      "source": [
        "# campaign -> Y\n",
        "import scipy.stats as stats\n",
        "data_true = data[data[\"y\"]==True][\"campaign\"]\n",
        "data_false = data[data[\"y\"]==False][\"campaign\"]\n",
        "cam1_mean = data[data[\"y\"]==True][\"campaign\"].mean()\n",
        "cam1_se = data[data[\"y\"]==True][\"campaign\"].std()\n",
        "cam2_mean = data[data[\"y\"]==False][\"campaign\"].mean()\n",
        "cam2_se = data[data[\"y\"]==False][\"campaign\"].std()\n",
        "\n",
        "z = stats.norm()\n",
        "alpha = 0.05\n",
        "print(\"CI for Y=True:\")\n",
        "print(f\"({cam1_mean - z.cdf(1-alpha/2)*cam1_se},{cam1_mean + z.cdf(1-alpha/2)*cam1_se})\")\n",
        "print(\"CI for Y=False:\")\n",
        "print(f\"({cam2_mean - z.cdf(1-alpha/2)*cam2_se},{cam2_mean + z.cdf(1-alpha/2)*cam2_se})\")\n"
      ]
    },
    {
      "cell_type": "markdown",
      "metadata": {
        "id": "3YVe54BKHcnj"
      },
      "source": [
        "למה מניחים נורמליות? כי ראינו שאנ\"מ הוא אסימפטוטי נורמלי , ולכן ניתן להניח זאת בנחה שיש הרבה מידע"
      ]
    },
    {
      "cell_type": "markdown",
      "metadata": {
        "id": "kfgw8-Boihc5"
      },
      "source": [
        "Moreover, we note that our 2 confidence intervals overlap. This shows us that the difference between these groups is not statistically significant."
      ]
    },
    {
      "cell_type": "markdown",
      "metadata": {
        "id": "Qntb3PrAHcnk"
      },
      "source": [
        "**Part 2**\n"
      ]
    },
    {
      "cell_type": "markdown",
      "metadata": {
        "id": "iPdGUkj5jX1M"
      },
      "source": [
        "We would like to test theses hypothesis:\n",
        "H0: μ1-μ2 = 0 and \n",
        "H1: μ1-μ2 != 0"
      ]
    },
    {
      "cell_type": "code",
      "execution_count": 100,
      "metadata": {
        "colab": {
          "base_uri": "https://localhost:8080/",
          "height": 295
        },
        "id": "TOIpeecvlAUM",
        "outputId": "f83780b2-131b-44f4-e817-de2be5baf81b"
      },
      "outputs": [
        {
          "data": {
            "image/png": "[encoded data removed]",
            "text/plain": [
              "<Figure size 432x288 with 1 Axes>"
            ]
          },
          "metadata": {
            "needs_background": "light"
          },
          "output_type": "display_data"
        }
      ],
      "source": [
        "data_hist = data_true\n",
        "fig, ax = plt.subplots()\n",
        "ax.hist(data_hist, bins=10, linewidth=0.5, edgecolor=\"white\")\n",
        "ax.set(ylabel=\"Quantity\", xlabel= \"Value\", title=\"Number of campaigns when y=True \")\n",
        "plt.show()"
      ]
    },
    {
      "cell_type": "code",
      "execution_count": 101,
      "metadata": {
        "colab": {
          "base_uri": "https://localhost:8080/",
          "height": 295
        },
        "id": "QAkVKUqelWOf",
        "outputId": "9e1ff81b-0dda-4a18-d23c-ba68c9ed024e"
      },
      "outputs": [
        {
          "data": {
            "image/png": "[encoded data removed]",
            "text/plain": [
              "<Figure size 432x288 with 1 Axes>"
            ]
          },
          "metadata": {
            "needs_background": "light"
          },
          "output_type": "display_data"
        }
      ],
      "source": [
        "data_hist = data_false\n",
        "fig, ax = plt.subplots()\n",
        "ax.hist(data_hist, bins=10, linewidth=0.5, edgecolor=\"white\")\n",
        "ax.set(ylabel=\"Quantity\", xlabel= \"Value\", title=\"Number of campaigns when y=False \")\n",
        "plt.show()"
      ]
    },
    {
      "cell_type": "markdown",
      "metadata": {
        "id": "UiYa4nMBlqMU"
      },
      "source": [
        "We can see with these histograms that our data doesn't come from normal distribution."
      ]
    },
    {
      "cell_type": "markdown",
      "metadata": {
        "id": "1gmdxbehHcnl"
      },
      "source": [
        "Implementation of the F test in order to compare our variances:"
      ]
    },
    {
      "cell_type": "code",
      "execution_count": 102,
      "metadata": {
        "colab": {
          "base_uri": "https://localhost:8080/"
        },
        "id": "gRVRT3-4Hcnl",
        "outputId": "7982f81f-4e3e-4e3d-ef6b-34304e5426f9"
      },
      "outputs": [
        {
          "name": "stdout",
          "output_type": "stream",
          "text": [
            "<class 'numpy.float64'>\n",
            "True\n"
          ]
        }
      ],
      "source": [
        "F = stats.f(len(data_true.to_numpy()),len(data_false.to_numpy()))\n",
        "top = data_true.std()\n",
        "bottom = data_false.std()\n",
        "print(type(bottom))\n",
        "\n",
        "f_stat = (top/bottom)**2\n",
        "rejection_area = f_stat > F.cdf(0.05)\n",
        "print(rejection_area)"
      ]
    },
    {
      "cell_type": "markdown",
      "metadata": {
        "id": "66SqP9f_Hcnl"
      },
      "source": [
        "We conclude with this F test and from histograms that variance of variables X and variance of variables Y are different and that our data doesn't come from normal distribution. Therefore , the assumptions on the T test aren't held."
      ]
    },
    {
      "cell_type": "markdown",
      "metadata": {
        "id": "vfj8jF0Rm6Tc"
      },
      "source": [
        "Implementation of T test:"
      ]
    },
    {
      "cell_type": "code",
      "execution_count": 103,
      "metadata": {
        "colab": {
          "base_uri": "https://localhost:8080/"
        },
        "id": "N-RAfjY8Hcnl",
        "outputId": "08acadff-3d99-403f-95f3-447968beaebb"
      },
      "outputs": [
        {
          "name": "stdout",
          "output_type": "stream",
          "text": [
            "T test statistic is :  -12.163991742140341\n",
            "T value is :  0.8352160093801207\n",
            "Are we rejecting H0 ?  True\n"
          ]
        }
      ],
      "source": [
        "T = stats.t(len(data)-2)\n",
        "S_p = (data_true.count()-1)*data_true.std()**2+ (data_false.count()-1)*data_false.std()**2\n",
        "S_p = S_p /( data_false.count()+data_true.count()-2)\n",
        "S_p **=0.5 \n",
        "T_stat = (data_true.mean()-data_false.mean())/(S_p*(1/data_true.count()+1/data_false.count())**0.5)\n",
        "\n",
        "rej_area = abs(T_stat) > abs(T.cdf(1-alpha/2))\n",
        "print('T test statistic is : ', T_stat)\n",
        "print('T value is : ', T.cdf(1-alpha/2))\n",
        "print(\"Are we rejecting H0 ? \",rej_area)"
      ]
    },
    {
      "cell_type": "code",
      "execution_count": 104,
      "metadata": {},
      "outputs": [
        {
          "name": "stdout",
          "output_type": "stream",
          "text": [
            "P-Value of T test is: 5.792964944059213e-34\n"
          ]
        }
      ],
      "source": [
        "p_value = 2* stats.t(len(data)-2).cdf(-1 * abs(T_stat))\n",
        "print(\"P-Value of T test is:\",p_value)"
      ]
    },
    {
      "cell_type": "markdown",
      "metadata": {
        "id": "7wTagV-eHcnl"
      },
      "source": [
        "We conclude with this test that we reject the null hypothesis."
      ]
    },
    {
      "cell_type": "markdown",
      "metadata": {
        "id": "46z-j0KjHcnl"
      },
      "source": [
        "Implementation of Wald test:"
      ]
    },
    {
      "cell_type": "code",
      "execution_count": 105,
      "metadata": {
        "colab": {
          "base_uri": "https://localhost:8080/"
        },
        "id": "hlx-beymHcnl",
        "outputId": "6b8b91c7-502f-41a4-dfb7-d6cd4526ebe0"
      },
      "outputs": [
        {
          "name": "stdout",
          "output_type": "stream",
          "text": [
            "Wald test statistic is :  -18.120795654383315\n",
            "Are we rejecting H0 ?  True\n"
          ]
        }
      ],
      "source": [
        "sd_noraml = data_true.std()**2/data_true.count()+data_false.std()**2/data_false.count()\n",
        "sd_noraml **= 0.5\n",
        "W =( data_true.mean()-data_false.mean())/sd_noraml\n",
        "rejection_area_Wald = abs(W)>z.cdf(1-alpha/2)\n",
        "print('Wald test statistic is : ', W)\n",
        "print(\"Are we rejecting H0 ? \",rejection_area_Wald)"
      ]
    },
    {
      "cell_type": "markdown",
      "metadata": {
        "id": "61LNhlVgrDkx"
      },
      "source": [
        "We conclude with this test that we reject the null hypothesis."
      ]
    },
    {
      "cell_type": "code",
      "execution_count": 106,
      "metadata": {
        "colab": {
          "base_uri": "https://localhost:8080/"
        },
        "id": "9Kqcl4Z9Hcnl",
        "outputId": "de72e0fb-08bc-422c-bf88-99c003faf690"
      },
      "outputs": [
        {
          "name": "stdout",
          "output_type": "stream",
          "text": [
            "P-Value of Wald test is: 2.184135481042085e-73\n"
          ]
        }
      ],
      "source": [
        "p_value = 2* z.cdf(-1* abs(W))\n",
        "print(\"P-Value of Wald test is:\",p_value)"
      ]
    },
    {
      "cell_type": "markdown",
      "metadata": {
        "id": "MUwSaTZgryHd"
      },
      "source": [
        "**TODO P-VALUE of T test**"
      ]
    },
    {
      "cell_type": "code",
      "execution_count": 107,
      "metadata": {},
      "outputs": [
        {
          "name": "stdout",
          "output_type": "stream",
          "text": [
            "273.52686645158366\n",
            "0.24813566918955035\n",
            "Do we reject the null hyposis?  True\n"
          ]
        }
      ],
      "source": [
        "S_p = (data_true.count()-1)*data_true.std()**2+ (data_false.count()-1)*data_false.std()**2\n",
        "S_p = S_p /( data_false.count()+data_true.count()-2)\n",
        "S_p **=0.5 \n",
        "\n",
        "True_mean = data_true.mean()\n",
        "False_mean = data_false.mean()\n",
        "total_mean = data[\"campaign\"].mean()\n",
        "\n",
        "N_true = stats.norm(True_mean,S_p**2)\n",
        "N_false = stats.norm(False_mean,S_p**2)\n",
        "N_total = stats.norm(total_mean,data[\"campaign\"].std()**2)\n",
        "\n",
        "sumD = 0\n",
        "for d in (data_true.to_numpy()):\n",
        "    sumD+=np.log(N_true.pdf(d))\n",
        "    sumD-=np.log(N_total.pdf(d))\n",
        "for d in (data_false.to_numpy()):\n",
        "    sumD+=np.log(N_false.pdf(d))\n",
        "    sumD-=np.log(N_total.pdf(d))\n",
        "    \n",
        "sumD*=2\n",
        "\n",
        "chi = stats.chi2(1).pdf(1-alpha/2)\n",
        "print(sumD)\n",
        "print(chi)\n",
        "print(\"Do we reject the null hyposis? \",sumD > chi)\n"
      ]
    },
    {
      "cell_type": "markdown",
      "metadata": {
        "id": "GYCOfAeVrcw1"
      },
      "source": [
        "Therefore we can conclude that according to the test we perform, we will reject the null hypothesis."
      ]
    },
    {
      "cell_type": "markdown",
      "metadata": {
        "id": "hkE0TxLGHcnm"
      },
      "source": [
        "**Part 3**"
      ]
    },
    {
      "cell_type": "markdown",
      "metadata": {
        "id": "Ysq7kWTRsCHT"
      },
      "source": [
        "Calculation of Confidence Intervals of expectations of our data samples:"
      ]
    },
    {
      "cell_type": "code",
      "execution_count": 108,
      "metadata": {
        "colab": {
          "base_uri": "https://localhost:8080/"
        },
        "id": "hSBee7AOHcnm",
        "outputId": "b460ae42-25c4-4214-b2ba-8525d9f3e6ab"
      },
      "outputs": [
        {
          "name": "stdout",
          "output_type": "stream",
          "text": [
            "data_30\n",
            "CI for Y=True:\n",
            "(-0.18052233382596272,5.180522333825962)\n",
            "CI for Y=False:\n",
            "(0.9978697902206379,2.8354635431126956)\n",
            "****************************************************************\n",
            "data_50\n",
            "CI for Y=True:\n",
            "(0.6689543031889882,3.831045696811012)\n",
            "CI for Y=False:\n",
            "(0.8837201496431626,4.942366806878576)\n",
            "****************************************************************\n",
            "data_100\n",
            "CI for Y=True:\n",
            "(1.0499765386300188,2.825023461369981)\n",
            "CI for Y=False:\n",
            "(0.7635833496295983,2.950702364656116)\n",
            "****************************************************************\n",
            "data_500\n",
            "CI for Y=True:\n",
            "(0.09312348993031128,4.553030356223536)\n",
            "CI for Y=False:\n",
            "(0.35686263120912054,4.843137368790879)\n",
            "****************************************************************\n"
          ]
        }
      ],
      "source": [
        "data_30  = data.sample(30)\n",
        "data_50  = data.sample(50)\n",
        "data_100  = data.sample(100)\n",
        "data_500  = data.sample(500)\n",
        "\n",
        "arr = [data_30,data_50,data_100,data_500]\n",
        "names = [\"data_30\",\"data_50\",\"data_100\",\"data_500\"]\n",
        "for d,n in zip(arr,names):\n",
        "    print(n)\n",
        "    cam1_mean = d[d[\"y\"]==True][\"campaign\"].mean()\n",
        "    cam1_se = d[d[\"y\"]==True][\"campaign\"].std()\n",
        "    cam2_mean = d[d[\"y\"]==False][\"campaign\"].mean()\n",
        "    cam2_se = d[d[\"y\"]==False][\"campaign\"].std()\n",
        "    print(\"CI for Y=True:\")\n",
        "    print(f\"({cam1_mean - z.cdf(1-alpha/2)*cam1_se},{cam1_mean + z.cdf(1-alpha/2)*cam1_se})\")\n",
        "    print(\"CI for Y=False:\")\n",
        "    print(f\"({cam2_mean - z.cdf(1-alpha/2)*cam2_se},{cam2_mean + z.cdf(1-alpha/2)*cam2_se})\")\n",
        "    print(\"****************************************************************\")\n",
        "\n"
      ]
    },
    {
      "cell_type": "markdown",
      "metadata": {
        "id": "0gg6atgqsdqO"
      },
      "source": [
        "In comparaison with the first question, we can note that the values of our confidence intervals tend to the values we found in the first question, when the size of the sample grows."
      ]
    },
    {
      "cell_type": "markdown",
      "metadata": {
        "id": "XpPj-_OKswuw"
      },
      "source": [
        "Implementation of the Wald test for each sample:"
      ]
    },
    {
      "cell_type": "code",
      "execution_count": 109,
      "metadata": {
        "colab": {
          "base_uri": "https://localhost:8080/"
        },
        "id": "dOWL7v71Hcnm",
        "outputId": "d7d70f3f-eaaa-4fff-ef5c-11316eaa17e9"
      },
      "outputs": [
        {
          "name": "stdout",
          "output_type": "stream",
          "text": [
            "data_30\n",
            "Wald test statistic is :  0.4388211351503195\n",
            "Are we rejecting H0 ?  False\n",
            "********************************\n",
            "data_50\n",
            "Wald test statistic is :  -0.6551737165001134\n",
            "Are we rejecting H0 ?  False\n",
            "********************************\n",
            "data_100\n",
            "Wald test statistic is :  0.2664090310640139\n",
            "Are we rejecting H0 ?  False\n",
            "********************************\n",
            "data_500\n",
            "Wald test statistic is :  -0.7793740744715635\n",
            "Are we rejecting H0 ?  False\n",
            "********************************\n"
          ]
        }
      ],
      "source": [
        "for d,n in zip(arr,names):\n",
        "    print(n)\n",
        "    cam1_mean = d[d[\"y\"]==True][\"campaign\"].mean()\n",
        "    cam1_se = d[d[\"y\"]==True][\"campaign\"].std()\n",
        "    cam1_count = d[d[\"y\"]==True][\"campaign\"].count()\n",
        "    cam2_mean = d[d[\"y\"]==False][\"campaign\"].mean()\n",
        "    cam2_se = d[d[\"y\"]==False][\"campaign\"].std()\n",
        "    cam2_count = d[d[\"y\"]==False][\"campaign\"].count()\n",
        "    sd_noraml = cam1_se**2/cam1_count+cam2_se**2/cam2_count\n",
        "    sd_noraml **= 0.5\n",
        "    W =( cam1_mean-cam2_mean)/sd_noraml\n",
        "    rejection_area_w_samples = abs(W)>z.cdf(1-alpha/2)\n",
        "    print('Wald test statistic is : ', W)\n",
        "    print(\"Are we rejecting H0 ? \",rejection_area_w_samples)\n",
        "    print(\"********************************\")\n"
      ]
    },
    {
      "cell_type": "markdown",
      "metadata": {
        "id": "CgH5ETBut0C7"
      },
      "source": [
        "In comparaison to the question 2 we note that our values of Wald test statistic aren't very close to what we received.\n",
        "However, we note that the more the size of our sample increases, the more close our value gets."
      ]
    },
    {
      "cell_type": "code",
      "execution_count": 110,
      "metadata": {
        "id": "NAIs6NqpHcnm"
      },
      "outputs": [],
      "source": [
        "True_total = [[],[],[],[]]\n",
        "False_total = [[],[],[],[]]\n",
        "W_total = [[],[],[],[]]\n",
        "p_values_list = [[],[],[],[]]\n",
        "for i in range(100):\n",
        "    data_30  = data.sample(30)\n",
        "    data_50  = data.sample(50)\n",
        "    data_100  = data.sample(100)\n",
        "    data_500  = data.sample(500)\n",
        "    arr = [data_30,data_50,data_100,data_500]\n",
        "    nums = [0,1,2,3]\n",
        "    for d,i in zip(arr,nums):\n",
        "        #print(i)\n",
        "        cam1_mean = d[d[\"y\"]==True][\"campaign\"].mean()\n",
        "        cam1_se = d[d[\"y\"]==True][\"campaign\"].std()\n",
        "        cam2_mean = d[d[\"y\"]==False][\"campaign\"].mean()\n",
        "        cam2_se = d[d[\"y\"]==False][\"campaign\"].std()\n",
        "        True_area = ({cam1_mean - z.cdf(1-alpha/2)*cam1_se},{cam1_mean + z.cdf(1-alpha/2)*cam1_se})\n",
        "        False_area = ({cam2_mean - z.cdf(1-alpha/2)*cam2_se},{cam2_mean + z.cdf(1-alpha/2)*cam2_se})\n",
        "        True_size = 2*z.cdf(1-alpha/2)*cam1_se\n",
        "        False_size = 2*z.cdf(1-alpha/2)*cam2_se\n",
        "        sd_noraml = cam1_se**2/cam1_count+cam2_se**2/cam2_count\n",
        "        sd_noraml **= 0.5\n",
        "        W =( cam1_mean-cam2_mean)/sd_noraml\n",
        "        Pv = 2* z.cdf(-1* abs(W))\n",
        "        True_total[i].append(True_size)\n",
        "        False_total[i].append(False_size)\n",
        "        W_total[i].append(W)\n",
        "        p_values_list[i].append(Pv)\n",
        "        \n"
      ]
    },
    {
      "cell_type": "code",
      "execution_count": 111,
      "metadata": {
        "id": "t7S6bRFh-Yzd"
      },
      "outputs": [],
      "source": [
        "temp_data = []\n",
        "tot_mean = data[\"campaign\"].mean()\n",
        "data_dict = {}\n"
      ]
    },
    {
      "cell_type": "code",
      "execution_count": 112,
      "metadata": {
        "id": "qWjocfMM-Yzd"
      },
      "outputs": [],
      "source": [
        "import math\n",
        "def remove_nun(arr):\n",
        "    for a in arr:\n",
        "        a =  [item for item in a if not(math.isnan(item)) == True]\n",
        "    \n"
      ]
    },
    {
      "cell_type": "code",
      "execution_count": 113,
      "metadata": {
        "id": "e1kEFLpfOG-k"
      },
      "outputs": [],
      "source": [
        "for i in [30,50,100,500]:\n",
        "        True_total = []\n",
        "        False_total = []\n",
        "        W_total = []\n",
        "        p_values_list = []\n",
        "        is_in_true = []\n",
        "        is_in_false = []\n",
        "        nums = [0,1,2,3]\n",
        "        for j in range(100):\n",
        "                data_30  = data.sample(i)\n",
        "                cam1_mean = data_30[data_30[\"y\"]==True][\"campaign\"].mean()\n",
        "                cam1_se = data_30[data_30[\"y\"]==True][\"campaign\"].std()\n",
        "                cam2_mean = data_30[data_30[\"y\"]==False][\"campaign\"].mean()\n",
        "                cam2_se = data_30[data_30[\"y\"]==False][\"campaign\"].std()\n",
        "                #True_area = ({cam1_mean - z.cdf(1-alpha/2)*cam1_se},{cam1_mean + z.cdf(1-alpha/2)*cam1_se})\n",
        "                #False_area = ({cam2_mean - z.cdf(1-alpha/2)*cam2_se},{cam2_mean + z.cdf(1-alpha/2)*cam2_se})\n",
        "                True_size = 2*z.cdf(1-alpha/2)*cam1_se\n",
        "                False_size = 2*z.cdf(1-alpha/2)*cam2_se\n",
        "                sd_noraml = cam1_se**2/cam1_count+cam2_se**2/cam2_count\n",
        "                sd_noraml **= 0.5\n",
        "                W =( cam1_mean-cam2_mean)/sd_noraml\n",
        "                Pv = 2* z.cdf(-1* abs(W))\n",
        "                True_total.append(True_size)\n",
        "                False_total.append(False_size)\n",
        "                W_total.append(W)\n",
        "                p_values_list.append(Pv)\n",
        "                is_in_true.append(True if tot_mean <= cam1_mean + z.cdf(1-alpha/2)*cam1_se and cam1_mean - z.cdf(1-alpha/2)*cam1_se <=tot_mean else False)\n",
        "                is_in_false.append(True if tot_mean <= cam2_mean + z.cdf(1-alpha/2)*cam2_se and cam2_mean - z.cdf(1-alpha/2)*cam2_se <=tot_mean else False)\n",
        "                iterArr = [True_total,False_total,W_total,p_values_list,is_in_true,is_in_false]\n",
        "                remove_nun(iterArr)\n",
        "                \n",
        "        data_dict[i] = iterArr\n"
      ]
    },
    {
      "cell_type": "code",
      "execution_count": 114,
      "metadata": {
        "colab": {
          "base_uri": "https://localhost:8080/",
          "height": 413
        },
        "id": "uQ6UB5Zo-Yze",
        "outputId": "acf033a5-a3b4-43c9-c97c-e4bb5285dd88"
      },
      "outputs": [
        {
          "data": {
            "image/png": "[encoded data removed]",
            "text/plain": [
              "<Figure size 600x400 with 4 Axes>"
            ]
          },
          "metadata": {
            "needs_background": "light"
          },
          "output_type": "display_data"
        }
      ],
      "source": [
        "#plotting hist of True total length\n",
        "fig,ax = plt.subplots(2,2)\n",
        "dd = [data_dict[d][0] for d in data_dict]\n",
        "plt.suptitle(\"histograms of length of confidence interval where y=True\")\n",
        "fig.set_dpi(100)\n",
        "ax[0,0].hist(dd[0])\n",
        "ax[0,0].set_title(\"size = 30\")\n",
        "ax[0,1].hist(dd[1])\n",
        "ax[0,1].set_title(\"size = 50\")\n",
        "ax[1,0].hist(dd[2])\n",
        "ax[1,0].set_title(\"size = 100\")\n",
        "ax[1,1].hist(dd[3])\n",
        "ax[1,1].set_title(\"size = 500\")\n",
        "\n",
        "for a in ax.flat:\n",
        "    a.set(xlabel='Length', ylabel='Quantity')\n",
        "\n",
        "fig.tight_layout()\n",
        "\n"
      ]
    },
    {
      "cell_type": "code",
      "execution_count": 115,
      "metadata": {
        "colab": {
          "base_uri": "https://localhost:8080/",
          "height": 413
        },
        "id": "VX6RMhqc_B7_",
        "outputId": "6d589294-d840-43c1-8a8c-862ea778e78d"
      },
      "outputs": [
        {
          "data": {
            "image/png": "[encoded data removed]",
            "text/plain": [
              "<Figure size 600x400 with 4 Axes>"
            ]
          },
          "metadata": {
            "needs_background": "light"
          },
          "output_type": "display_data"
        }
      ],
      "source": [
        "#plotting hist of True total length\n",
        "fig,ax = plt.subplots(2,2)\n",
        "dd = [data_dict[d][1] for d in data_dict]\n",
        "plt.suptitle(\"histograms of length of confidence interval where y=False\")\n",
        "fig.set_dpi(100)\n",
        "ax[0,0].hist(dd[0])\n",
        "ax[0,0].set_title(\"size = 30\")\n",
        "ax[0,1].hist(dd[1])\n",
        "ax[0,1].set_title(\"size = 50\")\n",
        "ax[1,0].hist(dd[2])\n",
        "ax[1,0].set_title(\"size = 100\")\n",
        "ax[1,1].hist(dd[3])\n",
        "ax[1,1].set_title(\"size = 500\")\n",
        "\n",
        "for a in ax.flat:\n",
        "    a.set(xlabel='Length', ylabel='Quantity')\n",
        "\n",
        "fig.tight_layout()"
      ]
    },
    {
      "cell_type": "markdown",
      "metadata": {
        "id": "Kw9gv9XFu3iY"
      },
      "source": [
        "With these graphs we can note that the lenght of our confidence intervals tend to the normal distribution function comportment (The more the size of our samples increases, the more it looks like)."
      ]
    },
    {
      "cell_type": "code",
      "execution_count": 116,
      "metadata": {
        "colab": {
          "base_uri": "https://localhost:8080/",
          "height": 413
        },
        "id": "ymvO7yQq_UQa",
        "outputId": "f459938a-068d-401c-9024-ddb85ea4efd1"
      },
      "outputs": [
        {
          "data": {
            "image/png": "[encoded data removed]",
            "text/plain": [
              "<Figure size 600x400 with 4 Axes>"
            ]
          },
          "metadata": {
            "needs_background": "light"
          },
          "output_type": "display_data"
        }
      ],
      "source": [
        "#plotting hist of True total length\n",
        "fig,ax = plt.subplots(2,2)\n",
        "dd = [data_dict[d][3] for d in data_dict]\n",
        "plt.suptitle(\"P-Values histograms\")\n",
        "fig.set_dpi(100)\n",
        "ax[0,0].hist(dd[0])\n",
        "ax[0,0].set_title(\"size = 30\")\n",
        "ax[0,1].hist(dd[1])\n",
        "ax[0,1].set_title(\"size = 50\")\n",
        "ax[1,0].hist(dd[2])\n",
        "ax[1,0].set_title(\"size = 100\")\n",
        "ax[1,1].hist(dd[3])\n",
        "ax[1,1].set_title(\"size = 500\")\n",
        "\n",
        "for a in ax.flat:\n",
        "    a.set(xlabel='Length', ylabel='Quantity')\n",
        "\n",
        "fig.tight_layout()"
      ]
    },
    {
      "cell_type": "markdown",
      "metadata": {
        "id": "e4y8sIoMvmEN"
      },
      "source": [
        "With these graphs we can note that the p-values values tend to a particular distribution function comportment (The more the size of our samples increases, the more it looks like)."
      ]
    },
    {
      "cell_type": "markdown",
      "metadata": {
        "id": "RALu3bAXMd-5"
      },
      "source": [
        "Legend of our histograms that follow:\n",
        "\n",
        "Data Sample of size 30: blue\\\n",
        "Data Sample of size 50: orange\\\n",
        "Data Sample of size 100: green\\\n",
        "Data Sample of size 500: red"
      ]
    },
    {
      "cell_type": "code",
      "execution_count": 117,
      "metadata": {
        "colab": {
          "base_uri": "https://localhost:8080/",
          "height": 295
        },
        "id": "f88y24eaHDdW",
        "outputId": "105db543-7154-42fd-95e6-084c0d856d8e"
      },
      "outputs": [
        {
          "name": "stderr",
          "output_type": "stream",
          "text": [
            "<__array_function__ internals>:5: RuntimeWarning: Converting input from bool to <class 'numpy.uint8'> for compatibility.\n",
            "<__array_function__ internals>:5: RuntimeWarning: Converting input from bool to <class 'numpy.uint8'> for compatibility.\n"
          ]
        },
        {
          "data": {
            "image/png": "[encoded data removed]",
            "text/plain": [
              "<Figure size 432x288 with 1 Axes>"
            ]
          },
          "metadata": {
            "needs_background": "light"
          },
          "output_type": "display_data"
        }
      ],
      "source": [
        "dd = [data_dict[d][4] for d in data_dict]\n",
        "fig, ax = plt.subplots()\n",
        "ax.hist(dd, bins=10, linewidth=0.5, edgecolor=\"white\")\n",
        "ax.set(ylabel=\"Quantity\", xlabel= \"No/Yes\", title=\"Is our mean is in our CI ? (y=True)\")\n",
        "plt.show()"
      ]
    },
    {
      "cell_type": "code",
      "execution_count": 118,
      "metadata": {
        "colab": {
          "base_uri": "https://localhost:8080/",
          "height": 295
        },
        "id": "eGrHCBLSHHNk",
        "outputId": "17715760-35ba-40dc-95a3-4ef64fff0f2c"
      },
      "outputs": [
        {
          "data": {
            "image/png": "[encoded data removed]",
            "text/plain": [
              "<Figure size 432x288 with 1 Axes>"
            ]
          },
          "metadata": {
            "needs_background": "light"
          },
          "output_type": "display_data"
        }
      ],
      "source": [
        "dd = [data_dict[d][5] for d in data_dict]\n",
        "fig, ax = plt.subplots()\n",
        "ax.hist(dd, bins=10, linewidth=0.5, edgecolor=\"white\")\n",
        "ax.set(ylabel=\"Quantity\", xlabel= \"No/Yes\", title=\"Is our mean is in our CI ? (y=False)\")\n",
        "plt.show()"
      ]
    },
    {
      "cell_type": "markdown",
      "metadata": {
        "id": "-tKhKXGLwTZQ"
      },
      "source": [
        "With these histograms we can learn that the more the size of our samples increases, the more the percentage of times that our mean found in the first question is located in our CI increases."
      ]
    }
  ],
  "metadata": {
    "colab": {
      "provenance": []
    },
    "kernelspec": {
      "display_name": "Python 3.9.6 64-bit",
      "language": "python",
      "name": "python3"
    },
    "language_info": {
      "codemirror_mode": {
        "name": "ipython",
        "version": 3
      },
      "file_extension": ".py",
      "mimetype": "text/x-python",
      "name": "python",
      "nbconvert_exporter": "python",
      "pygments_lexer": "ipython3",
      "version": "3.9.6"
    },
    "orig_nbformat": 4,
    "vscode": {
      "interpreter": {
        "hash": "11938c6bc6919ae2720b4d5011047913343b08a43b18698fd82dedb0d4417594"
      }
    }
  },
  "nbformat": 4,
  "nbformat_minor": 0
}
