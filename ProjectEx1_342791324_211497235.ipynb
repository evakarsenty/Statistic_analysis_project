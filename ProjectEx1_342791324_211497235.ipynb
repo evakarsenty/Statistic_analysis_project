{
  "cells": [
    {
      "cell_type": "markdown",
      "metadata": {
        "id": "a_LubcKoH7wW"
      },
      "source": [
        "We choose the bank dataset: \n",
        "https://www.kaggle.com/datasets/henriqueyamahata/bank-marketing"
      ]
    },
    {
      "cell_type": "markdown",
      "metadata": {
        "id": "M5yOxy9mUeaF"
      },
      "source": [
        "The data is related with direct marketing campaigns of a Portuguese banking institution.\n",
        "The goal of all these informations is to predict the \"y\" variable, which indicates if the client will subscribe a term deposit or no.\n",
        "Our data is distributed in differents categories of attributes: Personnals informations about the clients, Informations on their last contact with the campaign, Informations about previous campaigns and Informations on the social and economic context of the clients."
      ]
    },
    {
      "cell_type": "code",
      "execution_count": 149,
      "metadata": {
        "colab": {
          "base_uri": "https://localhost:8080/",
          "height": 488
        },
        "id": "ru0y0BGEH7wZ",
        "outputId": "8931343c-3096-477b-f59b-665e56931adf"
      },
      "outputs": [
        {
          "output_type": "execute_result",
          "data": {
            "text/plain": [
              "       age          job  marital            education  default housing loan  \\\n",
              "0       56    housemaid  married             basic.4y       no      no   no   \n",
              "1       57     services  married          high.school  unknown      no   no   \n",
              "2       37     services  married          high.school       no     yes   no   \n",
              "3       40       admin.  married             basic.6y       no      no   no   \n",
              "4       56     services  married          high.school       no      no  yes   \n",
              "...    ...          ...      ...                  ...      ...     ...  ...   \n",
              "41183   73      retired  married  professional.course       no     yes   no   \n",
              "41184   46  blue-collar  married  professional.course       no      no   no   \n",
              "41185   56      retired  married    university.degree       no     yes   no   \n",
              "41186   44   technician  married  professional.course       no      no   no   \n",
              "41187   74      retired  married  professional.course       no     yes   no   \n",
              "\n",
              "         contact month day_of_week  ...  campaign  pdays  previous  \\\n",
              "0      telephone   may         mon  ...         1    999         0   \n",
              "1      telephone   may         mon  ...         1    999         0   \n",
              "2      telephone   may         mon  ...         1    999         0   \n",
              "3      telephone   may         mon  ...         1    999         0   \n",
              "4      telephone   may         mon  ...         1    999         0   \n",
              "...          ...   ...         ...  ...       ...    ...       ...   \n",
              "41183   cellular   nov         fri  ...         1    999         0   \n",
              "41184   cellular   nov         fri  ...         1    999         0   \n",
              "41185   cellular   nov         fri  ...         2    999         0   \n",
              "41186   cellular   nov         fri  ...         1    999         0   \n",
              "41187   cellular   nov         fri  ...         3    999         1   \n",
              "\n",
              "          poutcome emp.var.rate  cons.price.idx  cons.conf.idx  euribor3m  \\\n",
              "0      nonexistent          1.1          93.994          -36.4      4.857   \n",
              "1      nonexistent          1.1          93.994          -36.4      4.857   \n",
              "2      nonexistent          1.1          93.994          -36.4      4.857   \n",
              "3      nonexistent          1.1          93.994          -36.4      4.857   \n",
              "4      nonexistent          1.1          93.994          -36.4      4.857   \n",
              "...            ...          ...             ...            ...        ...   \n",
              "41183  nonexistent         -1.1          94.767          -50.8      1.028   \n",
              "41184  nonexistent         -1.1          94.767          -50.8      1.028   \n",
              "41185  nonexistent         -1.1          94.767          -50.8      1.028   \n",
              "41186  nonexistent         -1.1          94.767          -50.8      1.028   \n",
              "41187      failure         -1.1          94.767          -50.8      1.028   \n",
              "\n",
              "       nr.employed    y  \n",
              "0           5191.0   no  \n",
              "1           5191.0   no  \n",
              "2           5191.0   no  \n",
              "3           5191.0   no  \n",
              "4           5191.0   no  \n",
              "...            ...  ...  \n",
              "41183       4963.6  yes  \n",
              "41184       4963.6   no  \n",
              "41185       4963.6   no  \n",
              "41186       4963.6  yes  \n",
              "41187       4963.6   no  \n",
              "\n",
              "[41188 rows x 21 columns]"
            ],
            "text/html": [
              "\n",
              "  <div id=\"df-0563785b-943f-4664-a51f-81d93041a154\">\n",
              "    <div class=\"colab-df-container\">\n",
              "      <div>\n",
              "<style scoped>\n",
              "    .dataframe tbody tr th:only-of-type {\n",
              "        vertical-align: middle;\n",
              "    }\n",
              "\n",
              "    .dataframe tbody tr th {\n",
              "        vertical-align: top;\n",
              "    }\n",
              "\n",
              "    .dataframe thead th {\n",
              "        text-align: right;\n",
              "    }\n",
              "</style>\n",
              "<table border=\"1\" class=\"dataframe\">\n",
              "  <thead>\n",
              "    <tr style=\"text-align: right;\">\n",
              "      <th></th>\n",
              "      <th>age</th>\n",
              "      <th>job</th>\n",
              "      <th>marital</th>\n",
              "      <th>education</th>\n",
              "      <th>default</th>\n",
              "      <th>housing</th>\n",
              "      <th>loan</th>\n",
              "      <th>contact</th>\n",
              "      <th>month</th>\n",
              "      <th>day_of_week</th>\n",
              "      <th>...</th>\n",
              "      <th>campaign</th>\n",
              "      <th>pdays</th>\n",
              "      <th>previous</th>\n",
              "      <th>poutcome</th>\n",
              "      <th>emp.var.rate</th>\n",
              "      <th>cons.price.idx</th>\n",
              "      <th>cons.conf.idx</th>\n",
              "      <th>euribor3m</th>\n",
              "      <th>nr.employed</th>\n",
              "      <th>y</th>\n",
              "    </tr>\n",
              "  </thead>\n",
              "  <tbody>\n",
              "    <tr>\n",
              "      <th>0</th>\n",
              "      <td>56</td>\n",
              "      <td>housemaid</td>\n",
              "      <td>married</td>\n",
              "      <td>basic.4y</td>\n",
              "      <td>no</td>\n",
              "      <td>no</td>\n",
              "      <td>no</td>\n",
              "      <td>telephone</td>\n",
              "      <td>may</td>\n",
              "      <td>mon</td>\n",
              "      <td>...</td>\n",
              "      <td>1</td>\n",
              "      <td>999</td>\n",
              "      <td>0</td>\n",
              "      <td>nonexistent</td>\n",
              "      <td>1.1</td>\n",
              "      <td>93.994</td>\n",
              "      <td>-36.4</td>\n",
              "      <td>4.857</td>\n",
              "      <td>5191.0</td>\n",
              "      <td>no</td>\n",
              "    </tr>\n",
              "    <tr>\n",
              "      <th>1</th>\n",
              "      <td>57</td>\n",
              "      <td>services</td>\n",
              "      <td>married</td>\n",
              "      <td>high.school</td>\n",
              "      <td>unknown</td>\n",
              "      <td>no</td>\n",
              "      <td>no</td>\n",
              "      <td>telephone</td>\n",
              "      <td>may</td>\n",
              "      <td>mon</td>\n",
              "      <td>...</td>\n",
              "      <td>1</td>\n",
              "      <td>999</td>\n",
              "      <td>0</td>\n",
              "      <td>nonexistent</td>\n",
              "      <td>1.1</td>\n",
              "      <td>93.994</td>\n",
              "      <td>-36.4</td>\n",
              "      <td>4.857</td>\n",
              "      <td>5191.0</td>\n",
              "      <td>no</td>\n",
              "    </tr>\n",
              "    <tr>\n",
              "      <th>2</th>\n",
              "      <td>37</td>\n",
              "      <td>services</td>\n",
              "      <td>married</td>\n",
              "      <td>high.school</td>\n",
              "      <td>no</td>\n",
              "      <td>yes</td>\n",
              "      <td>no</td>\n",
              "      <td>telephone</td>\n",
              "      <td>may</td>\n",
              "      <td>mon</td>\n",
              "      <td>...</td>\n",
              "      <td>1</td>\n",
              "      <td>999</td>\n",
              "      <td>0</td>\n",
              "      <td>nonexistent</td>\n",
              "      <td>1.1</td>\n",
              "      <td>93.994</td>\n",
              "      <td>-36.4</td>\n",
              "      <td>4.857</td>\n",
              "      <td>5191.0</td>\n",
              "      <td>no</td>\n",
              "    </tr>\n",
              "    <tr>\n",
              "      <th>3</th>\n",
              "      <td>40</td>\n",
              "      <td>admin.</td>\n",
              "      <td>married</td>\n",
              "      <td>basic.6y</td>\n",
              "      <td>no</td>\n",
              "      <td>no</td>\n",
              "      <td>no</td>\n",
              "      <td>telephone</td>\n",
              "      <td>may</td>\n",
              "      <td>mon</td>\n",
              "      <td>...</td>\n",
              "      <td>1</td>\n",
              "      <td>999</td>\n",
              "      <td>0</td>\n",
              "      <td>nonexistent</td>\n",
              "      <td>1.1</td>\n",
              "      <td>93.994</td>\n",
              "      <td>-36.4</td>\n",
              "      <td>4.857</td>\n",
              "      <td>5191.0</td>\n",
              "      <td>no</td>\n",
              "    </tr>\n",
              "    <tr>\n",
              "      <th>4</th>\n",
              "      <td>56</td>\n",
              "      <td>services</td>\n",
              "      <td>married</td>\n",
              "      <td>high.school</td>\n",
              "      <td>no</td>\n",
              "      <td>no</td>\n",
              "      <td>yes</td>\n",
              "      <td>telephone</td>\n",
              "      <td>may</td>\n",
              "      <td>mon</td>\n",
              "      <td>...</td>\n",
              "      <td>1</td>\n",
              "      <td>999</td>\n",
              "      <td>0</td>\n",
              "      <td>nonexistent</td>\n",
              "      <td>1.1</td>\n",
              "      <td>93.994</td>\n",
              "      <td>-36.4</td>\n",
              "      <td>4.857</td>\n",
              "      <td>5191.0</td>\n",
              "      <td>no</td>\n",
              "    </tr>\n",
              "    <tr>\n",
              "      <th>...</th>\n",
              "      <td>...</td>\n",
              "      <td>...</td>\n",
              "      <td>...</td>\n",
              "      <td>...</td>\n",
              "      <td>...</td>\n",
              "      <td>...</td>\n",
              "      <td>...</td>\n",
              "      <td>...</td>\n",
              "      <td>...</td>\n",
              "      <td>...</td>\n",
              "      <td>...</td>\n",
              "      <td>...</td>\n",
              "      <td>...</td>\n",
              "      <td>...</td>\n",
              "      <td>...</td>\n",
              "      <td>...</td>\n",
              "      <td>...</td>\n",
              "      <td>...</td>\n",
              "      <td>...</td>\n",
              "      <td>...</td>\n",
              "      <td>...</td>\n",
              "    </tr>\n",
              "    <tr>\n",
              "      <th>41183</th>\n",
              "      <td>73</td>\n",
              "      <td>retired</td>\n",
              "      <td>married</td>\n",
              "      <td>professional.course</td>\n",
              "      <td>no</td>\n",
              "      <td>yes</td>\n",
              "      <td>no</td>\n",
              "      <td>cellular</td>\n",
              "      <td>nov</td>\n",
              "      <td>fri</td>\n",
              "      <td>...</td>\n",
              "      <td>1</td>\n",
              "      <td>999</td>\n",
              "      <td>0</td>\n",
              "      <td>nonexistent</td>\n",
              "      <td>-1.1</td>\n",
              "      <td>94.767</td>\n",
              "      <td>-50.8</td>\n",
              "      <td>1.028</td>\n",
              "      <td>4963.6</td>\n",
              "      <td>yes</td>\n",
              "    </tr>\n",
              "    <tr>\n",
              "      <th>41184</th>\n",
              "      <td>46</td>\n",
              "      <td>blue-collar</td>\n",
              "      <td>married</td>\n",
              "      <td>professional.course</td>\n",
              "      <td>no</td>\n",
              "      <td>no</td>\n",
              "      <td>no</td>\n",
              "      <td>cellular</td>\n",
              "      <td>nov</td>\n",
              "      <td>fri</td>\n",
              "      <td>...</td>\n",
              "      <td>1</td>\n",
              "      <td>999</td>\n",
              "      <td>0</td>\n",
              "      <td>nonexistent</td>\n",
              "      <td>-1.1</td>\n",
              "      <td>94.767</td>\n",
              "      <td>-50.8</td>\n",
              "      <td>1.028</td>\n",
              "      <td>4963.6</td>\n",
              "      <td>no</td>\n",
              "    </tr>\n",
              "    <tr>\n",
              "      <th>41185</th>\n",
              "      <td>56</td>\n",
              "      <td>retired</td>\n",
              "      <td>married</td>\n",
              "      <td>university.degree</td>\n",
              "      <td>no</td>\n",
              "      <td>yes</td>\n",
              "      <td>no</td>\n",
              "      <td>cellular</td>\n",
              "      <td>nov</td>\n",
              "      <td>fri</td>\n",
              "      <td>...</td>\n",
              "      <td>2</td>\n",
              "      <td>999</td>\n",
              "      <td>0</td>\n",
              "      <td>nonexistent</td>\n",
              "      <td>-1.1</td>\n",
              "      <td>94.767</td>\n",
              "      <td>-50.8</td>\n",
              "      <td>1.028</td>\n",
              "      <td>4963.6</td>\n",
              "      <td>no</td>\n",
              "    </tr>\n",
              "    <tr>\n",
              "      <th>41186</th>\n",
              "      <td>44</td>\n",
              "      <td>technician</td>\n",
              "      <td>married</td>\n",
              "      <td>professional.course</td>\n",
              "      <td>no</td>\n",
              "      <td>no</td>\n",
              "      <td>no</td>\n",
              "      <td>cellular</td>\n",
              "      <td>nov</td>\n",
              "      <td>fri</td>\n",
              "      <td>...</td>\n",
              "      <td>1</td>\n",
              "      <td>999</td>\n",
              "      <td>0</td>\n",
              "      <td>nonexistent</td>\n",
              "      <td>-1.1</td>\n",
              "      <td>94.767</td>\n",
              "      <td>-50.8</td>\n",
              "      <td>1.028</td>\n",
              "      <td>4963.6</td>\n",
              "      <td>yes</td>\n",
              "    </tr>\n",
              "    <tr>\n",
              "      <th>41187</th>\n",
              "      <td>74</td>\n",
              "      <td>retired</td>\n",
              "      <td>married</td>\n",
              "      <td>professional.course</td>\n",
              "      <td>no</td>\n",
              "      <td>yes</td>\n",
              "      <td>no</td>\n",
              "      <td>cellular</td>\n",
              "      <td>nov</td>\n",
              "      <td>fri</td>\n",
              "      <td>...</td>\n",
              "      <td>3</td>\n",
              "      <td>999</td>\n",
              "      <td>1</td>\n",
              "      <td>failure</td>\n",
              "      <td>-1.1</td>\n",
              "      <td>94.767</td>\n",
              "      <td>-50.8</td>\n",
              "      <td>1.028</td>\n",
              "      <td>4963.6</td>\n",
              "      <td>no</td>\n",
              "    </tr>\n",
              "  </tbody>\n",
              "</table>\n",
              "<p>41188 rows × 21 columns</p>\n",
              "</div>\n",
              "      <button class=\"colab-df-convert\" onclick=\"convertToInteractive('df-0563785b-943f-4664-a51f-81d93041a154')\"\n",
              "              title=\"Convert this dataframe to an interactive table.\"\n",
              "              style=\"display:none;\">\n",
              "        \n",
              "  <svg xmlns=\"http://www.w3.org/2000/svg\" height=\"24px\"viewBox=\"0 0 24 24\"\n",
              "       width=\"24px\">\n",
              "    <path d=\"M0 0h24v24H0V0z\" fill=\"none\"/>\n",
              "    <path d=\"M18.56 5.44l.94 2.06.94-2.06 2.06-.94-2.06-.94-.94-2.06-.94 2.06-2.06.94zm-11 1L8.5 8.5l.94-2.06 2.06-.94-2.06-.94L8.5 2.5l-.94 2.06-2.06.94zm10 10l.94 2.06.94-2.06 2.06-.94-2.06-.94-.94-2.06-.94 2.06-2.06.94z\"/><path d=\"M17.41 7.96l-1.37-1.37c-.4-.4-.92-.59-1.43-.59-.52 0-1.04.2-1.43.59L10.3 9.45l-7.72 7.72c-.78.78-.78 2.05 0 2.83L4 21.41c.39.39.9.59 1.41.59.51 0 1.02-.2 1.41-.59l7.78-7.78 2.81-2.81c.8-.78.8-2.07 0-2.86zM5.41 20L4 18.59l7.72-7.72 1.47 1.35L5.41 20z\"/>\n",
              "  </svg>\n",
              "      </button>\n",
              "      \n",
              "  <style>\n",
              "    .colab-df-container {\n",
              "      display:flex;\n",
              "      flex-wrap:wrap;\n",
              "      gap: 12px;\n",
              "    }\n",
              "\n",
              "    .colab-df-convert {\n",
              "      background-color: #E8F0FE;\n",
              "      border: none;\n",
              "      border-radius: 50%;\n",
              "      cursor: pointer;\n",
              "      display: none;\n",
              "      fill: #1967D2;\n",
              "      height: 32px;\n",
              "      padding: 0 0 0 0;\n",
              "      width: 32px;\n",
              "    }\n",
              "\n",
              "    .colab-df-convert:hover {\n",
              "      background-color: #E2EBFA;\n",
              "      box-shadow: 0px 1px 2px rgba(60, 64, 67, 0.3), 0px 1px 3px 1px rgba(60, 64, 67, 0.15);\n",
              "      fill: #174EA6;\n",
              "    }\n",
              "\n",
              "    [theme=dark] .colab-df-convert {\n",
              "      background-color: #3B4455;\n",
              "      fill: #D2E3FC;\n",
              "    }\n",
              "\n",
              "    [theme=dark] .colab-df-convert:hover {\n",
              "      background-color: #434B5C;\n",
              "      box-shadow: 0px 1px 3px 1px rgba(0, 0, 0, 0.15);\n",
              "      filter: drop-shadow(0px 1px 2px rgba(0, 0, 0, 0.3));\n",
              "      fill: #FFFFFF;\n",
              "    }\n",
              "  </style>\n",
              "\n",
              "      <script>\n",
              "        const buttonEl =\n",
              "          document.querySelector('#df-0563785b-943f-4664-a51f-81d93041a154 button.colab-df-convert');\n",
              "        buttonEl.style.display =\n",
              "          google.colab.kernel.accessAllowed ? 'block' : 'none';\n",
              "\n",
              "        async function convertToInteractive(key) {\n",
              "          const element = document.querySelector('#df-0563785b-943f-4664-a51f-81d93041a154');\n",
              "          const dataTable =\n",
              "            await google.colab.kernel.invokeFunction('convertToInteractive',\n",
              "                                                     [key], {});\n",
              "          if (!dataTable) return;\n",
              "\n",
              "          const docLinkHtml = 'Like what you see? Visit the ' +\n",
              "            '<a target=\"_blank\" href=https://colab.research.google.com/notebooks/data_table.ipynb>data table notebook</a>'\n",
              "            + ' to learn more about interactive tables.';\n",
              "          element.innerHTML = '';\n",
              "          dataTable['output_type'] = 'display_data';\n",
              "          await google.colab.output.renderOutput(dataTable, element);\n",
              "          const docLink = document.createElement('div');\n",
              "          docLink.innerHTML = docLinkHtml;\n",
              "          element.appendChild(docLink);\n",
              "        }\n",
              "      </script>\n",
              "    </div>\n",
              "  </div>\n",
              "  "
            ]
          },
          "metadata": {},
          "execution_count": 149
        }
      ],
      "source": [
        "import pandas as pd\n",
        "from matplotlib import pyplot as plt\n",
        "import numpy as np\n",
        "data = pd.read_csv(\"bank-additional-full.csv\",delimiter=';')\n",
        "data"
      ]
    },
    {
      "cell_type": "code",
      "execution_count": 150,
      "metadata": {
        "colab": {
          "base_uri": "https://localhost:8080/"
        },
        "id": "5w6jlR_DH7wb",
        "outputId": "feb899f1-f193-4edb-9ea6-a07ffb3eef73"
      },
      "outputs": [
        {
          "output_type": "stream",
          "name": "stdout",
          "text": [
            "Num of distinct values in age data is 78\n",
            "Num of distinct values in job data is 12\n",
            "Num of distinct values in marital data is 4\n",
            "Num of distinct values in education data is 8\n",
            "Num of distinct values in default data is 3\n",
            "Num of distinct values in housing data is 3\n",
            "Num of distinct values in loan data is 3\n",
            "Num of distinct values in contact data is 2\n",
            "Num of distinct values in month data is 10\n",
            "Num of distinct values in day_of_week data is 5\n",
            "Num of distinct values in duration data is 1544\n",
            "Num of distinct values in campaign data is 42\n",
            "Num of distinct values in pdays data is 27\n",
            "Num of distinct values in previous data is 8\n",
            "Num of distinct values in poutcome data is 3\n",
            "Num of distinct values in emp.var.rate data is 10\n",
            "Num of distinct values in cons.price.idx data is 26\n",
            "Num of distinct values in cons.conf.idx data is 26\n",
            "Num of distinct values in euribor3m data is 316\n",
            "Num of distinct values in nr.employed data is 11\n",
            "Num of distinct values in y data is 2\n"
          ]
        }
      ],
      "source": [
        "for label in data.columns.values:\n",
        "    print(f\"Num of distinct values in {label} data is {len(data[label].drop_duplicates().to_numpy())}\")"
      ]
    },
    {
      "cell_type": "markdown",
      "metadata": {
        "id": "RBn10cApe9NR"
      },
      "source": [
        "We choose to remove data which contained \"unknown\" values because this data doesn't help us to understand the outcome of the \"y\" variable, and thus is irelevant. \\\n",
        "We transformed Yes and No into True and False \\\n",
        "We transformed weekdays and months into numbers"
      ]
    },
    {
      "cell_type": "code",
      "execution_count": 151,
      "metadata": {
        "colab": {
          "base_uri": "https://localhost:8080/",
          "height": 488
        },
        "id": "nn7rlUv1H7wd",
        "outputId": "3014456d-7cf2-41cf-955c-ee9e57084615"
      },
      "outputs": [
        {
          "output_type": "execute_result",
          "data": {
            "text/plain": [
              "        age          job  marital  education  default  housing   loan  month  \\\n",
              "0      56.0    housemaid     True      False    False    False  False      5   \n",
              "2      37.0     services     True      False    False     True  False      5   \n",
              "3      40.0       admin.     True      False    False    False  False      5   \n",
              "4      56.0     services     True      False    False    False   True      5   \n",
              "6      59.0       admin.     True       True    False    False  False      5   \n",
              "...     ...          ...      ...        ...      ...      ...    ...    ...   \n",
              "41183  73.0      retired     True       True    False     True  False     11   \n",
              "41184  46.0  blue-collar     True       True    False    False  False     11   \n",
              "41185  56.0      retired     True       True    False     True  False     11   \n",
              "41186  44.0   technician     True       True    False    False  False     11   \n",
              "41187  74.0      retired     True       True    False     True  False     11   \n",
              "\n",
              "       day_of_week  duration  campaign  pdays  previous  poutcome  \\\n",
              "0                1     261.0       1.0  999.0       0.0     False   \n",
              "2                1     226.0       1.0  999.0       0.0     False   \n",
              "3                1     151.0       1.0  999.0       0.0     False   \n",
              "4                1     307.0       1.0  999.0       0.0     False   \n",
              "6                1     139.0       1.0  999.0       0.0     False   \n",
              "...            ...       ...       ...    ...       ...       ...   \n",
              "41183            5     334.0       1.0  999.0       0.0     False   \n",
              "41184            5     383.0       1.0  999.0       0.0     False   \n",
              "41185            5     189.0       2.0  999.0       0.0     False   \n",
              "41186            5     442.0       1.0  999.0       0.0     False   \n",
              "41187            5     239.0       3.0  999.0       1.0     False   \n",
              "\n",
              "       emp.var.rate  cons.price.idx  cons.conf.idx  euribor3m  nr.employed  \\\n",
              "0               1.1          93.994          -36.4      4.857       5191.0   \n",
              "2               1.1          93.994          -36.4      4.857       5191.0   \n",
              "3               1.1          93.994          -36.4      4.857       5191.0   \n",
              "4               1.1          93.994          -36.4      4.857       5191.0   \n",
              "6               1.1          93.994          -36.4      4.857       5191.0   \n",
              "...             ...             ...            ...        ...          ...   \n",
              "41183          -1.1          94.767          -50.8      1.028       4963.6   \n",
              "41184          -1.1          94.767          -50.8      1.028       4963.6   \n",
              "41185          -1.1          94.767          -50.8      1.028       4963.6   \n",
              "41186          -1.1          94.767          -50.8      1.028       4963.6   \n",
              "41187          -1.1          94.767          -50.8      1.028       4963.6   \n",
              "\n",
              "           y  \n",
              "0      False  \n",
              "2      False  \n",
              "3      False  \n",
              "4      False  \n",
              "6      False  \n",
              "...      ...  \n",
              "41183   True  \n",
              "41184  False  \n",
              "41185  False  \n",
              "41186   True  \n",
              "41187  False  \n",
              "\n",
              "[30547 rows x 20 columns]"
            ],
            "text/html": [
              "\n",
              "  <div id=\"df-425a1272-d129-4a46-b06b-637a9f7b9a1a\">\n",
              "    <div class=\"colab-df-container\">\n",
              "      <div>\n",
              "<style scoped>\n",
              "    .dataframe tbody tr th:only-of-type {\n",
              "        vertical-align: middle;\n",
              "    }\n",
              "\n",
              "    .dataframe tbody tr th {\n",
              "        vertical-align: top;\n",
              "    }\n",
              "\n",
              "    .dataframe thead th {\n",
              "        text-align: right;\n",
              "    }\n",
              "</style>\n",
              "<table border=\"1\" class=\"dataframe\">\n",
              "  <thead>\n",
              "    <tr style=\"text-align: right;\">\n",
              "      <th></th>\n",
              "      <th>age</th>\n",
              "      <th>job</th>\n",
              "      <th>marital</th>\n",
              "      <th>education</th>\n",
              "      <th>default</th>\n",
              "      <th>housing</th>\n",
              "      <th>loan</th>\n",
              "      <th>month</th>\n",
              "      <th>day_of_week</th>\n",
              "      <th>duration</th>\n",
              "      <th>campaign</th>\n",
              "      <th>pdays</th>\n",
              "      <th>previous</th>\n",
              "      <th>poutcome</th>\n",
              "      <th>emp.var.rate</th>\n",
              "      <th>cons.price.idx</th>\n",
              "      <th>cons.conf.idx</th>\n",
              "      <th>euribor3m</th>\n",
              "      <th>nr.employed</th>\n",
              "      <th>y</th>\n",
              "    </tr>\n",
              "  </thead>\n",
              "  <tbody>\n",
              "    <tr>\n",
              "      <th>0</th>\n",
              "      <td>56.0</td>\n",
              "      <td>housemaid</td>\n",
              "      <td>True</td>\n",
              "      <td>False</td>\n",
              "      <td>False</td>\n",
              "      <td>False</td>\n",
              "      <td>False</td>\n",
              "      <td>5</td>\n",
              "      <td>1</td>\n",
              "      <td>261.0</td>\n",
              "      <td>1.0</td>\n",
              "      <td>999.0</td>\n",
              "      <td>0.0</td>\n",
              "      <td>False</td>\n",
              "      <td>1.1</td>\n",
              "      <td>93.994</td>\n",
              "      <td>-36.4</td>\n",
              "      <td>4.857</td>\n",
              "      <td>5191.0</td>\n",
              "      <td>False</td>\n",
              "    </tr>\n",
              "    <tr>\n",
              "      <th>2</th>\n",
              "      <td>37.0</td>\n",
              "      <td>services</td>\n",
              "      <td>True</td>\n",
              "      <td>False</td>\n",
              "      <td>False</td>\n",
              "      <td>True</td>\n",
              "      <td>False</td>\n",
              "      <td>5</td>\n",
              "      <td>1</td>\n",
              "      <td>226.0</td>\n",
              "      <td>1.0</td>\n",
              "      <td>999.0</td>\n",
              "      <td>0.0</td>\n",
              "      <td>False</td>\n",
              "      <td>1.1</td>\n",
              "      <td>93.994</td>\n",
              "      <td>-36.4</td>\n",
              "      <td>4.857</td>\n",
              "      <td>5191.0</td>\n",
              "      <td>False</td>\n",
              "    </tr>\n",
              "    <tr>\n",
              "      <th>3</th>\n",
              "      <td>40.0</td>\n",
              "      <td>admin.</td>\n",
              "      <td>True</td>\n",
              "      <td>False</td>\n",
              "      <td>False</td>\n",
              "      <td>False</td>\n",
              "      <td>False</td>\n",
              "      <td>5</td>\n",
              "      <td>1</td>\n",
              "      <td>151.0</td>\n",
              "      <td>1.0</td>\n",
              "      <td>999.0</td>\n",
              "      <td>0.0</td>\n",
              "      <td>False</td>\n",
              "      <td>1.1</td>\n",
              "      <td>93.994</td>\n",
              "      <td>-36.4</td>\n",
              "      <td>4.857</td>\n",
              "      <td>5191.0</td>\n",
              "      <td>False</td>\n",
              "    </tr>\n",
              "    <tr>\n",
              "      <th>4</th>\n",
              "      <td>56.0</td>\n",
              "      <td>services</td>\n",
              "      <td>True</td>\n",
              "      <td>False</td>\n",
              "      <td>False</td>\n",
              "      <td>False</td>\n",
              "      <td>True</td>\n",
              "      <td>5</td>\n",
              "      <td>1</td>\n",
              "      <td>307.0</td>\n",
              "      <td>1.0</td>\n",
              "      <td>999.0</td>\n",
              "      <td>0.0</td>\n",
              "      <td>False</td>\n",
              "      <td>1.1</td>\n",
              "      <td>93.994</td>\n",
              "      <td>-36.4</td>\n",
              "      <td>4.857</td>\n",
              "      <td>5191.0</td>\n",
              "      <td>False</td>\n",
              "    </tr>\n",
              "    <tr>\n",
              "      <th>6</th>\n",
              "      <td>59.0</td>\n",
              "      <td>admin.</td>\n",
              "      <td>True</td>\n",
              "      <td>True</td>\n",
              "      <td>False</td>\n",
              "      <td>False</td>\n",
              "      <td>False</td>\n",
              "      <td>5</td>\n",
              "      <td>1</td>\n",
              "      <td>139.0</td>\n",
              "      <td>1.0</td>\n",
              "      <td>999.0</td>\n",
              "      <td>0.0</td>\n",
              "      <td>False</td>\n",
              "      <td>1.1</td>\n",
              "      <td>93.994</td>\n",
              "      <td>-36.4</td>\n",
              "      <td>4.857</td>\n",
              "      <td>5191.0</td>\n",
              "      <td>False</td>\n",
              "    </tr>\n",
              "    <tr>\n",
              "      <th>...</th>\n",
              "      <td>...</td>\n",
              "      <td>...</td>\n",
              "      <td>...</td>\n",
              "      <td>...</td>\n",
              "      <td>...</td>\n",
              "      <td>...</td>\n",
              "      <td>...</td>\n",
              "      <td>...</td>\n",
              "      <td>...</td>\n",
              "      <td>...</td>\n",
              "      <td>...</td>\n",
              "      <td>...</td>\n",
              "      <td>...</td>\n",
              "      <td>...</td>\n",
              "      <td>...</td>\n",
              "      <td>...</td>\n",
              "      <td>...</td>\n",
              "      <td>...</td>\n",
              "      <td>...</td>\n",
              "      <td>...</td>\n",
              "    </tr>\n",
              "    <tr>\n",
              "      <th>41183</th>\n",
              "      <td>73.0</td>\n",
              "      <td>retired</td>\n",
              "      <td>True</td>\n",
              "      <td>True</td>\n",
              "      <td>False</td>\n",
              "      <td>True</td>\n",
              "      <td>False</td>\n",
              "      <td>11</td>\n",
              "      <td>5</td>\n",
              "      <td>334.0</td>\n",
              "      <td>1.0</td>\n",
              "      <td>999.0</td>\n",
              "      <td>0.0</td>\n",
              "      <td>False</td>\n",
              "      <td>-1.1</td>\n",
              "      <td>94.767</td>\n",
              "      <td>-50.8</td>\n",
              "      <td>1.028</td>\n",
              "      <td>4963.6</td>\n",
              "      <td>True</td>\n",
              "    </tr>\n",
              "    <tr>\n",
              "      <th>41184</th>\n",
              "      <td>46.0</td>\n",
              "      <td>blue-collar</td>\n",
              "      <td>True</td>\n",
              "      <td>True</td>\n",
              "      <td>False</td>\n",
              "      <td>False</td>\n",
              "      <td>False</td>\n",
              "      <td>11</td>\n",
              "      <td>5</td>\n",
              "      <td>383.0</td>\n",
              "      <td>1.0</td>\n",
              "      <td>999.0</td>\n",
              "      <td>0.0</td>\n",
              "      <td>False</td>\n",
              "      <td>-1.1</td>\n",
              "      <td>94.767</td>\n",
              "      <td>-50.8</td>\n",
              "      <td>1.028</td>\n",
              "      <td>4963.6</td>\n",
              "      <td>False</td>\n",
              "    </tr>\n",
              "    <tr>\n",
              "      <th>41185</th>\n",
              "      <td>56.0</td>\n",
              "      <td>retired</td>\n",
              "      <td>True</td>\n",
              "      <td>True</td>\n",
              "      <td>False</td>\n",
              "      <td>True</td>\n",
              "      <td>False</td>\n",
              "      <td>11</td>\n",
              "      <td>5</td>\n",
              "      <td>189.0</td>\n",
              "      <td>2.0</td>\n",
              "      <td>999.0</td>\n",
              "      <td>0.0</td>\n",
              "      <td>False</td>\n",
              "      <td>-1.1</td>\n",
              "      <td>94.767</td>\n",
              "      <td>-50.8</td>\n",
              "      <td>1.028</td>\n",
              "      <td>4963.6</td>\n",
              "      <td>False</td>\n",
              "    </tr>\n",
              "    <tr>\n",
              "      <th>41186</th>\n",
              "      <td>44.0</td>\n",
              "      <td>technician</td>\n",
              "      <td>True</td>\n",
              "      <td>True</td>\n",
              "      <td>False</td>\n",
              "      <td>False</td>\n",
              "      <td>False</td>\n",
              "      <td>11</td>\n",
              "      <td>5</td>\n",
              "      <td>442.0</td>\n",
              "      <td>1.0</td>\n",
              "      <td>999.0</td>\n",
              "      <td>0.0</td>\n",
              "      <td>False</td>\n",
              "      <td>-1.1</td>\n",
              "      <td>94.767</td>\n",
              "      <td>-50.8</td>\n",
              "      <td>1.028</td>\n",
              "      <td>4963.6</td>\n",
              "      <td>True</td>\n",
              "    </tr>\n",
              "    <tr>\n",
              "      <th>41187</th>\n",
              "      <td>74.0</td>\n",
              "      <td>retired</td>\n",
              "      <td>True</td>\n",
              "      <td>True</td>\n",
              "      <td>False</td>\n",
              "      <td>True</td>\n",
              "      <td>False</td>\n",
              "      <td>11</td>\n",
              "      <td>5</td>\n",
              "      <td>239.0</td>\n",
              "      <td>3.0</td>\n",
              "      <td>999.0</td>\n",
              "      <td>1.0</td>\n",
              "      <td>False</td>\n",
              "      <td>-1.1</td>\n",
              "      <td>94.767</td>\n",
              "      <td>-50.8</td>\n",
              "      <td>1.028</td>\n",
              "      <td>4963.6</td>\n",
              "      <td>False</td>\n",
              "    </tr>\n",
              "  </tbody>\n",
              "</table>\n",
              "<p>30547 rows × 20 columns</p>\n",
              "</div>\n",
              "      <button class=\"colab-df-convert\" onclick=\"convertToInteractive('df-425a1272-d129-4a46-b06b-637a9f7b9a1a')\"\n",
              "              title=\"Convert this dataframe to an interactive table.\"\n",
              "              style=\"display:none;\">\n",
              "        \n",
              "  <svg xmlns=\"http://www.w3.org/2000/svg\" height=\"24px\"viewBox=\"0 0 24 24\"\n",
              "       width=\"24px\">\n",
              "    <path d=\"M0 0h24v24H0V0z\" fill=\"none\"/>\n",
              "    <path d=\"M18.56 5.44l.94 2.06.94-2.06 2.06-.94-2.06-.94-.94-2.06-.94 2.06-2.06.94zm-11 1L8.5 8.5l.94-2.06 2.06-.94-2.06-.94L8.5 2.5l-.94 2.06-2.06.94zm10 10l.94 2.06.94-2.06 2.06-.94-2.06-.94-.94-2.06-.94 2.06-2.06.94z\"/><path d=\"M17.41 7.96l-1.37-1.37c-.4-.4-.92-.59-1.43-.59-.52 0-1.04.2-1.43.59L10.3 9.45l-7.72 7.72c-.78.78-.78 2.05 0 2.83L4 21.41c.39.39.9.59 1.41.59.51 0 1.02-.2 1.41-.59l7.78-7.78 2.81-2.81c.8-.78.8-2.07 0-2.86zM5.41 20L4 18.59l7.72-7.72 1.47 1.35L5.41 20z\"/>\n",
              "  </svg>\n",
              "      </button>\n",
              "      \n",
              "  <style>\n",
              "    .colab-df-container {\n",
              "      display:flex;\n",
              "      flex-wrap:wrap;\n",
              "      gap: 12px;\n",
              "    }\n",
              "\n",
              "    .colab-df-convert {\n",
              "      background-color: #E8F0FE;\n",
              "      border: none;\n",
              "      border-radius: 50%;\n",
              "      cursor: pointer;\n",
              "      display: none;\n",
              "      fill: #1967D2;\n",
              "      height: 32px;\n",
              "      padding: 0 0 0 0;\n",
              "      width: 32px;\n",
              "    }\n",
              "\n",
              "    .colab-df-convert:hover {\n",
              "      background-color: #E2EBFA;\n",
              "      box-shadow: 0px 1px 2px rgba(60, 64, 67, 0.3), 0px 1px 3px 1px rgba(60, 64, 67, 0.15);\n",
              "      fill: #174EA6;\n",
              "    }\n",
              "\n",
              "    [theme=dark] .colab-df-convert {\n",
              "      background-color: #3B4455;\n",
              "      fill: #D2E3FC;\n",
              "    }\n",
              "\n",
              "    [theme=dark] .colab-df-convert:hover {\n",
              "      background-color: #434B5C;\n",
              "      box-shadow: 0px 1px 3px 1px rgba(0, 0, 0, 0.15);\n",
              "      filter: drop-shadow(0px 1px 2px rgba(0, 0, 0, 0.3));\n",
              "      fill: #FFFFFF;\n",
              "    }\n",
              "  </style>\n",
              "\n",
              "      <script>\n",
              "        const buttonEl =\n",
              "          document.querySelector('#df-425a1272-d129-4a46-b06b-637a9f7b9a1a button.colab-df-convert');\n",
              "        buttonEl.style.display =\n",
              "          google.colab.kernel.accessAllowed ? 'block' : 'none';\n",
              "\n",
              "        async function convertToInteractive(key) {\n",
              "          const element = document.querySelector('#df-425a1272-d129-4a46-b06b-637a9f7b9a1a');\n",
              "          const dataTable =\n",
              "            await google.colab.kernel.invokeFunction('convertToInteractive',\n",
              "                                                     [key], {});\n",
              "          if (!dataTable) return;\n",
              "\n",
              "          const docLinkHtml = 'Like what you see? Visit the ' +\n",
              "            '<a target=\"_blank\" href=https://colab.research.google.com/notebooks/data_table.ipynb>data table notebook</a>'\n",
              "            + ' to learn more about interactive tables.';\n",
              "          element.innerHTML = '';\n",
              "          dataTable['output_type'] = 'display_data';\n",
              "          await google.colab.output.renderOutput(dataTable, element);\n",
              "          const docLink = document.createElement('div');\n",
              "          docLink.innerHTML = docLinkHtml;\n",
              "          element.appendChild(docLink);\n",
              "        }\n",
              "      </script>\n",
              "    </div>\n",
              "  </div>\n",
              "  "
            ]
          },
          "metadata": {},
          "execution_count": 151
        }
      ],
      "source": [
        "#removing unknowns\n",
        "#we decided to remove unknows is better than dealing with them\n",
        "\n",
        "filter1 = data['housing'] != 'unknown'\n",
        "filter2= data['loan'] != 'unknown'\n",
        "filter3 = data['education'] != 'unknown'\n",
        "filter4 = data['job'] != 'unknown'\n",
        "filter5 = data['default'] != 'unknown'\n",
        "\n",
        "temp = data.where(filter1&filter2&filter3&filter4&filter5)\n",
        "dow = {'mon':1,'tue':2,'wed':3,'thu':4,'fri':5}\n",
        "mon = {\"may\":5,\"jun\":6,\"jul\":7,\"aug\":8,\"oct\":10,\"nov\":11,\"dec\":12,\"mar\":3,\"apr\":4,\"sep\":9}\n",
        "temp = temp.dropna()\n",
        "temp['education'] = temp.apply(lambda x: x['education'] in ['professional.course','university.degree'],axis=1)\n",
        "temp['marital'] = temp.apply(lambda x:x['marital'] =='married',axis=1)\n",
        "temp['poutcome'] = temp.apply(lambda x:x['poutcome'] =='success',axis=1)\n",
        "temp['day_of_week'] = temp.apply(lambda x:dow[x['day_of_week']] ,axis=1)\n",
        "temp['month'] = temp.apply(lambda x:mon[x['month']] ,axis=1)\n",
        "temp['default'] = temp.apply(lambda x:x['default']==\"yes\" ,axis=1)\n",
        "temp['housing'] = temp.apply(lambda x:x['housing']==\"yes\" ,axis=1)\n",
        "temp['loan'] = temp.apply(lambda x:x['loan']==\"yes\" ,axis=1)\n",
        "temp['y'] = temp.apply(lambda x:x['y']==\"yes\" ,axis=1)\n",
        "\n",
        "#dropping unwanted columns\n",
        "temp = temp.drop('contact', inplace=False, axis=1)\n",
        "\"\"\"\n",
        "temp = temp.drop('duration', inplace=False, axis=1)\n",
        "temp = temp.drop('emp.var.rate', inplace=False, axis=1)\n",
        "temp = temp.drop('cons.price.idx', inplace=False, axis=1)\n",
        "temp = temp.drop('cons.conf.idx', inplace=False, axis=1)\n",
        "temp = temp.drop('euribor3m', inplace=False, axis=1)\n",
        "temp = temp.drop('nr.employed', inplace=False, axis=1)\n",
        "\"\"\"\n",
        "data = temp\n",
        "data"
      ]
    },
    {
      "cell_type": "markdown",
      "metadata": {
        "id": "Aq9sOMdRaGJ-"
      },
      "source": [
        "**Explications about our data columns:**\n",
        "\n",
        "\n",
        "*   Age (Numeric Variable): Inform us on the age of the client\n",
        "*   Job (Categorical Variable): Inform us on the profession of the client \n",
        "*   Marital (Binary Variable): True if the client is married, False in other cases (single, divorced)\n",
        "*   Default : True if the client has money in Default (a failure to pay financial debts)\n",
        "*   Education (Binary Variable): True if the client has a professional education (professional course or university degree), False otherwise\n",
        "*   Housing (Binary Variable): Yes if the client has a housing loan, no otherwise\n",
        "*   Loan (Binary Variable): Yes if the client has a personal loan, no otherwise\n",
        "*   Day_of_week : number 1-5 indecating day, monday = 1\n",
        "*   Duration(Numeric Variable): last contact duration, in seconds. We note that this attribute highly affects the output target (if duration=0 then y='no')\n",
        "*   Month (Categorical Variable): last contact month of year of the current campaign\n",
        "*   Campaign (Numeric Variable): Number of contacts performed during this campaign and for this client \n",
        "*   Pdays (Numeric Variable): Number of days that passed by after the client was last contacted from a previous campaign\n",
        "*   Previous (Numeric Variable): Number of contacts performed before this campaign and for this client\n",
        "*   Poutcome (Binary Variable): Outcome of the previous marketing campaign (True if the client submitted, False otherwise)\n",
        "*   Emp.var.rate (Numeric Variable): Employment rate (measure of the extent that people available to work are being used)\n",
        "*   Cons.price.idx (Numeric Variable): Consumer price index (measures the change in the average price level of goods and services consumed by households)\n",
        "*   Cons.conf.idx (Numeric Variable): Consumer confidence index (provides an indication of future developments of households' consumption and saving, based upon answers regarding their expected financial situation, their sentiment about the general economic situation, unemployment and capability of savings)\n",
        "*   Euribor3m (Numeric Variable): the interest rate at which a selection of European banks lend one another funds denominated in euros whereby the loans have a maturity of 3 months\n",
        "*   Nr.employed (Numeric Variable): Number of employees \n",
        "*   y (Binary Variable): Yes if the client will subscribe a term deposit or no otherwise\n",
        "\n",
        "\n",
        "This data contains 30547 rows divised in 20 columns.\n",
        "\n",
        "\n"
      ]
    },
    {
      "cell_type": "code",
      "execution_count": 152,
      "metadata": {
        "colab": {
          "base_uri": "https://localhost:8080/"
        },
        "id": "48y1Zjd0sVWo",
        "outputId": "3e57dbfd-205b-49dc-ae79-db63cb70d23e"
      },
      "outputs": [
        {
          "output_type": "execute_result",
          "data": {
            "text/plain": [
              "age               float64\n",
              "job                object\n",
              "marital              bool\n",
              "education            bool\n",
              "default              bool\n",
              "housing              bool\n",
              "loan                 bool\n",
              "month               int64\n",
              "day_of_week         int64\n",
              "duration          float64\n",
              "campaign          float64\n",
              "pdays             float64\n",
              "previous          float64\n",
              "poutcome             bool\n",
              "emp.var.rate      float64\n",
              "cons.price.idx    float64\n",
              "cons.conf.idx     float64\n",
              "euribor3m         float64\n",
              "nr.employed       float64\n",
              "y                    bool\n",
              "dtype: object"
            ]
          },
          "metadata": {},
          "execution_count": 152
        }
      ],
      "source": [
        "data.dtypes"
      ]
    },
    {
      "cell_type": "code",
      "source": [
        "data_stats = data.drop(['marital','job', 'education', 'default', 'housing', 'loan','poutcome', 'y'], axis=1)\n",
        "stats = {\"max\": data_stats.max(),\n",
        "         \"min\": data_stats.min(),\n",
        "         \"mean\": data_stats.mean(),\n",
        "         \"median\": data_stats.median()}\n",
        "stats = pd.concat(stats, axis = 1)\n",
        "stats"
      ],
      "metadata": {
        "colab": {
          "base_uri": "https://localhost:8080/",
          "height": 426
        },
        "id": "3cOD1oPbttlo",
        "outputId": "6717e8f7-a540-409c-e166-8613b1456337"
      },
      "execution_count": 153,
      "outputs": [
        {
          "output_type": "execute_result",
          "data": {
            "text/plain": [
              "                     max       min         mean    median\n",
              "age               95.000    17.000    39.030281    37.000\n",
              "month             12.000     3.000     6.704685     6.000\n",
              "day_of_week        5.000     1.000     2.978656     3.000\n",
              "duration        4918.000     0.000   259.594199   181.000\n",
              "campaign          43.000     1.000     2.521884     2.000\n",
              "pdays            999.000     0.000   956.252594   999.000\n",
              "previous           7.000     0.000     0.194618     0.000\n",
              "emp.var.rate       1.400    -3.400    -0.072626     1.100\n",
              "cons.price.idx    94.767    92.201    93.522843    93.444\n",
              "cons.conf.idx    -26.900   -50.800   -40.602989   -41.800\n",
              "euribor3m          5.045     0.634     3.458788     4.856\n",
              "nr.employed     5228.100  4963.600  5160.776358  5191.000"
            ],
            "text/html": [
              "\n",
              "  <div id=\"df-933ab3ca-dbb5-4830-8354-2f35dd43d4ee\">\n",
              "    <div class=\"colab-df-container\">\n",
              "      <div>\n",
              "<style scoped>\n",
              "    .dataframe tbody tr th:only-of-type {\n",
              "        vertical-align: middle;\n",
              "    }\n",
              "\n",
              "    .dataframe tbody tr th {\n",
              "        vertical-align: top;\n",
              "    }\n",
              "\n",
              "    .dataframe thead th {\n",
              "        text-align: right;\n",
              "    }\n",
              "</style>\n",
              "<table border=\"1\" class=\"dataframe\">\n",
              "  <thead>\n",
              "    <tr style=\"text-align: right;\">\n",
              "      <th></th>\n",
              "      <th>max</th>\n",
              "      <th>min</th>\n",
              "      <th>mean</th>\n",
              "      <th>median</th>\n",
              "    </tr>\n",
              "  </thead>\n",
              "  <tbody>\n",
              "    <tr>\n",
              "      <th>age</th>\n",
              "      <td>95.000</td>\n",
              "      <td>17.000</td>\n",
              "      <td>39.030281</td>\n",
              "      <td>37.000</td>\n",
              "    </tr>\n",
              "    <tr>\n",
              "      <th>month</th>\n",
              "      <td>12.000</td>\n",
              "      <td>3.000</td>\n",
              "      <td>6.704685</td>\n",
              "      <td>6.000</td>\n",
              "    </tr>\n",
              "    <tr>\n",
              "      <th>day_of_week</th>\n",
              "      <td>5.000</td>\n",
              "      <td>1.000</td>\n",
              "      <td>2.978656</td>\n",
              "      <td>3.000</td>\n",
              "    </tr>\n",
              "    <tr>\n",
              "      <th>duration</th>\n",
              "      <td>4918.000</td>\n",
              "      <td>0.000</td>\n",
              "      <td>259.594199</td>\n",
              "      <td>181.000</td>\n",
              "    </tr>\n",
              "    <tr>\n",
              "      <th>campaign</th>\n",
              "      <td>43.000</td>\n",
              "      <td>1.000</td>\n",
              "      <td>2.521884</td>\n",
              "      <td>2.000</td>\n",
              "    </tr>\n",
              "    <tr>\n",
              "      <th>pdays</th>\n",
              "      <td>999.000</td>\n",
              "      <td>0.000</td>\n",
              "      <td>956.252594</td>\n",
              "      <td>999.000</td>\n",
              "    </tr>\n",
              "    <tr>\n",
              "      <th>previous</th>\n",
              "      <td>7.000</td>\n",
              "      <td>0.000</td>\n",
              "      <td>0.194618</td>\n",
              "      <td>0.000</td>\n",
              "    </tr>\n",
              "    <tr>\n",
              "      <th>emp.var.rate</th>\n",
              "      <td>1.400</td>\n",
              "      <td>-3.400</td>\n",
              "      <td>-0.072626</td>\n",
              "      <td>1.100</td>\n",
              "    </tr>\n",
              "    <tr>\n",
              "      <th>cons.price.idx</th>\n",
              "      <td>94.767</td>\n",
              "      <td>92.201</td>\n",
              "      <td>93.522843</td>\n",
              "      <td>93.444</td>\n",
              "    </tr>\n",
              "    <tr>\n",
              "      <th>cons.conf.idx</th>\n",
              "      <td>-26.900</td>\n",
              "      <td>-50.800</td>\n",
              "      <td>-40.602989</td>\n",
              "      <td>-41.800</td>\n",
              "    </tr>\n",
              "    <tr>\n",
              "      <th>euribor3m</th>\n",
              "      <td>5.045</td>\n",
              "      <td>0.634</td>\n",
              "      <td>3.458788</td>\n",
              "      <td>4.856</td>\n",
              "    </tr>\n",
              "    <tr>\n",
              "      <th>nr.employed</th>\n",
              "      <td>5228.100</td>\n",
              "      <td>4963.600</td>\n",
              "      <td>5160.776358</td>\n",
              "      <td>5191.000</td>\n",
              "    </tr>\n",
              "  </tbody>\n",
              "</table>\n",
              "</div>\n",
              "      <button class=\"colab-df-convert\" onclick=\"convertToInteractive('df-933ab3ca-dbb5-4830-8354-2f35dd43d4ee')\"\n",
              "              title=\"Convert this dataframe to an interactive table.\"\n",
              "              style=\"display:none;\">\n",
              "        \n",
              "  <svg xmlns=\"http://www.w3.org/2000/svg\" height=\"24px\"viewBox=\"0 0 24 24\"\n",
              "       width=\"24px\">\n",
              "    <path d=\"M0 0h24v24H0V0z\" fill=\"none\"/>\n",
              "    <path d=\"M18.56 5.44l.94 2.06.94-2.06 2.06-.94-2.06-.94-.94-2.06-.94 2.06-2.06.94zm-11 1L8.5 8.5l.94-2.06 2.06-.94-2.06-.94L8.5 2.5l-.94 2.06-2.06.94zm10 10l.94 2.06.94-2.06 2.06-.94-2.06-.94-.94-2.06-.94 2.06-2.06.94z\"/><path d=\"M17.41 7.96l-1.37-1.37c-.4-.4-.92-.59-1.43-.59-.52 0-1.04.2-1.43.59L10.3 9.45l-7.72 7.72c-.78.78-.78 2.05 0 2.83L4 21.41c.39.39.9.59 1.41.59.51 0 1.02-.2 1.41-.59l7.78-7.78 2.81-2.81c.8-.78.8-2.07 0-2.86zM5.41 20L4 18.59l7.72-7.72 1.47 1.35L5.41 20z\"/>\n",
              "  </svg>\n",
              "      </button>\n",
              "      \n",
              "  <style>\n",
              "    .colab-df-container {\n",
              "      display:flex;\n",
              "      flex-wrap:wrap;\n",
              "      gap: 12px;\n",
              "    }\n",
              "\n",
              "    .colab-df-convert {\n",
              "      background-color: #E8F0FE;\n",
              "      border: none;\n",
              "      border-radius: 50%;\n",
              "      cursor: pointer;\n",
              "      display: none;\n",
              "      fill: #1967D2;\n",
              "      height: 32px;\n",
              "      padding: 0 0 0 0;\n",
              "      width: 32px;\n",
              "    }\n",
              "\n",
              "    .colab-df-convert:hover {\n",
              "      background-color: #E2EBFA;\n",
              "      box-shadow: 0px 1px 2px rgba(60, 64, 67, 0.3), 0px 1px 3px 1px rgba(60, 64, 67, 0.15);\n",
              "      fill: #174EA6;\n",
              "    }\n",
              "\n",
              "    [theme=dark] .colab-df-convert {\n",
              "      background-color: #3B4455;\n",
              "      fill: #D2E3FC;\n",
              "    }\n",
              "\n",
              "    [theme=dark] .colab-df-convert:hover {\n",
              "      background-color: #434B5C;\n",
              "      box-shadow: 0px 1px 3px 1px rgba(0, 0, 0, 0.15);\n",
              "      filter: drop-shadow(0px 1px 2px rgba(0, 0, 0, 0.3));\n",
              "      fill: #FFFFFF;\n",
              "    }\n",
              "  </style>\n",
              "\n",
              "      <script>\n",
              "        const buttonEl =\n",
              "          document.querySelector('#df-933ab3ca-dbb5-4830-8354-2f35dd43d4ee button.colab-df-convert');\n",
              "        buttonEl.style.display =\n",
              "          google.colab.kernel.accessAllowed ? 'block' : 'none';\n",
              "\n",
              "        async function convertToInteractive(key) {\n",
              "          const element = document.querySelector('#df-933ab3ca-dbb5-4830-8354-2f35dd43d4ee');\n",
              "          const dataTable =\n",
              "            await google.colab.kernel.invokeFunction('convertToInteractive',\n",
              "                                                     [key], {});\n",
              "          if (!dataTable) return;\n",
              "\n",
              "          const docLinkHtml = 'Like what you see? Visit the ' +\n",
              "            '<a target=\"_blank\" href=https://colab.research.google.com/notebooks/data_table.ipynb>data table notebook</a>'\n",
              "            + ' to learn more about interactive tables.';\n",
              "          element.innerHTML = '';\n",
              "          dataTable['output_type'] = 'display_data';\n",
              "          await google.colab.output.renderOutput(dataTable, element);\n",
              "          const docLink = document.createElement('div');\n",
              "          docLink.innerHTML = docLinkHtml;\n",
              "          element.appendChild(docLink);\n",
              "        }\n",
              "      </script>\n",
              "    </div>\n",
              "  </div>\n",
              "  "
            ]
          },
          "metadata": {},
          "execution_count": 153
        }
      ]
    },
    {
      "cell_type": "code",
      "source": [
        "def build_boxplot(data,ver = True):\n",
        "    plt.boxplot(data,vert=ver)\n",
        "def desc(data):\n",
        "    print(data.describe())"
      ],
      "metadata": {
        "id": "QbJrR62El5H4"
      },
      "execution_count": 154,
      "outputs": []
    },
    {
      "cell_type": "markdown",
      "source": [
        "# Graphic analysis of our attributes"
      ],
      "metadata": {
        "id": "Mj6F6dh8ogoi"
      }
    },
    {
      "cell_type": "code",
      "source": [
        "#age\n",
        "#first numerical data\n",
        "\n",
        "fig, ax = plt.subplots()\n",
        "ax.hist(data['age'], bins=5, linewidth=0.5, edgecolor=\"white\")\n",
        "ax.set(ylabel=\"Quantity\", xlabel= \"Age in years\", title=\"Age Histogram & BoxPlot\")\n",
        "plt.show()\n",
        "build_boxplot(data['age'],ver = False)\n",
        "plt.show()"
      ],
      "metadata": {
        "colab": {
          "base_uri": "https://localhost:8080/",
          "height": 543
        },
        "id": "wDXblsmR6sAu",
        "outputId": "44d3c1de-829a-473e-d350-fa3063af8076"
      },
      "execution_count": 155,
      "outputs": [
        {
          "output_type": "display_data",
          "data": {
            "text/plain": [
              "<Figure size 432x288 with 1 Axes>"
            ],
            "image/png": "[encoded data removed]"
          },
          "metadata": {
            "needs_background": "light"
          }
        },
        {
          "output_type": "display_data",
          "data": {
            "text/plain": [
              "<Figure size 432x288 with 1 Axes>"
            ],
            "image/png": "[encoded data removed]"
          },
          "metadata": {
            "needs_background": "light"
          }
        }
      ]
    },
    {
      "cell_type": "code",
      "execution_count": 156,
      "metadata": {
        "colab": {
          "base_uri": "https://localhost:8080/"
        },
        "id": "CyrFL0ecwXEG",
        "outputId": "e81be28a-f9c0-4d92-abbe-263d4c62549f"
      },
      "outputs": [
        {
          "output_type": "stream",
          "name": "stdout",
          "text": [
            "count    30547.000000\n",
            "mean        39.030281\n",
            "std         10.334463\n",
            "min         17.000000\n",
            "25%         31.000000\n",
            "50%         37.000000\n",
            "75%         45.000000\n",
            "max         95.000000\n",
            "Name: age, dtype: float64\n"
          ]
        }
      ],
      "source": [
        "desc(data['age'])"
      ]
    },
    {
      "cell_type": "code",
      "execution_count": 157,
      "metadata": {
        "colab": {
          "base_uri": "https://localhost:8080/",
          "height": 295
        },
        "id": "KducDsZZsVWp",
        "outputId": "d101719e-17f5-46da-e6cd-4d2c6aef5b9e"
      },
      "outputs": [
        {
          "output_type": "display_data",
          "data": {
            "text/plain": [
              "<Figure size 432x288 with 1 Axes>"
            ],
            "image/png": "[encoded data removed]"
          },
          "metadata": {
            "needs_background": "light"
          }
        }
      ],
      "source": [
        "#Job\n",
        "\n",
        "fig, ax = plt.subplots()\n",
        "ax.hist(data['job'], bins=10, linewidth=1, edgecolor=\"white\")\n",
        "ax.set(ylabel=\"Quantity\", xlabel= \"Type of Job\", title=\"Jobs Histogram\")\n",
        "plt.show()"
      ]
    },
    {
      "cell_type": "code",
      "execution_count": 158,
      "metadata": {
        "colab": {
          "base_uri": "https://localhost:8080/",
          "height": 295
        },
        "id": "caWF5CAasVWp",
        "outputId": "99261922-79b8-4017-9abc-e536c4a61d17"
      },
      "outputs": [
        {
          "output_type": "display_data",
          "data": {
            "text/plain": [
              "<Figure size 432x288 with 1 Axes>"
            ],
            "image/png": "[encoded data removed]"
          },
          "metadata": {
            "needs_background": "light"
          }
        }
      ],
      "source": [
        "#marital\n",
        "\n",
        "d = data['marital'].replace((True,False),(0,1))\n",
        "fig, ax = plt.subplots()\n",
        "ax.hist(d, bins=15, linewidth=1, edgecolor=\"white\")\n",
        "ax.set(ylabel=\"Quantity\", xlabel= \"Marital Status\", title=\"Marital Status Histogram\")\n",
        "plt.show()"
      ]
    },
    {
      "cell_type": "code",
      "execution_count": 159,
      "metadata": {
        "colab": {
          "base_uri": "https://localhost:8080/",
          "height": 295
        },
        "id": "lAVhL88TsVWp",
        "outputId": "63c22f9e-4d65-4b41-ebb6-0bc2aee4f1ea"
      },
      "outputs": [
        {
          "output_type": "display_data",
          "data": {
            "text/plain": [
              "<Figure size 432x288 with 1 Axes>"
            ],
            "image/png": "[encoded data removed]"
          },
          "metadata": {
            "needs_background": "light"
          }
        }
      ],
      "source": [
        "#education\n",
        "\n",
        "d = data['education'].replace((True,False),(0,1))\n",
        "fig, ax = plt.subplots()\n",
        "ax.hist(d, bins=15, linewidth=1, edgecolor=\"white\")\n",
        "ax.set(ylabel=\"Quantity\", xlabel= \"Education Status\", title=\"Education Status Histogram\")\n",
        "plt.show()\n"
      ]
    },
    {
      "cell_type": "code",
      "execution_count": 160,
      "metadata": {
        "colab": {
          "base_uri": "https://localhost:8080/"
        },
        "id": "mG3FUGUesVWp",
        "outputId": "d2865369-732e-4eb4-b927-a63ca99e7bc5"
      },
      "outputs": [
        {
          "output_type": "execute_result",
          "data": {
            "text/plain": [
              "False    30544\n",
              "True         3\n",
              "Name: default, dtype: int64"
            ]
          },
          "metadata": {},
          "execution_count": 160
        }
      ],
      "source": [
        "#default\n",
        "\n",
        "data['default'].value_counts()"
      ]
    },
    {
      "cell_type": "code",
      "execution_count": 161,
      "metadata": {
        "colab": {
          "base_uri": "https://localhost:8080/",
          "height": 295
        },
        "id": "IF7uxYrUsVWq",
        "outputId": "6ac09a3c-0652-4f22-d09d-cd0ecd7b0fac"
      },
      "outputs": [
        {
          "output_type": "display_data",
          "data": {
            "text/plain": [
              "<Figure size 432x288 with 1 Axes>"
            ],
            "image/png": "[encoded data removed]"
          },
          "metadata": {
            "needs_background": "light"
          }
        }
      ],
      "source": [
        "#housing\n",
        "\n",
        "d = data['housing'].replace((True,False),(0,1))\n",
        "fig, ax = plt.subplots()\n",
        "ax.hist(d, bins=15, linewidth=1, edgecolor=\"white\")\n",
        "ax.set(ylabel=\"Quantity\", xlabel= \"Housing loan Status\", title=\"Housing loan Histogram\")\n",
        "plt.show()\n"
      ]
    },
    {
      "cell_type": "code",
      "execution_count": 162,
      "metadata": {
        "colab": {
          "base_uri": "https://localhost:8080/",
          "height": 295
        },
        "id": "TXRzyXpEsVWq",
        "outputId": "b0342752-b522-41e3-be26-867cc56ebe69"
      },
      "outputs": [
        {
          "output_type": "display_data",
          "data": {
            "text/plain": [
              "<Figure size 432x288 with 1 Axes>"
            ],
            "image/png": "[encoded data removed]"
          },
          "metadata": {
            "needs_background": "light"
          }
        }
      ],
      "source": [
        "#loan\n",
        "\n",
        "d = data['loan'].replace((True,False),(0,1))\n",
        "fig, ax = plt.subplots()\n",
        "ax.hist(d, bins=15, linewidth=1, edgecolor=\"white\")\n",
        "ax.set(ylabel=\"Quantity\", xlabel= \"Personal loan Status\", title=\"Personal loan Histogram\")\n",
        "plt.show()\n"
      ]
    },
    {
      "cell_type": "code",
      "source": [
        "#months\n",
        "fig, ax = plt.subplots()\n",
        "ax.hist(data['month'], bins=10, linewidth=0.5, edgecolor=\"white\")\n",
        "ax.set(ylabel=\"Quantity\", xlabel= \"Months\", title=\"Months Apparition Histogram & BoxPlot\")\n",
        "plt.show()\n",
        "build_boxplot(data['month'],ver = False)\n",
        "plt.show()"
      ],
      "metadata": {
        "colab": {
          "base_uri": "https://localhost:8080/",
          "height": 543
        },
        "id": "66JYJoGImPvP",
        "outputId": "b1de19c1-a912-497d-b193-1edfa0f47d4f"
      },
      "execution_count": 163,
      "outputs": [
        {
          "output_type": "display_data",
          "data": {
            "text/plain": [
              "<Figure size 432x288 with 1 Axes>"
            ],
            "image/png": "[encoded data removed]"
          },
          "metadata": {
            "needs_background": "light"
          }
        },
        {
          "output_type": "display_data",
          "data": {
            "text/plain": [
              "<Figure size 432x288 with 1 Axes>"
            ],
            "image/png": "[encoded data removed]"
          },
          "metadata": {
            "needs_background": "light"
          }
        }
      ]
    },
    {
      "cell_type": "code",
      "execution_count": 164,
      "metadata": {
        "colab": {
          "base_uri": "https://localhost:8080/",
          "height": 295
        },
        "id": "a6KOyKHFsVWq",
        "outputId": "e6e85fec-89f9-4160-b792-97cf1272a4d4"
      },
      "outputs": [
        {
          "output_type": "display_data",
          "data": {
            "text/plain": [
              "<Figure size 432x288 with 1 Axes>"
            ],
            "image/png": "[encoded data removed]"
          },
          "metadata": {
            "needs_background": "light"
          }
        }
      ],
      "source": [
        "#day_of_week\n",
        "fig, ax = plt.subplots()\n",
        "ax.hist(data['day_of_week'], bins=10, linewidth=0.5, edgecolor=\"white\")\n",
        "ax.set(ylabel=\"Quantity\", xlabel= \"Day\", title=\"Last contact day apparition Histogram & BoxPlot\")\n",
        "plt.show()\n"
      ]
    },
    {
      "cell_type": "code",
      "execution_count": 165,
      "metadata": {
        "colab": {
          "base_uri": "https://localhost:8080/",
          "height": 543
        },
        "id": "zzXhjhoLsVWr",
        "outputId": "1fe90402-50d9-43bf-9bb6-5b4ee5898bfb"
      },
      "outputs": [
        {
          "output_type": "display_data",
          "data": {
            "text/plain": [
              "<Figure size 432x288 with 1 Axes>"
            ],
            "image/png": "[encoded data removed]"
          },
          "metadata": {
            "needs_background": "light"
          }
        },
        {
          "output_type": "display_data",
          "data": {
            "text/plain": [
              "<Figure size 432x288 with 1 Axes>"
            ],
            "image/png": "[encoded data removed]"
          },
          "metadata": {
            "needs_background": "light"
          }
        }
      ],
      "source": [
        "#duration\n",
        "#2nd numerical value\n",
        "fig, ax = plt.subplots()\n",
        "ax.hist(data['duration'], bins=50, linewidth=0.5, edgecolor=\"white\")\n",
        "ax.set(ylabel=\"Quantity\", xlabel= \"Duration in seconds\", title=\"Duration Histogram & BoxPlot\")\n",
        "plt.show()\n",
        "build_boxplot(data['duration'],ver = False)\n",
        "plt.show()\n"
      ]
    },
    {
      "cell_type": "code",
      "source": [
        "desc(data['duration'])"
      ],
      "metadata": {
        "colab": {
          "base_uri": "https://localhost:8080/"
        },
        "id": "63GFRQMp8dg8",
        "outputId": "c3ad603d-5103-4fb6-bd59-f79288ddb5d6"
      },
      "execution_count": 166,
      "outputs": [
        {
          "output_type": "stream",
          "name": "stdout",
          "text": [
            "count    30547.000000\n",
            "mean       259.594199\n",
            "std        261.801595\n",
            "min          0.000000\n",
            "25%        103.000000\n",
            "50%        181.000000\n",
            "75%        321.000000\n",
            "max       4918.000000\n",
            "Name: duration, dtype: float64\n"
          ]
        }
      ]
    },
    {
      "cell_type": "code",
      "execution_count": 167,
      "metadata": {
        "colab": {
          "base_uri": "https://localhost:8080/",
          "height": 295
        },
        "id": "fFT7T8dPsVWr",
        "outputId": "2dd06f52-4af5-4028-8210-a3214a126503"
      },
      "outputs": [
        {
          "output_type": "display_data",
          "data": {
            "text/plain": [
              "<Figure size 432x288 with 1 Axes>"
            ],
            "image/png": "[encoded data removed]"
          },
          "metadata": {
            "needs_background": "light"
          }
        }
      ],
      "source": [
        "#campaign\n",
        "fig, ax = plt.subplots()\n",
        "ax.hist(data['campaign'], bins=50, linewidth=0.5, edgecolor=\"white\")\n",
        "ax.set(ylabel=\"Quantity\", xlabel= \"Number of contacts\", title=\"Campaign Histogram & BoxPlot\")\n",
        "plt.show()"
      ]
    },
    {
      "cell_type": "code",
      "execution_count": 168,
      "metadata": {
        "colab": {
          "base_uri": "https://localhost:8080/",
          "height": 295
        },
        "id": "iBQxBwSvsVWr",
        "outputId": "ee80d6dc-46c4-49c6-acda-eb3ce2a4dbda"
      },
      "outputs": [
        {
          "output_type": "display_data",
          "data": {
            "text/plain": [
              "<Figure size 432x288 with 1 Axes>"
            ],
            "image/png": "[encoded data removed]"
          },
          "metadata": {
            "needs_background": "light"
          }
        }
      ],
      "source": [
        "#pdays\n",
        "#999 == no data , so we show only the data\n",
        "\n",
        "fig, ax = plt.subplots()\n",
        "ax.hist(data['pdays'][data['pdays']!=999], bins=10, linewidth=0.5, edgecolor=\"white\")\n",
        "ax.set(ylabel=\"Quantity\", xlabel= \"Number of days\", title=\"Pdays Histogram & BoxPlot\")\n",
        "plt.show()"
      ]
    },
    {
      "cell_type": "code",
      "execution_count": 169,
      "metadata": {
        "colab": {
          "base_uri": "https://localhost:8080/",
          "height": 543
        },
        "id": "Wyq5esXxsVWr",
        "outputId": "a6d1ee9e-1e49-41db-e923-5c03d55b448f"
      },
      "outputs": [
        {
          "output_type": "display_data",
          "data": {
            "text/plain": [
              "<Figure size 432x288 with 1 Axes>"
            ],
            "image/png": "[encoded data removed]"
          },
          "metadata": {
            "needs_background": "light"
          }
        },
        {
          "output_type": "display_data",
          "data": {
            "text/plain": [
              "<Figure size 432x288 with 1 Axes>"
            ],
            "image/png": "[encoded data removed]"
          },
          "metadata": {
            "needs_background": "light"
          }
        }
      ],
      "source": [
        "#previous\n",
        "\n",
        "fig, ax = plt.subplots()\n",
        "ax.hist(data['previous'], bins=10, linewidth=0.5, edgecolor=\"white\")\n",
        "ax.set(ylabel=\"Quantity of clients\", xlabel= \"Number of previous contacts\", title=\"Number of previous contacts Histogram & BoxPlot\")\n",
        "plt.show()\n",
        "build_boxplot(data['previous'],ver = False)\n",
        "plt.show()\n"
      ]
    },
    {
      "cell_type": "code",
      "execution_count": 170,
      "metadata": {
        "colab": {
          "base_uri": "https://localhost:8080/"
        },
        "id": "DHntnl1JsVWr",
        "outputId": "41d3ba24-94c5-4f99-a5c1-c7c2aaebd351"
      },
      "outputs": [
        {
          "output_type": "execute_result",
          "data": {
            "text/plain": [
              "0.0    25877\n",
              "1.0     3766\n",
              "2.0      637\n",
              "3.0      190\n",
              "4.0       56\n",
              "5.0       16\n",
              "6.0        4\n",
              "7.0        1\n",
              "Name: previous, dtype: int64"
            ]
          },
          "metadata": {},
          "execution_count": 170
        }
      ],
      "source": [
        "data['previous'].value_counts()"
      ]
    },
    {
      "cell_type": "code",
      "execution_count": null,
      "metadata": {
        "id": "IBVZiMQmsVWr"
      },
      "outputs": [],
      "source": [
        "#poutcome\n",
        "\n",
        "d = data['poutcome'].replace((True,False),(0,1))\n",
        "fig, ax = plt.subplots()\n",
        "ax.hist(d, bins=15, linewidth=1, edgecolor=\"white\")\n",
        "ax.set(ylabel=\"Count\", xlabel= \"Outcome Status\", title=\"Outcome of the previous marketing campaign Histogram\")\n",
        "plt.show()"
      ]
    },
    {
      "cell_type": "code",
      "execution_count": 172,
      "metadata": {
        "colab": {
          "base_uri": "https://localhost:8080/",
          "height": 295
        },
        "id": "dKq6ycLisVWr",
        "outputId": "465d9018-d70c-494e-b5d0-55ed3e1355a9"
      },
      "outputs": [
        {
          "output_type": "display_data",
          "data": {
            "text/plain": [
              "<Figure size 432x288 with 1 Axes>"
            ],
            "image/png": "[encoded data removed]"
          },
          "metadata": {
            "needs_background": "light"
          }
        }
      ],
      "source": [
        "#emp.var.rate\n",
        "\n",
        "fig, ax = plt.subplots()\n",
        "ax.hist(data['emp.var.rate'], bins=10, linewidth=0.5, edgecolor=\"white\")\n",
        "ax.set(ylabel=\"Count\", xlabel= \"Value\", title=\"Employment variation rate Histogram & BoxPlot\")\n",
        "plt.show()"
      ]
    },
    {
      "cell_type": "code",
      "execution_count": 174,
      "metadata": {
        "colab": {
          "base_uri": "https://localhost:8080/",
          "height": 543
        },
        "id": "eD7oPdhHsVWs",
        "outputId": "ae1396e3-6e88-45da-afd1-c0cd1025b826"
      },
      "outputs": [
        {
          "output_type": "display_data",
          "data": {
            "text/plain": [
              "<Figure size 432x288 with 1 Axes>"
            ],
            "image/png": "[encoded data removed]"
          },
          "metadata": {
            "needs_background": "light"
          }
        },
        {
          "output_type": "display_data",
          "data": {
            "text/plain": [
              "<Figure size 432x288 with 1 Axes>"
            ],
            "image/png": "[encoded data removed]"
          },
          "metadata": {
            "needs_background": "light"
          }
        }
      ],
      "source": [
        "#cons.price.idx\n",
        "\n",
        "fig, ax = plt.subplots()\n",
        "ax.hist(data['cons.price.idx'], bins=10, linewidth=0.5, edgecolor=\"white\")\n",
        "ax.set(ylabel=\"Count\", xlabel= \"Value\", title=\"Consumer price index Histogram & BoxPlot\")\n",
        "plt.show()\n",
        "build_boxplot(data['cons.price.idx'],ver = False)\n",
        "plt.show()\n"
      ]
    },
    {
      "cell_type": "code",
      "execution_count": 175,
      "metadata": {
        "colab": {
          "base_uri": "https://localhost:8080/",
          "height": 543
        },
        "id": "tduW8mMCsVWs",
        "outputId": "22a12a76-b5a3-48e6-e9cb-8dcf6be54d38"
      },
      "outputs": [
        {
          "output_type": "display_data",
          "data": {
            "text/plain": [
              "<Figure size 432x288 with 1 Axes>"
            ],
            "image/png": "[encoded data removed]"
          },
          "metadata": {
            "needs_background": "light"
          }
        },
        {
          "output_type": "display_data",
          "data": {
            "text/plain": [
              "<Figure size 432x288 with 1 Axes>"
            ],
            "image/png": "[encoded data removed]"
          },
          "metadata": {
            "needs_background": "light"
          }
        }
      ],
      "source": [
        "#cons.conf.idx\n",
        "\n",
        "fig, ax = plt.subplots()\n",
        "ax.hist(data['cons.conf.idx'], bins=10, linewidth=0.5, edgecolor=\"white\")\n",
        "ax.set(ylabel=\"Count\", xlabel= \"Value\", title=\"Consumer confidence index Histogram & BoxPlot\")\n",
        "plt.show()\n",
        "build_boxplot(data['cons.conf.idx'],ver = False)\n",
        "plt.show()\n"
      ]
    },
    {
      "cell_type": "code",
      "execution_count": 176,
      "metadata": {
        "colab": {
          "base_uri": "https://localhost:8080/",
          "height": 295
        },
        "id": "KOZ7zV8isVWs",
        "outputId": "0578b56f-cb9c-4902-a52c-6f72cf245c09"
      },
      "outputs": [
        {
          "output_type": "display_data",
          "data": {
            "text/plain": [
              "<Figure size 432x288 with 1 Axes>"
            ],
            "image/png": "[encoded data removed]"
          },
          "metadata": {
            "needs_background": "light"
          }
        }
      ],
      "source": [
        "#euribor3m\n",
        "\n",
        "fig, ax = plt.subplots()\n",
        "ax.hist(data['euribor3m'], bins=30, linewidth=0.5, edgecolor=\"white\")\n",
        "ax.set(ylabel=\"Count\", xlabel= \"Value\", title=\"Euribor 3 month rate Histogram & BoxPlot\")\n",
        "plt.show()\n"
      ]
    },
    {
      "cell_type": "code",
      "execution_count": 177,
      "metadata": {
        "colab": {
          "base_uri": "https://localhost:8080/",
          "height": 295
        },
        "id": "PFfssEJbsVWs",
        "outputId": "c71f1456-38a7-4e9d-8ada-da090c757ba0"
      },
      "outputs": [
        {
          "output_type": "display_data",
          "data": {
            "text/plain": [
              "<Figure size 432x288 with 1 Axes>"
            ],
            "image/png": "[encoded data removed]"
          },
          "metadata": {
            "needs_background": "light"
          }
        }
      ],
      "source": [
        "#nr.employed\n",
        "\n",
        "fig, ax = plt.subplots()\n",
        "ax.hist(data['nr.employed'], bins=10, linewidth=0.5, edgecolor=\"white\")\n",
        "ax.set(ylabel=\"Quantity\", xlabel= \"Value\", title=\"Number of Employees Histogram & BoxPlot\")\n",
        "plt.show()\n"
      ]
    },
    {
      "cell_type": "code",
      "execution_count": 178,
      "metadata": {
        "colab": {
          "base_uri": "https://localhost:8080/",
          "height": 295
        },
        "id": "i1tY7SJ0sVWs",
        "outputId": "8ab9d45a-393d-4eed-f201-a6a6bee2600a"
      },
      "outputs": [
        {
          "output_type": "display_data",
          "data": {
            "text/plain": [
              "<Figure size 432x288 with 1 Axes>"
            ],
            "image/png": "[encoded data removed]"
          },
          "metadata": {
            "needs_background": "light"
          }
        }
      ],
      "source": [
        "#y\n",
        "\n",
        "d = data['y'].replace((True,False),(0,1))\n",
        "fig, ax = plt.subplots()\n",
        "ax.hist(d, bins=15, linewidth=1, edgecolor=\"white\")\n",
        "ax.set(ylabel=\"Count\", xlabel= \"Subscription Status\", title=\"Subscription of term deposit Histogram\")\n",
        "plt.show()\n"
      ]
    },
    {
      "cell_type": "markdown",
      "source": [
        "# **Research questions:**\n",
        "\n",
        "\n",
        "1.   Does the age of the client influences on the last contact duration ?\n",
        "2.   Does the age of the client influences on his orientation to contract a personal loan ?\n",
        "3.   Does the number of contacts performed before this campaign and for a client influences the outcome of the previous marketing campaign ?\n",
        "\n"
      ],
      "metadata": {
        "id": "dZCWSbHfud_Z"
      }
    },
    {
      "cell_type": "code",
      "source": [
        "%%shell\n",
        "jupyter nbconvert --to html /content/ProjectEx1_342791324_211497235.ipynb"
      ],
      "metadata": {
        "id": "4hj46H6F3i5m"
      },
      "execution_count": null,
      "outputs": []
    }
  ],
  "metadata": {
    "colab": {
      "provenance": [],
      "collapsed_sections": []
    },
    "kernelspec": {
      "display_name": "Python 3.9.6 64-bit",
      "language": "python",
      "name": "python3"
    },
    "language_info": {
      "codemirror_mode": {
        "name": "ipython",
        "version": 3
      },
      "file_extension": ".py",
      "mimetype": "text/x-python",
      "name": "python",
      "nbconvert_exporter": "python",
      "pygments_lexer": "ipython3",
      "version": "3.9.6"
    },
    "orig_nbformat": 4,
    "vscode": {
      "interpreter": {
        "hash": "11938c6bc6919ae2720b4d5011047913343b08a43b18698fd82dedb0d4417594"
      }
    }
  },
  "nbformat": 4,
  "nbformat_minor": 0
}